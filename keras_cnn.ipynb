{
 "cells": [
  {
   "cell_type": "code",
   "execution_count": null,
   "metadata": {},
   "outputs": [],
   "source": [
    "\n",
    "import tensorflow as tf\n",
    "import keras \n",
    "\n",
    "## 데이터 셋 로드\n",
    "(x_train,y_train),(x_test,y_test) = tf.keras.datasets.mnist.load_data()\n",
    "\n",
    "img_rows= 28\n",
    "img_cols = 28\n",
    "## mnist의 이미지 크기\n",
    "inputshape=(img_rows, img_cols ,1)\n",
    "\n",
    "## valid dataset 까지 나눠줘야함 / x_train.reshape(전체 데이터수 , rows , cols)\n",
    "x_train =x_train.reshape(x_train.shape[0], img_rows, img_cols,1)\n",
    "x_test = x_test.reshape(x_test.shape[0], img_rows, img_cols,1)\n",
    "\n",
    "## 노멀라이즈의 효과 흰=0 ~ 검 255 따라서 제일 큰 값으로 나눠줌 // normalize =True와 같은 효과\n",
    "x_train = x_train.astype('float32')/ 255\n",
    "x_test = x_test.astype('float32')/ 255\n",
    "\n",
    "x_train.shape\n",
    "x_test.shape\n",
    "\n",
    "len(x_train)\n",
    "\n",
    "batch_size = 128\n",
    "num_classes = 10\n",
    "epochs=10\n",
    "\n",
    "## to_categorical(데이터수 , 컬럼수(컬럼수 만큼 one-hot))) = one-hot encode\n",
    "y_train= keras.utils.to_categorical(y_train, num_classes)\n",
    "y_test= keras.utils.to_categorical(y_test, num_classes)\n"
   ]
  },
  {
   "cell_type": "code",
   "execution_count": null,
   "metadata": {},
   "outputs": [],
   "source": [
    "\n",
    "from keras.models import Sequential\n",
    "from keras.layers import Dense, Flatten, Conv2D, MaxPooling2D\n",
    "## 특징학습\n",
    "## 합성곱과 풀링(특징은 그대로 이미지 사이즈는 반으로 --> 학습대상 파라미터 수 감소)  \n",
    "model = Sequential()\n",
    "model.add(Conv2D(filters =10 , kernel_size =5 , strides=1,  activation= 'relu', input_shape=inputshape))\n",
    "model.add(MaxPooling2D(pool_size =2 ))\n",
    "model.add(Conv2D(filters =20 , kernel_size =5 , strides=1, activation= 'relu'  ))\n",
    "model.add(MaxPooling2D(pool_size =2 ))\n",
    "## 분류\n",
    "## 1차원으로 변환\n",
    "model.add(Flatten())\n",
    "# NN forward \n",
    "model.add(Dense(4096, activation='relu'))      \n",
    "model.add(Dense(10, activation='softmax'))\n",
    "\n"
   ]
  },
  {
   "cell_type": "code",
   "execution_count": null,
   "metadata": {},
   "outputs": [],
   "source": [
    "\n",
    "## 모델의 학습 방식에 대한 환경 설정 // 분류 문제이기 때문에 기준(matrics)는 accuracy 사용\n",
    "model.compile(loss ='categorical_crossentropy', optimizer= 'adam', metrics=['accuracy'])\n"
   ]
  },
  {
   "cell_type": "code",
   "execution_count": null,
   "metadata": {},
   "outputs": [],
   "source": [
    "\n",
    "## validation_data = training dataset의 일부를 떼어서 검증데이터로 활용\n",
    "model.fit(x_train, y_train, batch_size = batch_size, epochs= epochs, verbose=1, validation_data=(x_test,y_test))\n"
   ]
  },
  {
   "cell_type": "code",
   "execution_count": null,
   "metadata": {},
   "outputs": [],
   "source": [
    "\n",
    "## 찐 테스트\n",
    "score = model.evaluate(x_test, y_test, verbose =0)\n",
    "\n",
    "print(score[0], score[1])\n",
    "\n",
    "print(score)\n"
   ]
  }
 ],
 "metadata": {
  "kernelspec": {
   "display_name": "base",
   "language": "python",
   "name": "python3"
  },
  "language_info": {
   "name": "python",
   "version": "3.9.13 (main, Aug 25 2022, 23:51:50) [MSC v.1916 64 bit (AMD64)]"
  },
  "orig_nbformat": 4,
  "vscode": {
   "interpreter": {
    "hash": "49e04899c6e094c3b61dd8509fde2649571811ca1eef12c1c216e72ad0930740"
   }
  }
 },
 "nbformat": 4,
 "nbformat_minor": 2
}
