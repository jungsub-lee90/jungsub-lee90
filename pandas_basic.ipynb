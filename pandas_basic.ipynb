{
 "cells": [
  {
   "cell_type": "code",
   "execution_count": 1,
   "id": "3de475c0-3e5a-4114-9a27-d4104a0d521f",
   "metadata": {},
   "outputs": [],
   "source": [
    "## PANDAS 맛보기\n",
    "import pandas as pd"
   ]
  },
  {
   "cell_type": "code",
   "execution_count": 2,
   "id": "2c4c3edf-2da8-4489-b32d-f659c90f0b62",
   "metadata": {},
   "outputs": [
    {
     "name": "stdout",
     "output_type": "stream",
     "text": [
      "<class 'list'>\n"
     ]
    }
   ],
   "source": [
    "list_tstr = ['a','b','c']\n",
    "print (type(list_tstr))"
   ]
  },
  {
   "cell_type": "code",
   "execution_count": 8,
   "id": "f8f20eeb-b7dc-4447-9f03-014be31d968b",
   "metadata": {},
   "outputs": [],
   "source": [
    "## 시리즈는 판다스에 가장 낮은(초기, 기초) 단계\n",
    "## 리스트를 시리즈에 넣었다 인덱스를 바꿔서 정의\n",
    "series_var= pd.Series(list_tstr, index=[3,4,5])"
   ]
  },
  {
   "cell_type": "code",
   "execution_count": 17,
   "id": "c1951052-8b78-4245-9066-5350ae519380",
   "metadata": {},
   "outputs": [
    {
     "data": {
      "text/plain": [
       "'a'"
      ]
     },
     "execution_count": 17,
     "metadata": {},
     "output_type": "execute_result"
    }
   ],
   "source": [
    "## 인덱스로 가져오기\n",
    "series_var[3]"
   ]
  },
  {
   "cell_type": "code",
   "execution_count": 10,
   "id": "006ce821-1c05-4444-8135-0058c14f9df4",
   "metadata": {},
   "outputs": [
    {
     "data": {
      "text/plain": [
       "a    3\n",
       "b    4\n",
       "c    5\n",
       "dtype: int64"
      ]
     },
     "execution_count": 10,
     "metadata": {},
     "output_type": "execute_result"
    }
   ],
   "source": [
    "dic = {'a':3, 'b':4, 'c':5}\n",
    "s_dic = pd.Series(dic)\n",
    "s_dic"
   ]
  },
  {
   "cell_type": "code",
   "execution_count": 11,
   "id": "b6e76a87-3be5-4da7-8c03-efe8a8566080",
   "metadata": {},
   "outputs": [
    {
     "data": {
      "text/plain": [
       "3"
      ]
     },
     "execution_count": 11,
     "metadata": {},
     "output_type": "execute_result"
    }
   ],
   "source": [
    "s_dic['a']"
   ]
  },
  {
   "cell_type": "code",
   "execution_count": 18,
   "id": "3878f845-6648-40d5-834d-b1220514b6cc",
   "metadata": {},
   "outputs": [],
   "source": [
    "## 임의의 널값을 넣을 때는 None\n",
    "dic_p={'name' : ['ho','jung','lee'],\n",
    "      'age' : [19, 22, None],\n",
    "       'grade' : ['A', 'B', None] \n",
    "      }\n",
    "df=pd.DataFrame(dic_p)"
   ]
  },
  {
   "cell_type": "code",
   "execution_count": 19,
   "id": "5f0d22ac-d36c-450e-b44d-5e687a80ee53",
   "metadata": {},
   "outputs": [
    {
     "data": {
      "text/html": [
       "<div>\n",
       "<style scoped>\n",
       "    .dataframe tbody tr th:only-of-type {\n",
       "        vertical-align: middle;\n",
       "    }\n",
       "\n",
       "    .dataframe tbody tr th {\n",
       "        vertical-align: top;\n",
       "    }\n",
       "\n",
       "    .dataframe thead th {\n",
       "        text-align: right;\n",
       "    }\n",
       "</style>\n",
       "<table border=\"1\" class=\"dataframe\">\n",
       "  <thead>\n",
       "    <tr style=\"text-align: right;\">\n",
       "      <th></th>\n",
       "      <th>name</th>\n",
       "      <th>age</th>\n",
       "      <th>grade</th>\n",
       "    </tr>\n",
       "  </thead>\n",
       "  <tbody>\n",
       "    <tr>\n",
       "      <th>0</th>\n",
       "      <td>ho</td>\n",
       "      <td>19.0</td>\n",
       "      <td>A</td>\n",
       "    </tr>\n",
       "    <tr>\n",
       "      <th>1</th>\n",
       "      <td>jung</td>\n",
       "      <td>22.0</td>\n",
       "      <td>B</td>\n",
       "    </tr>\n",
       "    <tr>\n",
       "      <th>2</th>\n",
       "      <td>lee</td>\n",
       "      <td>NaN</td>\n",
       "      <td>None</td>\n",
       "    </tr>\n",
       "  </tbody>\n",
       "</table>\n",
       "</div>"
      ],
      "text/plain": [
       "   name   age grade\n",
       "0    ho  19.0     A\n",
       "1  jung  22.0     B\n",
       "2   lee   NaN  None"
      ]
     },
     "execution_count": 19,
     "metadata": {},
     "output_type": "execute_result"
    }
   ],
   "source": [
    "type(df)\n",
    "df"
   ]
  },
  {
   "cell_type": "code",
   "execution_count": 20,
   "id": "942ebbdc-491f-42b5-933b-123dd3fc8c93",
   "metadata": {},
   "outputs": [
    {
     "data": {
      "text/plain": [
       "20.5"
      ]
     },
     "execution_count": 20,
     "metadata": {},
     "output_type": "execute_result"
    }
   ],
   "source": [
    "df['age'].mean()"
   ]
  },
  {
   "cell_type": "code",
   "execution_count": 21,
   "id": "b1eb031a-628f-4043-b041-ab752b54e001",
   "metadata": {},
   "outputs": [
    {
     "data": {
      "text/plain": [
       "0    19.0\n",
       "1    22.0\n",
       "2     NaN\n",
       "Name: age, dtype: float64"
      ]
     },
     "execution_count": 21,
     "metadata": {},
     "output_type": "execute_result"
    }
   ],
   "source": [
    "df['age']"
   ]
  },
  {
   "cell_type": "code",
   "execution_count": 22,
   "id": "7f945678-9c71-473f-9ede-2eb1d7656de7",
   "metadata": {},
   "outputs": [
    {
     "data": {
      "text/html": [
       "<div>\n",
       "<style scoped>\n",
       "    .dataframe tbody tr th:only-of-type {\n",
       "        vertical-align: middle;\n",
       "    }\n",
       "\n",
       "    .dataframe tbody tr th {\n",
       "        vertical-align: top;\n",
       "    }\n",
       "\n",
       "    .dataframe thead th {\n",
       "        text-align: right;\n",
       "    }\n",
       "</style>\n",
       "<table border=\"1\" class=\"dataframe\">\n",
       "  <thead>\n",
       "    <tr style=\"text-align: right;\">\n",
       "      <th></th>\n",
       "      <th>name</th>\n",
       "      <th>age</th>\n",
       "      <th>grade</th>\n",
       "    </tr>\n",
       "  </thead>\n",
       "  <tbody>\n",
       "    <tr>\n",
       "      <th>0</th>\n",
       "      <td>ho</td>\n",
       "      <td>19.0</td>\n",
       "      <td>A</td>\n",
       "    </tr>\n",
       "    <tr>\n",
       "      <th>1</th>\n",
       "      <td>jung</td>\n",
       "      <td>22.0</td>\n",
       "      <td>B</td>\n",
       "    </tr>\n",
       "    <tr>\n",
       "      <th>2</th>\n",
       "      <td>lee</td>\n",
       "      <td>NaN</td>\n",
       "      <td>None</td>\n",
       "    </tr>\n",
       "  </tbody>\n",
       "</table>\n",
       "</div>"
      ],
      "text/plain": [
       "   name   age grade\n",
       "0    ho  19.0     A\n",
       "1  jung  22.0     B\n",
       "2   lee   NaN  None"
      ]
     },
     "execution_count": 22,
     "metadata": {},
     "output_type": "execute_result"
    }
   ],
   "source": [
    "df"
   ]
  },
  {
   "cell_type": "code",
   "execution_count": 23,
   "id": "5fb284a8-20db-444e-9929-5cb5b9ab421f",
   "metadata": {},
   "outputs": [
    {
     "data": {
      "text/plain": [
       "(3, 3)"
      ]
     },
     "execution_count": 23,
     "metadata": {},
     "output_type": "execute_result"
    }
   ],
   "source": [
    "df.shape\n"
   ]
  },
  {
   "cell_type": "code",
   "execution_count": 24,
   "id": "ebb859e3-eb22-4eb5-b84c-39e0755443ce",
   "metadata": {},
   "outputs": [
    {
     "name": "stdout",
     "output_type": "stream",
     "text": [
      "<class 'pandas.core.frame.DataFrame'>\n",
      "RangeIndex: 3 entries, 0 to 2\n",
      "Data columns (total 3 columns):\n",
      " #   Column  Non-Null Count  Dtype  \n",
      "---  ------  --------------  -----  \n",
      " 0   name    3 non-null      object \n",
      " 1   age     2 non-null      float64\n",
      " 2   grade   2 non-null      object \n",
      "dtypes: float64(1), object(2)\n",
      "memory usage: 200.0+ bytes\n"
     ]
    }
   ],
   "source": [
    "df.info()"
   ]
  },
  {
   "cell_type": "code",
   "execution_count": 25,
   "id": "df53f26b-9d3f-4cf7-9784-ad497c40dbfe",
   "metadata": {},
   "outputs": [
    {
     "data": {
      "text/plain": [
       "name     0\n",
       "age      1\n",
       "grade    1\n",
       "dtype: int64"
      ]
     },
     "execution_count": 25,
     "metadata": {},
     "output_type": "execute_result"
    }
   ],
   "source": [
    "## 데이터의 널 여부 체크 // 결측치 확인\n",
    "df.isnull().sum()"
   ]
  },
  {
   "cell_type": "code",
   "execution_count": 26,
   "id": "10abd219-2105-471b-8a4f-d57c47d8e167",
   "metadata": {},
   "outputs": [
    {
     "data": {
      "text/plain": [
       "Index(['name', 'age', 'grade'], dtype='object')"
      ]
     },
     "execution_count": 26,
     "metadata": {},
     "output_type": "execute_result"
    }
   ],
   "source": [
    "df.columns"
   ]
  },
  {
   "cell_type": "code",
   "execution_count": 27,
   "id": "b5d16953-be05-43cd-8a72-972006cc5be9",
   "metadata": {},
   "outputs": [
    {
     "name": "stdout",
     "output_type": "stream",
     "text": [
      "name\n",
      "age\n",
      "grade\n"
     ]
    }
   ],
   "source": [
    "for col in df.columns :\n",
    "    print(col)"
   ]
  },
  {
   "cell_type": "code",
   "execution_count": 28,
   "id": "e6e45318-b4ff-4a81-b8c8-8729f26f264e",
   "metadata": {},
   "outputs": [
    {
     "data": {
      "text/plain": [
       "[0, 1, 2]"
      ]
     },
     "execution_count": 28,
     "metadata": {},
     "output_type": "execute_result"
    }
   ],
   "source": [
    "list(df.index)"
   ]
  },
  {
   "cell_type": "code",
   "execution_count": 29,
   "id": "39497d49-ba51-47d3-8a1c-a4751022a940",
   "metadata": {},
   "outputs": [
    {
     "data": {
      "text/html": [
       "<div>\n",
       "<style scoped>\n",
       "    .dataframe tbody tr th:only-of-type {\n",
       "        vertical-align: middle;\n",
       "    }\n",
       "\n",
       "    .dataframe tbody tr th {\n",
       "        vertical-align: top;\n",
       "    }\n",
       "\n",
       "    .dataframe thead th {\n",
       "        text-align: right;\n",
       "    }\n",
       "</style>\n",
       "<table border=\"1\" class=\"dataframe\">\n",
       "  <thead>\n",
       "    <tr style=\"text-align: right;\">\n",
       "      <th></th>\n",
       "      <th>name</th>\n",
       "      <th>age</th>\n",
       "      <th>grade</th>\n",
       "    </tr>\n",
       "  </thead>\n",
       "  <tbody>\n",
       "    <tr>\n",
       "      <th>0</th>\n",
       "      <td>ho</td>\n",
       "      <td>19.0</td>\n",
       "      <td>A</td>\n",
       "    </tr>\n",
       "    <tr>\n",
       "      <th>1</th>\n",
       "      <td>jung</td>\n",
       "      <td>22.0</td>\n",
       "      <td>B</td>\n",
       "    </tr>\n",
       "    <tr>\n",
       "      <th>2</th>\n",
       "      <td>lee</td>\n",
       "      <td>NaN</td>\n",
       "      <td>None</td>\n",
       "    </tr>\n",
       "  </tbody>\n",
       "</table>\n",
       "</div>"
      ],
      "text/plain": [
       "   name   age grade\n",
       "0    ho  19.0     A\n",
       "1  jung  22.0     B\n",
       "2   lee   NaN  None"
      ]
     },
     "execution_count": 29,
     "metadata": {},
     "output_type": "execute_result"
    }
   ],
   "source": [
    "df"
   ]
  },
  {
   "cell_type": "code",
   "execution_count": 30,
   "id": "69988353-79f8-419a-a38f-ec29d578a6e2",
   "metadata": {},
   "outputs": [],
   "source": [
    "##- loc _ index based.\n",
    "##- iloc_ rownum based\n",
    "dic_p={'name' : ['ho','jung','lee'],\n",
    "      'age' : [19, 22, 12],\n",
    "       'grade' : ['A', 'B', 'D'] \n",
    "      }\n",
    "df=pd.DataFrame(dic_p, index=['a','b', 'c'])"
   ]
  },
  {
   "cell_type": "code",
   "execution_count": 31,
   "id": "f0fb6b54-bf99-4a1c-bdb8-d19af37e06a2",
   "metadata": {},
   "outputs": [
    {
     "data": {
      "text/plain": [
       "'D'"
      ]
     },
     "execution_count": 31,
     "metadata": {},
     "output_type": "execute_result"
    }
   ],
   "source": [
    "## index based _ loc c 열의 grade를 가져옴\n",
    "df.loc['c']['grade']"
   ]
  },
  {
   "cell_type": "code",
   "execution_count": 32,
   "id": "e8aee023-77f6-4fce-badf-854a05d523ce",
   "metadata": {},
   "outputs": [
    {
     "data": {
      "text/html": [
       "<div>\n",
       "<style scoped>\n",
       "    .dataframe tbody tr th:only-of-type {\n",
       "        vertical-align: middle;\n",
       "    }\n",
       "\n",
       "    .dataframe tbody tr th {\n",
       "        vertical-align: top;\n",
       "    }\n",
       "\n",
       "    .dataframe thead th {\n",
       "        text-align: right;\n",
       "    }\n",
       "</style>\n",
       "<table border=\"1\" class=\"dataframe\">\n",
       "  <thead>\n",
       "    <tr style=\"text-align: right;\">\n",
       "      <th></th>\n",
       "      <th>name</th>\n",
       "      <th>age</th>\n",
       "      <th>grade</th>\n",
       "    </tr>\n",
       "  </thead>\n",
       "  <tbody>\n",
       "    <tr>\n",
       "      <th>b</th>\n",
       "      <td>jung</td>\n",
       "      <td>22</td>\n",
       "      <td>B</td>\n",
       "    </tr>\n",
       "    <tr>\n",
       "      <th>c</th>\n",
       "      <td>lee</td>\n",
       "      <td>12</td>\n",
       "      <td>D</td>\n",
       "    </tr>\n",
       "  </tbody>\n",
       "</table>\n",
       "</div>"
      ],
      "text/plain": [
       "   name  age grade\n",
       "b  jung   22     B\n",
       "c   lee   12     D"
      ]
     },
     "execution_count": 32,
     "metadata": {},
     "output_type": "execute_result"
    }
   ],
   "source": [
    "## iloc 는 row를 가져온다 df.iloc[val] // 여기서 val은 row num (not index)\n",
    "df.iloc[1:]"
   ]
  },
  {
   "cell_type": "code",
   "execution_count": 33,
   "id": "ccf07c9b-237d-4ff8-86a9-363c6ec6b9c9",
   "metadata": {},
   "outputs": [],
   "source": [
    "## 새로운 df 생성\n",
    "df2= df[['name', 'grade']]"
   ]
  },
  {
   "cell_type": "code",
   "execution_count": 34,
   "id": "d4ab3573-74d4-409e-aab6-a825696ad81c",
   "metadata": {},
   "outputs": [
    {
     "data": {
      "text/html": [
       "<div>\n",
       "<style scoped>\n",
       "    .dataframe tbody tr th:only-of-type {\n",
       "        vertical-align: middle;\n",
       "    }\n",
       "\n",
       "    .dataframe tbody tr th {\n",
       "        vertical-align: top;\n",
       "    }\n",
       "\n",
       "    .dataframe thead th {\n",
       "        text-align: right;\n",
       "    }\n",
       "</style>\n",
       "<table border=\"1\" class=\"dataframe\">\n",
       "  <thead>\n",
       "    <tr style=\"text-align: right;\">\n",
       "      <th></th>\n",
       "      <th>name</th>\n",
       "      <th>grade</th>\n",
       "    </tr>\n",
       "  </thead>\n",
       "  <tbody>\n",
       "    <tr>\n",
       "      <th>a</th>\n",
       "      <td>ho</td>\n",
       "      <td>A</td>\n",
       "    </tr>\n",
       "    <tr>\n",
       "      <th>b</th>\n",
       "      <td>jung</td>\n",
       "      <td>B</td>\n",
       "    </tr>\n",
       "    <tr>\n",
       "      <th>c</th>\n",
       "      <td>lee</td>\n",
       "      <td>D</td>\n",
       "    </tr>\n",
       "  </tbody>\n",
       "</table>\n",
       "</div>"
      ],
      "text/plain": [
       "   name grade\n",
       "a    ho     A\n",
       "b  jung     B\n",
       "c   lee     D"
      ]
     },
     "execution_count": 34,
     "metadata": {},
     "output_type": "execute_result"
    }
   ],
   "source": [
    "df2"
   ]
  },
  {
   "cell_type": "code",
   "execution_count": 35,
   "id": "b6eedf51-f745-43d9-9c37-7a3c7d4c6fc5",
   "metadata": {},
   "outputs": [
    {
     "data": {
      "text/html": [
       "<div>\n",
       "<style scoped>\n",
       "    .dataframe tbody tr th:only-of-type {\n",
       "        vertical-align: middle;\n",
       "    }\n",
       "\n",
       "    .dataframe tbody tr th {\n",
       "        vertical-align: top;\n",
       "    }\n",
       "\n",
       "    .dataframe thead th {\n",
       "        text-align: right;\n",
       "    }\n",
       "</style>\n",
       "<table border=\"1\" class=\"dataframe\">\n",
       "  <thead>\n",
       "    <tr style=\"text-align: right;\">\n",
       "      <th></th>\n",
       "      <th>name</th>\n",
       "      <th>age</th>\n",
       "      <th>grade</th>\n",
       "    </tr>\n",
       "  </thead>\n",
       "  <tbody>\n",
       "    <tr>\n",
       "      <th>b</th>\n",
       "      <td>jung</td>\n",
       "      <td>22</td>\n",
       "      <td>B</td>\n",
       "    </tr>\n",
       "  </tbody>\n",
       "</table>\n",
       "</div>"
      ],
      "text/plain": [
       "   name  age grade\n",
       "b  jung   22     B"
      ]
     },
     "execution_count": 35,
     "metadata": {},
     "output_type": "execute_result"
    }
   ],
   "source": [
    "## age less than 30 df로 원하는 값만큼 필터링 df['age'] < 15 \n",
    "## 해당 필터된 영역을 df [] 로 다시 감싼다 df[df['age']<15]\n",
    "## 조건식이 n개인 경우\n",
    "df[(df['age']<30) & (df['grade'].str.upper()=='B')]"
   ]
  },
  {
   "cell_type": "code",
   "execution_count": 36,
   "id": "7bd61b6d-424d-4b12-8c96-23d5719d516f",
   "metadata": {},
   "outputs": [
    {
     "data": {
      "text/plain": [
       "a    A\n",
       "b    B\n",
       "c    D\n",
       "Name: grade, dtype: object"
      ]
     },
     "execution_count": 36,
     "metadata": {},
     "output_type": "execute_result"
    }
   ],
   "source": [
    "## string으로 바꾸고 대문자로 \n",
    "df['grade'].str.upper()"
   ]
  },
  {
   "cell_type": "code",
   "execution_count": 37,
   "id": "1d34d28b-2c21-48b9-bde5-e755190c9967",
   "metadata": {},
   "outputs": [],
   "source": [
    "df['name']=df ['name'].str.upper()"
   ]
  },
  {
   "cell_type": "code",
   "execution_count": 38,
   "id": "fc59c5ac-6d37-4e97-b4e4-d09371be7de2",
   "metadata": {},
   "outputs": [
    {
     "data": {
      "text/html": [
       "<div>\n",
       "<style scoped>\n",
       "    .dataframe tbody tr th:only-of-type {\n",
       "        vertical-align: middle;\n",
       "    }\n",
       "\n",
       "    .dataframe tbody tr th {\n",
       "        vertical-align: top;\n",
       "    }\n",
       "\n",
       "    .dataframe thead th {\n",
       "        text-align: right;\n",
       "    }\n",
       "</style>\n",
       "<table border=\"1\" class=\"dataframe\">\n",
       "  <thead>\n",
       "    <tr style=\"text-align: right;\">\n",
       "      <th></th>\n",
       "      <th>name</th>\n",
       "      <th>age</th>\n",
       "      <th>grade</th>\n",
       "    </tr>\n",
       "  </thead>\n",
       "  <tbody>\n",
       "    <tr>\n",
       "      <th>a</th>\n",
       "      <td>HO</td>\n",
       "      <td>19</td>\n",
       "      <td>A</td>\n",
       "    </tr>\n",
       "    <tr>\n",
       "      <th>b</th>\n",
       "      <td>JUNG</td>\n",
       "      <td>22</td>\n",
       "      <td>B</td>\n",
       "    </tr>\n",
       "    <tr>\n",
       "      <th>c</th>\n",
       "      <td>LEE</td>\n",
       "      <td>12</td>\n",
       "      <td>D</td>\n",
       "    </tr>\n",
       "  </tbody>\n",
       "</table>\n",
       "</div>"
      ],
      "text/plain": [
       "   name  age grade\n",
       "a    HO   19     A\n",
       "b  JUNG   22     B\n",
       "c   LEE   12     D"
      ]
     },
     "execution_count": 38,
     "metadata": {},
     "output_type": "execute_result"
    }
   ],
   "source": [
    "df"
   ]
  },
  {
   "cell_type": "code",
   "execution_count": 58,
   "id": "4c3b6cf1-828a-492a-8d67-07ae3f5af273",
   "metadata": {},
   "outputs": [],
   "source": [
    "df = pd.read_html('https://www.fdic.gov/resources/resolutions/bank-failures/failed-bank-list/')"
   ]
  },
  {
   "cell_type": "code",
   "execution_count": 56,
   "id": "e825a150-fc1a-4b86-b3da-7c4b7def6177",
   "metadata": {},
   "outputs": [],
   "source": [
    "#하나의 리스트에 다 담겨있다.\n",
    "df=df[0]"
   ]
  },
  {
   "cell_type": "code",
   "execution_count": 57,
   "id": "0b08bb04-da05-4063-a3f6-120af2ce2ba9",
   "metadata": {},
   "outputs": [
    {
     "data": {
      "text/html": [
       "<div>\n",
       "<style scoped>\n",
       "    .dataframe tbody tr th:only-of-type {\n",
       "        vertical-align: middle;\n",
       "    }\n",
       "\n",
       "    .dataframe tbody tr th {\n",
       "        vertical-align: top;\n",
       "    }\n",
       "\n",
       "    .dataframe thead th {\n",
       "        text-align: right;\n",
       "    }\n",
       "</style>\n",
       "<table border=\"1\" class=\"dataframe\">\n",
       "  <thead>\n",
       "    <tr style=\"text-align: right;\">\n",
       "      <th></th>\n",
       "      <th>Bank NameBank</th>\n",
       "      <th>CityCity</th>\n",
       "      <th>StateSt</th>\n",
       "      <th>CertCert</th>\n",
       "      <th>Acquiring InstitutionAI</th>\n",
       "      <th>Closing DateClosing</th>\n",
       "      <th>FundFund</th>\n",
       "    </tr>\n",
       "  </thead>\n",
       "  <tbody>\n",
       "    <tr>\n",
       "      <th>0</th>\n",
       "      <td>Almena State Bank</td>\n",
       "      <td>Almena</td>\n",
       "      <td>KS</td>\n",
       "      <td>15426</td>\n",
       "      <td>Equity Bank</td>\n",
       "      <td>October 23, 2020</td>\n",
       "      <td>10538</td>\n",
       "    </tr>\n",
       "    <tr>\n",
       "      <th>1</th>\n",
       "      <td>First City Bank of Florida</td>\n",
       "      <td>Fort Walton Beach</td>\n",
       "      <td>FL</td>\n",
       "      <td>16748</td>\n",
       "      <td>United Fidelity Bank, fsb</td>\n",
       "      <td>October 16, 2020</td>\n",
       "      <td>10537</td>\n",
       "    </tr>\n",
       "    <tr>\n",
       "      <th>2</th>\n",
       "      <td>The First State Bank</td>\n",
       "      <td>Barboursville</td>\n",
       "      <td>WV</td>\n",
       "      <td>14361</td>\n",
       "      <td>MVB Bank, Inc.</td>\n",
       "      <td>April 3, 2020</td>\n",
       "      <td>10536</td>\n",
       "    </tr>\n",
       "    <tr>\n",
       "      <th>3</th>\n",
       "      <td>Ericson State Bank</td>\n",
       "      <td>Ericson</td>\n",
       "      <td>NE</td>\n",
       "      <td>18265</td>\n",
       "      <td>Farmers and Merchants Bank</td>\n",
       "      <td>February 14, 2020</td>\n",
       "      <td>10535</td>\n",
       "    </tr>\n",
       "    <tr>\n",
       "      <th>4</th>\n",
       "      <td>City National Bank of New Jersey</td>\n",
       "      <td>Newark</td>\n",
       "      <td>NJ</td>\n",
       "      <td>21111</td>\n",
       "      <td>Industrial Bank</td>\n",
       "      <td>November 1, 2019</td>\n",
       "      <td>10534</td>\n",
       "    </tr>\n",
       "    <tr>\n",
       "      <th>...</th>\n",
       "      <td>...</td>\n",
       "      <td>...</td>\n",
       "      <td>...</td>\n",
       "      <td>...</td>\n",
       "      <td>...</td>\n",
       "      <td>...</td>\n",
       "      <td>...</td>\n",
       "    </tr>\n",
       "    <tr>\n",
       "      <th>558</th>\n",
       "      <td>Superior Bank, FSB</td>\n",
       "      <td>Hinsdale</td>\n",
       "      <td>IL</td>\n",
       "      <td>32646</td>\n",
       "      <td>Superior Federal, FSB</td>\n",
       "      <td>July 27, 2001</td>\n",
       "      <td>6004</td>\n",
       "    </tr>\n",
       "    <tr>\n",
       "      <th>559</th>\n",
       "      <td>Malta National Bank</td>\n",
       "      <td>Malta</td>\n",
       "      <td>OH</td>\n",
       "      <td>6629</td>\n",
       "      <td>North Valley Bank</td>\n",
       "      <td>May 3, 2001</td>\n",
       "      <td>4648</td>\n",
       "    </tr>\n",
       "    <tr>\n",
       "      <th>560</th>\n",
       "      <td>First Alliance Bank &amp; Trust Co.</td>\n",
       "      <td>Manchester</td>\n",
       "      <td>NH</td>\n",
       "      <td>34264</td>\n",
       "      <td>Southern New Hampshire Bank &amp; Trust</td>\n",
       "      <td>February 2, 2001</td>\n",
       "      <td>4647</td>\n",
       "    </tr>\n",
       "    <tr>\n",
       "      <th>561</th>\n",
       "      <td>National State Bank of Metropolis</td>\n",
       "      <td>Metropolis</td>\n",
       "      <td>IL</td>\n",
       "      <td>3815</td>\n",
       "      <td>Banterra Bank of Marion</td>\n",
       "      <td>December 14, 2000</td>\n",
       "      <td>4646</td>\n",
       "    </tr>\n",
       "    <tr>\n",
       "      <th>562</th>\n",
       "      <td>Bank of Honolulu</td>\n",
       "      <td>Honolulu</td>\n",
       "      <td>HI</td>\n",
       "      <td>21029</td>\n",
       "      <td>Bank of the Orient</td>\n",
       "      <td>October 13, 2000</td>\n",
       "      <td>4645</td>\n",
       "    </tr>\n",
       "  </tbody>\n",
       "</table>\n",
       "<p>563 rows × 7 columns</p>\n",
       "</div>"
      ],
      "text/plain": [
       "                         Bank NameBank           CityCity StateSt  CertCert  \\\n",
       "0                    Almena State Bank             Almena      KS     15426   \n",
       "1           First City Bank of Florida  Fort Walton Beach      FL     16748   \n",
       "2                 The First State Bank      Barboursville      WV     14361   \n",
       "3                   Ericson State Bank            Ericson      NE     18265   \n",
       "4     City National Bank of New Jersey             Newark      NJ     21111   \n",
       "..                                 ...                ...     ...       ...   \n",
       "558                 Superior Bank, FSB           Hinsdale      IL     32646   \n",
       "559                Malta National Bank              Malta      OH      6629   \n",
       "560    First Alliance Bank & Trust Co.         Manchester      NH     34264   \n",
       "561  National State Bank of Metropolis         Metropolis      IL      3815   \n",
       "562                   Bank of Honolulu           Honolulu      HI     21029   \n",
       "\n",
       "                 Acquiring InstitutionAI Closing DateClosing  FundFund  \n",
       "0                            Equity Bank    October 23, 2020     10538  \n",
       "1              United Fidelity Bank, fsb    October 16, 2020     10537  \n",
       "2                         MVB Bank, Inc.       April 3, 2020     10536  \n",
       "3             Farmers and Merchants Bank   February 14, 2020     10535  \n",
       "4                        Industrial Bank    November 1, 2019     10534  \n",
       "..                                   ...                 ...       ...  \n",
       "558                Superior Federal, FSB       July 27, 2001      6004  \n",
       "559                    North Valley Bank         May 3, 2001      4648  \n",
       "560  Southern New Hampshire Bank & Trust    February 2, 2001      4647  \n",
       "561              Banterra Bank of Marion   December 14, 2000      4646  \n",
       "562                   Bank of the Orient    October 13, 2000      4645  \n",
       "\n",
       "[563 rows x 7 columns]"
      ]
     },
     "execution_count": 57,
     "metadata": {},
     "output_type": "execute_result"
    }
   ],
   "source": [
    "df"
   ]
  },
  {
   "cell_type": "code",
   "execution_count": 42,
   "id": "0129d536-7f8d-40eb-ade7-09fa2b528fd2",
   "metadata": {},
   "outputs": [],
   "source": [
    "df.rename({'FundFund' : 'Fund'}, axis=1 , inplace=True) \n",
    "df.rename({'CityCity' : 'City'}, axis=1 , inplace=True) \n",
    "df.rename({'CertCert' : 'Cert'}, axis=1 , inplace=True) \n",
    "df.rename({'Bank NameBank' : 'Bank'}, axis=1 , inplace=True) \n"
   ]
  },
  {
   "cell_type": "code",
   "execution_count": 43,
   "id": "cad50cd0-79a7-43e3-8cc8-597e6dc0c48a",
   "metadata": {},
   "outputs": [
    {
     "data": {
      "text/html": [
       "<div>\n",
       "<style scoped>\n",
       "    .dataframe tbody tr th:only-of-type {\n",
       "        vertical-align: middle;\n",
       "    }\n",
       "\n",
       "    .dataframe tbody tr th {\n",
       "        vertical-align: top;\n",
       "    }\n",
       "\n",
       "    .dataframe thead th {\n",
       "        text-align: right;\n",
       "    }\n",
       "</style>\n",
       "<table border=\"1\" class=\"dataframe\">\n",
       "  <thead>\n",
       "    <tr style=\"text-align: right;\">\n",
       "      <th></th>\n",
       "      <th>Bank</th>\n",
       "      <th>City</th>\n",
       "      <th>StateSt</th>\n",
       "      <th>Cert</th>\n",
       "      <th>Acquiring InstitutionAI</th>\n",
       "      <th>Closing DateClosing</th>\n",
       "      <th>Fund</th>\n",
       "    </tr>\n",
       "  </thead>\n",
       "  <tbody>\n",
       "    <tr>\n",
       "      <th>0</th>\n",
       "      <td>Almena State Bank</td>\n",
       "      <td>Almena</td>\n",
       "      <td>KS</td>\n",
       "      <td>15426</td>\n",
       "      <td>Equity Bank</td>\n",
       "      <td>October 23, 2020</td>\n",
       "      <td>10538</td>\n",
       "    </tr>\n",
       "    <tr>\n",
       "      <th>1</th>\n",
       "      <td>First City Bank of Florida</td>\n",
       "      <td>Fort Walton Beach</td>\n",
       "      <td>FL</td>\n",
       "      <td>16748</td>\n",
       "      <td>United Fidelity Bank, fsb</td>\n",
       "      <td>October 16, 2020</td>\n",
       "      <td>10537</td>\n",
       "    </tr>\n",
       "    <tr>\n",
       "      <th>2</th>\n",
       "      <td>The First State Bank</td>\n",
       "      <td>Barboursville</td>\n",
       "      <td>WV</td>\n",
       "      <td>14361</td>\n",
       "      <td>MVB Bank, Inc.</td>\n",
       "      <td>April 3, 2020</td>\n",
       "      <td>10536</td>\n",
       "    </tr>\n",
       "    <tr>\n",
       "      <th>3</th>\n",
       "      <td>Ericson State Bank</td>\n",
       "      <td>Ericson</td>\n",
       "      <td>NE</td>\n",
       "      <td>18265</td>\n",
       "      <td>Farmers and Merchants Bank</td>\n",
       "      <td>February 14, 2020</td>\n",
       "      <td>10535</td>\n",
       "    </tr>\n",
       "    <tr>\n",
       "      <th>4</th>\n",
       "      <td>City National Bank of New Jersey</td>\n",
       "      <td>Newark</td>\n",
       "      <td>NJ</td>\n",
       "      <td>21111</td>\n",
       "      <td>Industrial Bank</td>\n",
       "      <td>November 1, 2019</td>\n",
       "      <td>10534</td>\n",
       "    </tr>\n",
       "    <tr>\n",
       "      <th>...</th>\n",
       "      <td>...</td>\n",
       "      <td>...</td>\n",
       "      <td>...</td>\n",
       "      <td>...</td>\n",
       "      <td>...</td>\n",
       "      <td>...</td>\n",
       "      <td>...</td>\n",
       "    </tr>\n",
       "    <tr>\n",
       "      <th>558</th>\n",
       "      <td>Superior Bank, FSB</td>\n",
       "      <td>Hinsdale</td>\n",
       "      <td>IL</td>\n",
       "      <td>32646</td>\n",
       "      <td>Superior Federal, FSB</td>\n",
       "      <td>July 27, 2001</td>\n",
       "      <td>6004</td>\n",
       "    </tr>\n",
       "    <tr>\n",
       "      <th>559</th>\n",
       "      <td>Malta National Bank</td>\n",
       "      <td>Malta</td>\n",
       "      <td>OH</td>\n",
       "      <td>6629</td>\n",
       "      <td>North Valley Bank</td>\n",
       "      <td>May 3, 2001</td>\n",
       "      <td>4648</td>\n",
       "    </tr>\n",
       "    <tr>\n",
       "      <th>560</th>\n",
       "      <td>First Alliance Bank &amp; Trust Co.</td>\n",
       "      <td>Manchester</td>\n",
       "      <td>NH</td>\n",
       "      <td>34264</td>\n",
       "      <td>Southern New Hampshire Bank &amp; Trust</td>\n",
       "      <td>February 2, 2001</td>\n",
       "      <td>4647</td>\n",
       "    </tr>\n",
       "    <tr>\n",
       "      <th>561</th>\n",
       "      <td>National State Bank of Metropolis</td>\n",
       "      <td>Metropolis</td>\n",
       "      <td>IL</td>\n",
       "      <td>3815</td>\n",
       "      <td>Banterra Bank of Marion</td>\n",
       "      <td>December 14, 2000</td>\n",
       "      <td>4646</td>\n",
       "    </tr>\n",
       "    <tr>\n",
       "      <th>562</th>\n",
       "      <td>Bank of Honolulu</td>\n",
       "      <td>Honolulu</td>\n",
       "      <td>HI</td>\n",
       "      <td>21029</td>\n",
       "      <td>Bank of the Orient</td>\n",
       "      <td>October 13, 2000</td>\n",
       "      <td>4645</td>\n",
       "    </tr>\n",
       "  </tbody>\n",
       "</table>\n",
       "<p>563 rows × 7 columns</p>\n",
       "</div>"
      ],
      "text/plain": [
       "                                  Bank               City StateSt   Cert  \\\n",
       "0                    Almena State Bank             Almena      KS  15426   \n",
       "1           First City Bank of Florida  Fort Walton Beach      FL  16748   \n",
       "2                 The First State Bank      Barboursville      WV  14361   \n",
       "3                   Ericson State Bank            Ericson      NE  18265   \n",
       "4     City National Bank of New Jersey             Newark      NJ  21111   \n",
       "..                                 ...                ...     ...    ...   \n",
       "558                 Superior Bank, FSB           Hinsdale      IL  32646   \n",
       "559                Malta National Bank              Malta      OH   6629   \n",
       "560    First Alliance Bank & Trust Co.         Manchester      NH  34264   \n",
       "561  National State Bank of Metropolis         Metropolis      IL   3815   \n",
       "562                   Bank of Honolulu           Honolulu      HI  21029   \n",
       "\n",
       "                 Acquiring InstitutionAI Closing DateClosing   Fund  \n",
       "0                            Equity Bank    October 23, 2020  10538  \n",
       "1              United Fidelity Bank, fsb    October 16, 2020  10537  \n",
       "2                         MVB Bank, Inc.       April 3, 2020  10536  \n",
       "3             Farmers and Merchants Bank   February 14, 2020  10535  \n",
       "4                        Industrial Bank    November 1, 2019  10534  \n",
       "..                                   ...                 ...    ...  \n",
       "558                Superior Federal, FSB       July 27, 2001   6004  \n",
       "559                    North Valley Bank         May 3, 2001   4648  \n",
       "560  Southern New Hampshire Bank & Trust    February 2, 2001   4647  \n",
       "561              Banterra Bank of Marion   December 14, 2000   4646  \n",
       "562                   Bank of the Orient    October 13, 2000   4645  \n",
       "\n",
       "[563 rows x 7 columns]"
      ]
     },
     "execution_count": 43,
     "metadata": {},
     "output_type": "execute_result"
    }
   ],
   "source": [
    "df.rename({'CertCert' : 'Cert'}, axis=1 , inplace=True) \n",
    "df"
   ]
  },
  {
   "cell_type": "code",
   "execution_count": 112,
   "id": "31cc2c7e-ec2a-4c2e-a743-9fbfa330ac90",
   "metadata": {},
   "outputs": [
    {
     "name": "stdout",
     "output_type": "stream",
     "text": [
      "['Bank NameBank', 'CityCity', 'StateSt', 'CertCert', 'Acquiring InstitutionAI', 'Closing DateClosing', 'FundFund']\n"
     ]
    }
   ],
   "source": [
    "import pandas as pd\n",
    "df = pd.read_html('https://www.fdic.gov/resources/resolutions/bank-failures/failed-bank-list/')\n",
    "df=df[0]\n",
    "df_llist = []\n",
    "df_list=list(df)\n",
    "print(df_list\n",
    "    )"
   ]
  },
  {
   "cell_type": "code",
   "execution_count": 104,
   "id": "54e00ea7",
   "metadata": {},
   "outputs": [],
   "source": [
    "colList=['Bank Name', 'City', 'StateSt', 'Cert',\n",
    "       'Acquiring InstitutionAI', 'Closing Date', 'Fund']\n"
   ]
  },
  {
   "cell_type": "code",
   "execution_count": 113,
   "id": "3d02d45c",
   "metadata": {},
   "outputs": [],
   "source": [
    "\n",
    "df.columns=['Bank Name', 'City', 'StateSt', 'Cert','Acquiring InstitutionAI', 'Closing Date', 'Fund']"
   ]
  },
  {
   "cell_type": "code",
   "execution_count": 115,
   "id": "e52707bd-a693-404b-8b6b-3b10d2ab4059",
   "metadata": {},
   "outputs": [
    {
     "data": {
      "text/html": [
       "<div>\n",
       "<style scoped>\n",
       "    .dataframe tbody tr th:only-of-type {\n",
       "        vertical-align: middle;\n",
       "    }\n",
       "\n",
       "    .dataframe tbody tr th {\n",
       "        vertical-align: top;\n",
       "    }\n",
       "\n",
       "    .dataframe thead th {\n",
       "        text-align: right;\n",
       "    }\n",
       "</style>\n",
       "<table border=\"1\" class=\"dataframe\">\n",
       "  <thead>\n",
       "    <tr style=\"text-align: right;\">\n",
       "      <th></th>\n",
       "      <th>Bank Name</th>\n",
       "      <th>City</th>\n",
       "      <th>StateSt</th>\n",
       "      <th>Cert</th>\n",
       "      <th>Acquiring InstitutionAI</th>\n",
       "      <th>Closing Date</th>\n",
       "      <th>Fund</th>\n",
       "    </tr>\n",
       "  </thead>\n",
       "  <tbody>\n",
       "    <tr>\n",
       "      <th>0</th>\n",
       "      <td>Almena State Bank</td>\n",
       "      <td>Almena</td>\n",
       "      <td>KS</td>\n",
       "      <td>15426</td>\n",
       "      <td>Equity Bank</td>\n",
       "      <td>October 23, 2020</td>\n",
       "      <td>10538</td>\n",
       "    </tr>\n",
       "    <tr>\n",
       "      <th>1</th>\n",
       "      <td>First City Bank of Florida</td>\n",
       "      <td>Fort Walton Beach</td>\n",
       "      <td>FL</td>\n",
       "      <td>16748</td>\n",
       "      <td>United Fidelity Bank, fsb</td>\n",
       "      <td>October 16, 2020</td>\n",
       "      <td>10537</td>\n",
       "    </tr>\n",
       "    <tr>\n",
       "      <th>2</th>\n",
       "      <td>The First State Bank</td>\n",
       "      <td>Barboursville</td>\n",
       "      <td>WV</td>\n",
       "      <td>14361</td>\n",
       "      <td>MVB Bank, Inc.</td>\n",
       "      <td>April 3, 2020</td>\n",
       "      <td>10536</td>\n",
       "    </tr>\n",
       "    <tr>\n",
       "      <th>3</th>\n",
       "      <td>Ericson State Bank</td>\n",
       "      <td>Ericson</td>\n",
       "      <td>NE</td>\n",
       "      <td>18265</td>\n",
       "      <td>Farmers and Merchants Bank</td>\n",
       "      <td>February 14, 2020</td>\n",
       "      <td>10535</td>\n",
       "    </tr>\n",
       "    <tr>\n",
       "      <th>4</th>\n",
       "      <td>City National Bank of New Jersey</td>\n",
       "      <td>Newark</td>\n",
       "      <td>NJ</td>\n",
       "      <td>21111</td>\n",
       "      <td>Industrial Bank</td>\n",
       "      <td>November 1, 2019</td>\n",
       "      <td>10534</td>\n",
       "    </tr>\n",
       "    <tr>\n",
       "      <th>...</th>\n",
       "      <td>...</td>\n",
       "      <td>...</td>\n",
       "      <td>...</td>\n",
       "      <td>...</td>\n",
       "      <td>...</td>\n",
       "      <td>...</td>\n",
       "      <td>...</td>\n",
       "    </tr>\n",
       "    <tr>\n",
       "      <th>497</th>\n",
       "      <td>Silver Falls Bank</td>\n",
       "      <td>Silverton</td>\n",
       "      <td>OR</td>\n",
       "      <td>35399</td>\n",
       "      <td>Citizens Bank</td>\n",
       "      <td>February 20, 2009</td>\n",
       "      <td>10041</td>\n",
       "    </tr>\n",
       "    <tr>\n",
       "      <th>498</th>\n",
       "      <td>Pinnacle Bank of Oregon</td>\n",
       "      <td>Beaverton</td>\n",
       "      <td>OR</td>\n",
       "      <td>57342</td>\n",
       "      <td>Washington Trust Bank of Spokane</td>\n",
       "      <td>February 13, 2009</td>\n",
       "      <td>10040</td>\n",
       "    </tr>\n",
       "    <tr>\n",
       "      <th>499</th>\n",
       "      <td>Corn Belt Bank &amp; Trust Co.</td>\n",
       "      <td>Pittsfield</td>\n",
       "      <td>IL</td>\n",
       "      <td>16500</td>\n",
       "      <td>The Carlinville National Bank</td>\n",
       "      <td>February 13, 2009</td>\n",
       "      <td>10037</td>\n",
       "    </tr>\n",
       "    <tr>\n",
       "      <th>500</th>\n",
       "      <td>Riverside Bank of the Gulf Coast</td>\n",
       "      <td>Cape Coral</td>\n",
       "      <td>FL</td>\n",
       "      <td>34563</td>\n",
       "      <td>TIB Bank</td>\n",
       "      <td>February 13, 2009</td>\n",
       "      <td>10038</td>\n",
       "    </tr>\n",
       "    <tr>\n",
       "      <th>501</th>\n",
       "      <td>Sherman County Bank</td>\n",
       "      <td>Loup City</td>\n",
       "      <td>NE</td>\n",
       "      <td>5431</td>\n",
       "      <td>Heritage Bank</td>\n",
       "      <td>February 13, 2009</td>\n",
       "      <td>10039</td>\n",
       "    </tr>\n",
       "  </tbody>\n",
       "</table>\n",
       "<p>502 rows × 7 columns</p>\n",
       "</div>"
      ],
      "text/plain": [
       "                            Bank Name               City StateSt   Cert  \\\n",
       "0                   Almena State Bank             Almena      KS  15426   \n",
       "1          First City Bank of Florida  Fort Walton Beach      FL  16748   \n",
       "2                The First State Bank      Barboursville      WV  14361   \n",
       "3                  Ericson State Bank            Ericson      NE  18265   \n",
       "4    City National Bank of New Jersey             Newark      NJ  21111   \n",
       "..                                ...                ...     ...    ...   \n",
       "497                 Silver Falls Bank          Silverton      OR  35399   \n",
       "498           Pinnacle Bank of Oregon          Beaverton      OR  57342   \n",
       "499        Corn Belt Bank & Trust Co.         Pittsfield      IL  16500   \n",
       "500  Riverside Bank of the Gulf Coast         Cape Coral      FL  34563   \n",
       "501               Sherman County Bank          Loup City      NE   5431   \n",
       "\n",
       "              Acquiring InstitutionAI       Closing Date   Fund  \n",
       "0                         Equity Bank   October 23, 2020  10538  \n",
       "1           United Fidelity Bank, fsb   October 16, 2020  10537  \n",
       "2                      MVB Bank, Inc.      April 3, 2020  10536  \n",
       "3          Farmers and Merchants Bank  February 14, 2020  10535  \n",
       "4                     Industrial Bank   November 1, 2019  10534  \n",
       "..                                ...                ...    ...  \n",
       "497                     Citizens Bank  February 20, 2009  10041  \n",
       "498  Washington Trust Bank of Spokane  February 13, 2009  10040  \n",
       "499     The Carlinville National Bank  February 13, 2009  10037  \n",
       "500                          TIB Bank  February 13, 2009  10038  \n",
       "501                     Heritage Bank  February 13, 2009  10039  \n",
       "\n",
       "[502 rows x 7 columns]"
      ]
     },
     "execution_count": 115,
     "metadata": {},
     "output_type": "execute_result"
    }
   ],
   "source": [
    "## 펀드의 값이 편드의 평균보다 큰 경우만 df로 출력\n",
    "df[df['Fund'] >df['Fund'].mean()]\n"
   ]
  },
  {
   "cell_type": "code",
   "execution_count": 87,
   "id": "cad179b5-c83f-4bb9-9974-0499b364bbea",
   "metadata": {},
   "outputs": [],
   "source": [
    "df2= df[df['Fund'] == df['Fund'].min()]"
   ]
  },
  {
   "cell_type": "code",
   "execution_count": 88,
   "id": "ba6a7018-1cc6-4c36-aa64-9814e209f310",
   "metadata": {},
   "outputs": [
    {
     "data": {
      "text/html": [
       "<div>\n",
       "<style scoped>\n",
       "    .dataframe tbody tr th:only-of-type {\n",
       "        vertical-align: middle;\n",
       "    }\n",
       "\n",
       "    .dataframe tbody tr th {\n",
       "        vertical-align: top;\n",
       "    }\n",
       "\n",
       "    .dataframe thead th {\n",
       "        text-align: right;\n",
       "    }\n",
       "</style>\n",
       "<table border=\"1\" class=\"dataframe\">\n",
       "  <thead>\n",
       "    <tr style=\"text-align: right;\">\n",
       "      <th></th>\n",
       "      <th>Bank NameBank</th>\n",
       "      <th>CityCity</th>\n",
       "      <th>StateSt</th>\n",
       "      <th>CertCert</th>\n",
       "      <th>Acquiring InstitutionAI</th>\n",
       "      <th>Closing DateClosing</th>\n",
       "      <th>FundFund</th>\n",
       "    </tr>\n",
       "  </thead>\n",
       "  <tbody>\n",
       "    <tr>\n",
       "      <th>562</th>\n",
       "      <td>Bank of Honolulu</td>\n",
       "      <td>Honolulu</td>\n",
       "      <td>HI</td>\n",
       "      <td>21029</td>\n",
       "      <td>Bank of the Orient</td>\n",
       "      <td>October 13, 2000</td>\n",
       "      <td>4645</td>\n",
       "    </tr>\n",
       "  </tbody>\n",
       "</table>\n",
       "</div>"
      ],
      "text/plain": [
       "        Bank NameBank  CityCity StateSt  CertCert Acquiring InstitutionAI  \\\n",
       "562  Bank of Honolulu  Honolulu      HI     21029      Bank of the Orient   \n",
       "\n",
       "    Closing DateClosing  FundFund  \n",
       "562    October 13, 2000      4645  "
      ]
     },
     "execution_count": 88,
     "metadata": {},
     "output_type": "execute_result"
    }
   ],
   "source": [
    "df2"
   ]
  },
  {
   "cell_type": "code",
   "execution_count": 116,
   "id": "5fc463bc-56a9-4f8c-aa0a-2a6b0e40e7c3",
   "metadata": {},
   "outputs": [
    {
     "data": {
      "text/html": [
       "<div>\n",
       "<style scoped>\n",
       "    .dataframe tbody tr th:only-of-type {\n",
       "        vertical-align: middle;\n",
       "    }\n",
       "\n",
       "    .dataframe tbody tr th {\n",
       "        vertical-align: top;\n",
       "    }\n",
       "\n",
       "    .dataframe thead th {\n",
       "        text-align: right;\n",
       "    }\n",
       "</style>\n",
       "<table border=\"1\" class=\"dataframe\">\n",
       "  <thead>\n",
       "    <tr style=\"text-align: right;\">\n",
       "      <th></th>\n",
       "      <th>Bank Name</th>\n",
       "      <th>City</th>\n",
       "      <th>StateSt</th>\n",
       "      <th>Cert</th>\n",
       "      <th>Acquiring InstitutionAI</th>\n",
       "      <th>Closing Date</th>\n",
       "      <th>Fund</th>\n",
       "    </tr>\n",
       "  </thead>\n",
       "  <tbody>\n",
       "    <tr>\n",
       "      <th>562</th>\n",
       "      <td>Bank of Honolulu</td>\n",
       "      <td>Honolulu</td>\n",
       "      <td>HI</td>\n",
       "      <td>21029</td>\n",
       "      <td>Bank of the Orient</td>\n",
       "      <td>October 13, 2000</td>\n",
       "      <td>4645</td>\n",
       "    </tr>\n",
       "  </tbody>\n",
       "</table>\n",
       "</div>"
      ],
      "text/plain": [
       "            Bank Name      City StateSt   Cert Acquiring InstitutionAI  \\\n",
       "562  Bank of Honolulu  Honolulu      HI  21029      Bank of the Orient   \n",
       "\n",
       "         Closing Date  Fund  \n",
       "562  October 13, 2000  4645  "
      ]
     },
     "execution_count": 116,
     "metadata": {},
     "output_type": "execute_result"
    }
   ],
   "source": [
    "## 소스와 타겟 모두에 upper()를 준다. 이때 소스가 문자열이 아닌경우 문자로 변경 df[key].str\n",
    "df[df['City'].str.upper() == 'honolulu'.upper()]"
   ]
  },
  {
   "cell_type": "code",
   "execution_count": 45,
   "id": "2c103f89-bf7a-45de-8b47-4b291fe13f3f",
   "metadata": {},
   "outputs": [
    {
     "data": {
      "text/plain": [
       "Atlanta          6\n",
       "Alpharetta       4\n",
       "Newnan           2\n",
       "Duluth           2\n",
       "Ellijay          1\n",
       "Jackson          1\n",
       "McDonough        1\n",
       "Commerce         1\n",
       "Stockbridge      1\n",
       "Kennesaw         1\n",
       "Fayetteville     1\n",
       "Villa Rica       1\n",
       "Winder           1\n",
       "Suwanee          1\n",
       "Macon            1\n",
       "Woodstock        1\n",
       "Perry            1\n",
       "Gray             1\n",
       "Lawrenceville    1\n",
       "Sparta           1\n",
       "Norcross         1\n",
       "Reidsville       1\n",
       "Carrollton       1\n",
       "Cornelia         1\n",
       "Loganville       1\n",
       "Name: City, dtype: int64"
      ]
     },
     "execution_count": 45,
     "metadata": {},
     "output_type": "execute_result"
    }
   ],
   "source": [
    "## st & fund 조건으로 value count\n",
    "df[(df['StateSt']=='GA') & (df['Fund']>=5000)& (df['Fund']<=10200)]['City'].value_counts()"
   ]
  },
  {
   "cell_type": "code",
   "execution_count": 124,
   "id": "2834997a-3ef2-4f87-a352-d8c25ac6910c",
   "metadata": {},
   "outputs": [
    {
     "name": "stdout",
     "output_type": "stream",
     "text": [
      "KS 113059\n",
      "FL 764744\n",
      "WV 20550\n",
      "NE 41232\n",
      "NJ 78344\n",
      "OH 81074\n",
      "KY 31127\n",
      "TX 127397\n",
      "IL 694783\n",
      "WI 108426\n",
      "LA 35794\n",
      "UT 76253\n",
      "AR 35498\n",
      "GA 948949\n",
      "PA 97682\n",
      "TN 67436\n",
      "WA 194884\n",
      "CO 102931\n",
      "PR 41203\n",
      "MN 235976\n",
      "CA 411858\n",
      "MD 103027\n",
      "OK 72472\n",
      "SC 103460\n",
      "VA 51712\n",
      "ID 20549\n",
      "CT 15145\n",
      "AZ 158881\n",
      "NV 122013\n",
      "NC 72246\n",
      "MO 164012\n",
      "AL 71730\n",
      "MI 137544\n",
      "IN 30929\n",
      "IA 20530\n",
      "MS 20601\n",
      "NM 30760\n",
      "OR 60888\n",
      "NY 45398\n",
      "MA 10211\n",
      "SD 10081\n",
      "WY 10080\n",
      "NH 4647\n",
      "HI 4645\n"
     ]
    }
   ],
   "source": [
    "## state 를 기준으로 Fund데이터 살펴보기\n",
    "## groupby , 특정 value 기준으로 묶어서 보여준다. (for 대신)\n",
    "for i in df['StateSt'].unique():\n",
    "    print(i, df[df['StateSt'] == i]['Fund'].sum())\n"
   ]
  },
  {
   "cell_type": "code",
   "execution_count": 122,
   "id": "9da1c64c",
   "metadata": {},
   "outputs": [],
   "source": [
    "\n",
    "StateFund=df.groupby(['StateSt']).sum().sort_values(by='StateSt')\n"
   ]
  },
  {
   "cell_type": "code",
   "execution_count": 123,
   "id": "27d8c3d0",
   "metadata": {},
   "outputs": [
    {
     "data": {
      "text/html": [
       "<div>\n",
       "<style scoped>\n",
       "    .dataframe tbody tr th:only-of-type {\n",
       "        vertical-align: middle;\n",
       "    }\n",
       "\n",
       "    .dataframe tbody tr th {\n",
       "        vertical-align: top;\n",
       "    }\n",
       "\n",
       "    .dataframe thead th {\n",
       "        text-align: right;\n",
       "    }\n",
       "</style>\n",
       "<table border=\"1\" class=\"dataframe\">\n",
       "  <thead>\n",
       "    <tr style=\"text-align: right;\">\n",
       "      <th></th>\n",
       "      <th>Cert</th>\n",
       "      <th>Fund</th>\n",
       "    </tr>\n",
       "    <tr>\n",
       "      <th>StateSt</th>\n",
       "      <th></th>\n",
       "      <th></th>\n",
       "    </tr>\n",
       "  </thead>\n",
       "  <tbody>\n",
       "    <tr>\n",
       "      <th>AL</th>\n",
       "      <td>161740</td>\n",
       "      <td>71730</td>\n",
       "    </tr>\n",
       "    <tr>\n",
       "      <th>AR</th>\n",
       "      <td>126292</td>\n",
       "      <td>35498</td>\n",
       "    </tr>\n",
       "    <tr>\n",
       "      <th>AZ</th>\n",
       "      <td>723217</td>\n",
       "      <td>158881</td>\n",
       "    </tr>\n",
       "    <tr>\n",
       "      <th>CA</th>\n",
       "      <td>1426618</td>\n",
       "      <td>411858</td>\n",
       "    </tr>\n",
       "    <tr>\n",
       "      <th>CO</th>\n",
       "      <td>350574</td>\n",
       "      <td>102931</td>\n",
       "    </tr>\n",
       "    <tr>\n",
       "      <th>CT</th>\n",
       "      <td>76224</td>\n",
       "      <td>15145</td>\n",
       "    </tr>\n",
       "    <tr>\n",
       "      <th>FL</th>\n",
       "      <td>2727753</td>\n",
       "      <td>764744</td>\n",
       "    </tr>\n",
       "    <tr>\n",
       "      <th>GA</th>\n",
       "      <td>3550756</td>\n",
       "      <td>948949</td>\n",
       "    </tr>\n",
       "    <tr>\n",
       "      <th>HI</th>\n",
       "      <td>21029</td>\n",
       "      <td>4645</td>\n",
       "    </tr>\n",
       "    <tr>\n",
       "      <th>IA</th>\n",
       "      <td>41926</td>\n",
       "      <td>20530</td>\n",
       "    </tr>\n",
       "    <tr>\n",
       "      <th>ID</th>\n",
       "      <td>68692</td>\n",
       "      <td>20549</td>\n",
       "    </tr>\n",
       "    <tr>\n",
       "      <th>IL</th>\n",
       "      <td>1674027</td>\n",
       "      <td>694783</td>\n",
       "    </tr>\n",
       "    <tr>\n",
       "      <th>IN</th>\n",
       "      <td>44253</td>\n",
       "      <td>30929</td>\n",
       "    </tr>\n",
       "    <tr>\n",
       "      <th>KS</th>\n",
       "      <td>139654</td>\n",
       "      <td>113059</td>\n",
       "    </tr>\n",
       "    <tr>\n",
       "      <th>KY</th>\n",
       "      <td>144774</td>\n",
       "      <td>31127</td>\n",
       "    </tr>\n",
       "    <tr>\n",
       "      <th>LA</th>\n",
       "      <td>123965</td>\n",
       "      <td>35794</td>\n",
       "    </tr>\n",
       "    <tr>\n",
       "      <th>MA</th>\n",
       "      <td>26619</td>\n",
       "      <td>10211</td>\n",
       "    </tr>\n",
       "    <tr>\n",
       "      <th>MD</th>\n",
       "      <td>314987</td>\n",
       "      <td>103027</td>\n",
       "    </tr>\n",
       "    <tr>\n",
       "      <th>MI</th>\n",
       "      <td>439495</td>\n",
       "      <td>137544</td>\n",
       "    </tr>\n",
       "    <tr>\n",
       "      <th>MN</th>\n",
       "      <td>632664</td>\n",
       "      <td>235976</td>\n",
       "    </tr>\n",
       "    <tr>\n",
       "      <th>MO</th>\n",
       "      <td>385480</td>\n",
       "      <td>164012</td>\n",
       "    </tr>\n",
       "    <tr>\n",
       "      <th>MS</th>\n",
       "      <td>30087</td>\n",
       "      <td>20601</td>\n",
       "    </tr>\n",
       "    <tr>\n",
       "      <th>NC</th>\n",
       "      <td>279713</td>\n",
       "      <td>72246</td>\n",
       "    </tr>\n",
       "    <tr>\n",
       "      <th>NE</th>\n",
       "      <td>72434</td>\n",
       "      <td>41232</td>\n",
       "    </tr>\n",
       "    <tr>\n",
       "      <th>NH</th>\n",
       "      <td>34264</td>\n",
       "      <td>4647</td>\n",
       "    </tr>\n",
       "    <tr>\n",
       "      <th>NJ</th>\n",
       "      <td>329905</td>\n",
       "      <td>78344</td>\n",
       "    </tr>\n",
       "    <tr>\n",
       "      <th>NM</th>\n",
       "      <td>80038</td>\n",
       "      <td>30760</td>\n",
       "    </tr>\n",
       "    <tr>\n",
       "      <th>NV</th>\n",
       "      <td>475982</td>\n",
       "      <td>122013</td>\n",
       "    </tr>\n",
       "    <tr>\n",
       "      <th>NY</th>\n",
       "      <td>228082</td>\n",
       "      <td>45398</td>\n",
       "    </tr>\n",
       "    <tr>\n",
       "      <th>OH</th>\n",
       "      <td>231722</td>\n",
       "      <td>81074</td>\n",
       "    </tr>\n",
       "    <tr>\n",
       "      <th>OK</th>\n",
       "      <td>58755</td>\n",
       "      <td>72472</td>\n",
       "    </tr>\n",
       "    <tr>\n",
       "      <th>OR</th>\n",
       "      <td>193623</td>\n",
       "      <td>60888</td>\n",
       "    </tr>\n",
       "    <tr>\n",
       "      <th>PA</th>\n",
       "      <td>351456</td>\n",
       "      <td>97682</td>\n",
       "    </tr>\n",
       "    <tr>\n",
       "      <th>PR</th>\n",
       "      <td>122464</td>\n",
       "      <td>41203</td>\n",
       "    </tr>\n",
       "    <tr>\n",
       "      <th>SC</th>\n",
       "      <td>377480</td>\n",
       "      <td>103460</td>\n",
       "    </tr>\n",
       "    <tr>\n",
       "      <th>SD</th>\n",
       "      <td>34103</td>\n",
       "      <td>10081</td>\n",
       "    </tr>\n",
       "    <tr>\n",
       "      <th>TN</th>\n",
       "      <td>131410</td>\n",
       "      <td>67436</td>\n",
       "    </tr>\n",
       "    <tr>\n",
       "      <th>TX</th>\n",
       "      <td>347770</td>\n",
       "      <td>127397</td>\n",
       "    </tr>\n",
       "    <tr>\n",
       "      <th>UT</th>\n",
       "      <td>256510</td>\n",
       "      <td>76253</td>\n",
       "    </tr>\n",
       "    <tr>\n",
       "      <th>VA</th>\n",
       "      <td>177993</td>\n",
       "      <td>51712</td>\n",
       "    </tr>\n",
       "    <tr>\n",
       "      <th>WA</th>\n",
       "      <td>511370</td>\n",
       "      <td>194884</td>\n",
       "    </tr>\n",
       "    <tr>\n",
       "      <th>WI</th>\n",
       "      <td>238046</td>\n",
       "      <td>108426</td>\n",
       "    </tr>\n",
       "    <tr>\n",
       "      <th>WV</th>\n",
       "      <td>21143</td>\n",
       "      <td>20550</td>\n",
       "    </tr>\n",
       "    <tr>\n",
       "      <th>WY</th>\n",
       "      <td>22754</td>\n",
       "      <td>10080</td>\n",
       "    </tr>\n",
       "  </tbody>\n",
       "</table>\n",
       "</div>"
      ],
      "text/plain": [
       "            Cert    Fund\n",
       "StateSt                 \n",
       "AL        161740   71730\n",
       "AR        126292   35498\n",
       "AZ        723217  158881\n",
       "CA       1426618  411858\n",
       "CO        350574  102931\n",
       "CT         76224   15145\n",
       "FL       2727753  764744\n",
       "GA       3550756  948949\n",
       "HI         21029    4645\n",
       "IA         41926   20530\n",
       "ID         68692   20549\n",
       "IL       1674027  694783\n",
       "IN         44253   30929\n",
       "KS        139654  113059\n",
       "KY        144774   31127\n",
       "LA        123965   35794\n",
       "MA         26619   10211\n",
       "MD        314987  103027\n",
       "MI        439495  137544\n",
       "MN        632664  235976\n",
       "MO        385480  164012\n",
       "MS         30087   20601\n",
       "NC        279713   72246\n",
       "NE         72434   41232\n",
       "NH         34264    4647\n",
       "NJ        329905   78344\n",
       "NM         80038   30760\n",
       "NV        475982  122013\n",
       "NY        228082   45398\n",
       "OH        231722   81074\n",
       "OK         58755   72472\n",
       "OR        193623   60888\n",
       "PA        351456   97682\n",
       "PR        122464   41203\n",
       "SC        377480  103460\n",
       "SD         34103   10081\n",
       "TN        131410   67436\n",
       "TX        347770  127397\n",
       "UT        256510   76253\n",
       "VA        177993   51712\n",
       "WA        511370  194884\n",
       "WI        238046  108426\n",
       "WV         21143   20550\n",
       "WY         22754   10080"
      ]
     },
     "execution_count": 123,
     "metadata": {},
     "output_type": "execute_result"
    }
   ],
   "source": [
    "StateFund"
   ]
  },
  {
   "cell_type": "code",
   "execution_count": 53,
   "id": "2395458d-da9a-48c2-af1a-69eb943fd31a",
   "metadata": {},
   "outputs": [
    {
     "data": {
      "text/plain": [
       "(563, 7)"
      ]
     },
     "execution_count": 53,
     "metadata": {},
     "output_type": "execute_result"
    }
   ],
   "source": [
    "## rows and columns\n",
    "df.shape"
   ]
  },
  {
   "cell_type": "code",
   "execution_count": 64,
   "id": "60230123-62ac-4348-bfe1-5bcd3041d580",
   "metadata": {},
   "outputs": [
    {
     "data": {
      "application/vnd.plotly.v1+json": {
       "config": {
        "plotlyServerURL": "https://plot.ly"
       },
       "data": [
        {
         "alignmentgroup": "True",
         "hovertemplate": "Fund=%{x}<br>y=%{y}<extra></extra>",
         "legendgroup": "",
         "marker": {
          "color": "#636efa",
          "pattern": {
           "shape": ""
          }
         },
         "name": "",
         "offsetgroup": "",
         "orientation": "h",
         "showlegend": false,
         "textposition": "auto",
         "type": "bar",
         "x": [
          71730,
          35498,
          158881,
          411858,
          102931,
          15145,
          764744,
          948949,
          4645,
          20530,
          20549,
          694783,
          30929,
          113059,
          31127,
          35794,
          10211,
          103027,
          137544,
          235976,
          164012,
          20601,
          72246,
          41232,
          4647,
          78344,
          30760,
          122013,
          45398,
          81074,
          72472,
          60888,
          97682,
          41203,
          103460,
          10081,
          67436,
          127397,
          76253,
          51712,
          194884,
          108426,
          20550,
          10080
         ],
         "xaxis": "x",
         "y": [
          "AL",
          "AR",
          "AZ",
          "CA",
          "CO",
          "CT",
          "FL",
          "GA",
          "HI",
          "IA",
          "ID",
          "IL",
          "IN",
          "KS",
          "KY",
          "LA",
          "MA",
          "MD",
          "MI",
          "MN",
          "MO",
          "MS",
          "NC",
          "NE",
          "NH",
          "NJ",
          "NM",
          "NV",
          "NY",
          "OH",
          "OK",
          "OR",
          "PA",
          "PR",
          "SC",
          "SD",
          "TN",
          "TX",
          "UT",
          "VA",
          "WA",
          "WI",
          "WV",
          "WY"
         ],
         "yaxis": "y"
        }
       ],
       "layout": {
        "autosize": true,
        "barmode": "relative",
        "legend": {
         "tracegroupgap": 0
        },
        "margin": {
         "t": 60
        },
        "template": {
         "data": {
          "bar": [
           {
            "error_x": {
             "color": "#2a3f5f"
            },
            "error_y": {
             "color": "#2a3f5f"
            },
            "marker": {
             "line": {
              "color": "#E5ECF6",
              "width": 0.5
             },
             "pattern": {
              "fillmode": "overlay",
              "size": 10,
              "solidity": 0.2
             }
            },
            "type": "bar"
           }
          ],
          "barpolar": [
           {
            "marker": {
             "line": {
              "color": "#E5ECF6",
              "width": 0.5
             },
             "pattern": {
              "fillmode": "overlay",
              "size": 10,
              "solidity": 0.2
             }
            },
            "type": "barpolar"
           }
          ],
          "carpet": [
           {
            "aaxis": {
             "endlinecolor": "#2a3f5f",
             "gridcolor": "white",
             "linecolor": "white",
             "minorgridcolor": "white",
             "startlinecolor": "#2a3f5f"
            },
            "baxis": {
             "endlinecolor": "#2a3f5f",
             "gridcolor": "white",
             "linecolor": "white",
             "minorgridcolor": "white",
             "startlinecolor": "#2a3f5f"
            },
            "type": "carpet"
           }
          ],
          "choropleth": [
           {
            "colorbar": {
             "outlinewidth": 0,
             "ticks": ""
            },
            "type": "choropleth"
           }
          ],
          "contour": [
           {
            "colorbar": {
             "outlinewidth": 0,
             "ticks": ""
            },
            "colorscale": [
             [
              0,
              "#0d0887"
             ],
             [
              0.1111111111111111,
              "#46039f"
             ],
             [
              0.2222222222222222,
              "#7201a8"
             ],
             [
              0.3333333333333333,
              "#9c179e"
             ],
             [
              0.4444444444444444,
              "#bd3786"
             ],
             [
              0.5555555555555556,
              "#d8576b"
             ],
             [
              0.6666666666666666,
              "#ed7953"
             ],
             [
              0.7777777777777778,
              "#fb9f3a"
             ],
             [
              0.8888888888888888,
              "#fdca26"
             ],
             [
              1,
              "#f0f921"
             ]
            ],
            "type": "contour"
           }
          ],
          "contourcarpet": [
           {
            "colorbar": {
             "outlinewidth": 0,
             "ticks": ""
            },
            "type": "contourcarpet"
           }
          ],
          "heatmap": [
           {
            "colorbar": {
             "outlinewidth": 0,
             "ticks": ""
            },
            "colorscale": [
             [
              0,
              "#0d0887"
             ],
             [
              0.1111111111111111,
              "#46039f"
             ],
             [
              0.2222222222222222,
              "#7201a8"
             ],
             [
              0.3333333333333333,
              "#9c179e"
             ],
             [
              0.4444444444444444,
              "#bd3786"
             ],
             [
              0.5555555555555556,
              "#d8576b"
             ],
             [
              0.6666666666666666,
              "#ed7953"
             ],
             [
              0.7777777777777778,
              "#fb9f3a"
             ],
             [
              0.8888888888888888,
              "#fdca26"
             ],
             [
              1,
              "#f0f921"
             ]
            ],
            "type": "heatmap"
           }
          ],
          "heatmapgl": [
           {
            "colorbar": {
             "outlinewidth": 0,
             "ticks": ""
            },
            "colorscale": [
             [
              0,
              "#0d0887"
             ],
             [
              0.1111111111111111,
              "#46039f"
             ],
             [
              0.2222222222222222,
              "#7201a8"
             ],
             [
              0.3333333333333333,
              "#9c179e"
             ],
             [
              0.4444444444444444,
              "#bd3786"
             ],
             [
              0.5555555555555556,
              "#d8576b"
             ],
             [
              0.6666666666666666,
              "#ed7953"
             ],
             [
              0.7777777777777778,
              "#fb9f3a"
             ],
             [
              0.8888888888888888,
              "#fdca26"
             ],
             [
              1,
              "#f0f921"
             ]
            ],
            "type": "heatmapgl"
           }
          ],
          "histogram": [
           {
            "marker": {
             "pattern": {
              "fillmode": "overlay",
              "size": 10,
              "solidity": 0.2
             }
            },
            "type": "histogram"
           }
          ],
          "histogram2d": [
           {
            "colorbar": {
             "outlinewidth": 0,
             "ticks": ""
            },
            "colorscale": [
             [
              0,
              "#0d0887"
             ],
             [
              0.1111111111111111,
              "#46039f"
             ],
             [
              0.2222222222222222,
              "#7201a8"
             ],
             [
              0.3333333333333333,
              "#9c179e"
             ],
             [
              0.4444444444444444,
              "#bd3786"
             ],
             [
              0.5555555555555556,
              "#d8576b"
             ],
             [
              0.6666666666666666,
              "#ed7953"
             ],
             [
              0.7777777777777778,
              "#fb9f3a"
             ],
             [
              0.8888888888888888,
              "#fdca26"
             ],
             [
              1,
              "#f0f921"
             ]
            ],
            "type": "histogram2d"
           }
          ],
          "histogram2dcontour": [
           {
            "colorbar": {
             "outlinewidth": 0,
             "ticks": ""
            },
            "colorscale": [
             [
              0,
              "#0d0887"
             ],
             [
              0.1111111111111111,
              "#46039f"
             ],
             [
              0.2222222222222222,
              "#7201a8"
             ],
             [
              0.3333333333333333,
              "#9c179e"
             ],
             [
              0.4444444444444444,
              "#bd3786"
             ],
             [
              0.5555555555555556,
              "#d8576b"
             ],
             [
              0.6666666666666666,
              "#ed7953"
             ],
             [
              0.7777777777777778,
              "#fb9f3a"
             ],
             [
              0.8888888888888888,
              "#fdca26"
             ],
             [
              1,
              "#f0f921"
             ]
            ],
            "type": "histogram2dcontour"
           }
          ],
          "mesh3d": [
           {
            "colorbar": {
             "outlinewidth": 0,
             "ticks": ""
            },
            "type": "mesh3d"
           }
          ],
          "parcoords": [
           {
            "line": {
             "colorbar": {
              "outlinewidth": 0,
              "ticks": ""
             }
            },
            "type": "parcoords"
           }
          ],
          "pie": [
           {
            "automargin": true,
            "type": "pie"
           }
          ],
          "scatter": [
           {
            "marker": {
             "colorbar": {
              "outlinewidth": 0,
              "ticks": ""
             }
            },
            "type": "scatter"
           }
          ],
          "scatter3d": [
           {
            "line": {
             "colorbar": {
              "outlinewidth": 0,
              "ticks": ""
             }
            },
            "marker": {
             "colorbar": {
              "outlinewidth": 0,
              "ticks": ""
             }
            },
            "type": "scatter3d"
           }
          ],
          "scattercarpet": [
           {
            "marker": {
             "colorbar": {
              "outlinewidth": 0,
              "ticks": ""
             }
            },
            "type": "scattercarpet"
           }
          ],
          "scattergeo": [
           {
            "marker": {
             "colorbar": {
              "outlinewidth": 0,
              "ticks": ""
             }
            },
            "type": "scattergeo"
           }
          ],
          "scattergl": [
           {
            "marker": {
             "colorbar": {
              "outlinewidth": 0,
              "ticks": ""
             }
            },
            "type": "scattergl"
           }
          ],
          "scattermapbox": [
           {
            "marker": {
             "colorbar": {
              "outlinewidth": 0,
              "ticks": ""
             }
            },
            "type": "scattermapbox"
           }
          ],
          "scatterpolar": [
           {
            "marker": {
             "colorbar": {
              "outlinewidth": 0,
              "ticks": ""
             }
            },
            "type": "scatterpolar"
           }
          ],
          "scatterpolargl": [
           {
            "marker": {
             "colorbar": {
              "outlinewidth": 0,
              "ticks": ""
             }
            },
            "type": "scatterpolargl"
           }
          ],
          "scatterternary": [
           {
            "marker": {
             "colorbar": {
              "outlinewidth": 0,
              "ticks": ""
             }
            },
            "type": "scatterternary"
           }
          ],
          "surface": [
           {
            "colorbar": {
             "outlinewidth": 0,
             "ticks": ""
            },
            "colorscale": [
             [
              0,
              "#0d0887"
             ],
             [
              0.1111111111111111,
              "#46039f"
             ],
             [
              0.2222222222222222,
              "#7201a8"
             ],
             [
              0.3333333333333333,
              "#9c179e"
             ],
             [
              0.4444444444444444,
              "#bd3786"
             ],
             [
              0.5555555555555556,
              "#d8576b"
             ],
             [
              0.6666666666666666,
              "#ed7953"
             ],
             [
              0.7777777777777778,
              "#fb9f3a"
             ],
             [
              0.8888888888888888,
              "#fdca26"
             ],
             [
              1,
              "#f0f921"
             ]
            ],
            "type": "surface"
           }
          ],
          "table": [
           {
            "cells": {
             "fill": {
              "color": "#EBF0F8"
             },
             "line": {
              "color": "white"
             }
            },
            "header": {
             "fill": {
              "color": "#C8D4E3"
             },
             "line": {
              "color": "white"
             }
            },
            "type": "table"
           }
          ]
         },
         "layout": {
          "annotationdefaults": {
           "arrowcolor": "#2a3f5f",
           "arrowhead": 0,
           "arrowwidth": 1
          },
          "autotypenumbers": "strict",
          "coloraxis": {
           "colorbar": {
            "outlinewidth": 0,
            "ticks": ""
           }
          },
          "colorscale": {
           "diverging": [
            [
             0,
             "#8e0152"
            ],
            [
             0.1,
             "#c51b7d"
            ],
            [
             0.2,
             "#de77ae"
            ],
            [
             0.3,
             "#f1b6da"
            ],
            [
             0.4,
             "#fde0ef"
            ],
            [
             0.5,
             "#f7f7f7"
            ],
            [
             0.6,
             "#e6f5d0"
            ],
            [
             0.7,
             "#b8e186"
            ],
            [
             0.8,
             "#7fbc41"
            ],
            [
             0.9,
             "#4d9221"
            ],
            [
             1,
             "#276419"
            ]
           ],
           "sequential": [
            [
             0,
             "#0d0887"
            ],
            [
             0.1111111111111111,
             "#46039f"
            ],
            [
             0.2222222222222222,
             "#7201a8"
            ],
            [
             0.3333333333333333,
             "#9c179e"
            ],
            [
             0.4444444444444444,
             "#bd3786"
            ],
            [
             0.5555555555555556,
             "#d8576b"
            ],
            [
             0.6666666666666666,
             "#ed7953"
            ],
            [
             0.7777777777777778,
             "#fb9f3a"
            ],
            [
             0.8888888888888888,
             "#fdca26"
            ],
            [
             1,
             "#f0f921"
            ]
           ],
           "sequentialminus": [
            [
             0,
             "#0d0887"
            ],
            [
             0.1111111111111111,
             "#46039f"
            ],
            [
             0.2222222222222222,
             "#7201a8"
            ],
            [
             0.3333333333333333,
             "#9c179e"
            ],
            [
             0.4444444444444444,
             "#bd3786"
            ],
            [
             0.5555555555555556,
             "#d8576b"
            ],
            [
             0.6666666666666666,
             "#ed7953"
            ],
            [
             0.7777777777777778,
             "#fb9f3a"
            ],
            [
             0.8888888888888888,
             "#fdca26"
            ],
            [
             1,
             "#f0f921"
            ]
           ]
          },
          "colorway": [
           "#636efa",
           "#EF553B",
           "#00cc96",
           "#ab63fa",
           "#FFA15A",
           "#19d3f3",
           "#FF6692",
           "#B6E880",
           "#FF97FF",
           "#FECB52"
          ],
          "font": {
           "color": "#2a3f5f"
          },
          "geo": {
           "bgcolor": "white",
           "lakecolor": "white",
           "landcolor": "#E5ECF6",
           "showlakes": true,
           "showland": true,
           "subunitcolor": "white"
          },
          "hoverlabel": {
           "align": "left"
          },
          "hovermode": "closest",
          "mapbox": {
           "style": "light"
          },
          "paper_bgcolor": "white",
          "plot_bgcolor": "#E5ECF6",
          "polar": {
           "angularaxis": {
            "gridcolor": "white",
            "linecolor": "white",
            "ticks": ""
           },
           "bgcolor": "#E5ECF6",
           "radialaxis": {
            "gridcolor": "white",
            "linecolor": "white",
            "ticks": ""
           }
          },
          "scene": {
           "xaxis": {
            "backgroundcolor": "#E5ECF6",
            "gridcolor": "white",
            "gridwidth": 2,
            "linecolor": "white",
            "showbackground": true,
            "ticks": "",
            "zerolinecolor": "white"
           },
           "yaxis": {
            "backgroundcolor": "#E5ECF6",
            "gridcolor": "white",
            "gridwidth": 2,
            "linecolor": "white",
            "showbackground": true,
            "ticks": "",
            "zerolinecolor": "white"
           },
           "zaxis": {
            "backgroundcolor": "#E5ECF6",
            "gridcolor": "white",
            "gridwidth": 2,
            "linecolor": "white",
            "showbackground": true,
            "ticks": "",
            "zerolinecolor": "white"
           }
          },
          "shapedefaults": {
           "line": {
            "color": "#2a3f5f"
           }
          },
          "ternary": {
           "aaxis": {
            "gridcolor": "white",
            "linecolor": "white",
            "ticks": ""
           },
           "baxis": {
            "gridcolor": "white",
            "linecolor": "white",
            "ticks": ""
           },
           "bgcolor": "#E5ECF6",
           "caxis": {
            "gridcolor": "white",
            "linecolor": "white",
            "ticks": ""
           }
          },
          "title": {
           "x": 0.05
          },
          "xaxis": {
           "automargin": true,
           "gridcolor": "white",
           "linecolor": "white",
           "ticks": "",
           "title": {
            "standoff": 15
           },
           "zerolinecolor": "white",
           "zerolinewidth": 2
          },
          "yaxis": {
           "automargin": true,
           "gridcolor": "white",
           "linecolor": "white",
           "ticks": "",
           "title": {
            "standoff": 15
           },
           "zerolinecolor": "white",
           "zerolinewidth": 2
          }
         }
        },
        "xaxis": {
         "anchor": "y",
         "autorange": true,
         "domain": [
          0,
          1
         ],
         "range": [
          0,
          998893.6842105263
         ],
         "title": {
          "text": "Fund"
         },
         "type": "linear"
        },
        "yaxis": {
         "anchor": "x",
         "autorange": true,
         "domain": [
          0,
          1
         ],
         "range": [
          -0.5,
          43.5
         ],
         "title": {
          "text": "y"
         },
         "type": "category"
        }
       }
      },
      "image/png": "[encoded data removed]",
      "text/html": [
       "<div>                            <div id=\"e638764e-c622-4950-b4b5-53c9fabfa299\" class=\"plotly-graph-div\" style=\"height:525px; width:100%;\"></div>            <script type=\"text/javascript\">                require([\"plotly\"], function(Plotly) {                    window.PLOTLYENV=window.PLOTLYENV || {};                                    if (document.getElementById(\"e638764e-c622-4950-b4b5-53c9fabfa299\")) {                    Plotly.newPlot(                        \"e638764e-c622-4950-b4b5-53c9fabfa299\",                        [{\"alignmentgroup\":\"True\",\"hovertemplate\":\"Fund=%{x}<br>y=%{y}<extra></extra>\",\"legendgroup\":\"\",\"marker\":{\"color\":\"#636efa\",\"pattern\":{\"shape\":\"\"}},\"name\":\"\",\"offsetgroup\":\"\",\"orientation\":\"h\",\"showlegend\":false,\"textposition\":\"auto\",\"x\":[71730,35498,158881,411858,102931,15145,764744,948949,4645,20530,20549,694783,30929,113059,31127,35794,10211,103027,137544,235976,164012,20601,72246,41232,4647,78344,30760,122013,45398,81074,72472,60888,97682,41203,103460,10081,67436,127397,76253,51712,194884,108426,20550,10080],\"xaxis\":\"x\",\"y\":[\"AL\",\"AR\",\"AZ\",\"CA\",\"CO\",\"CT\",\"FL\",\"GA\",\"HI\",\"IA\",\"ID\",\"IL\",\"IN\",\"KS\",\"KY\",\"LA\",\"MA\",\"MD\",\"MI\",\"MN\",\"MO\",\"MS\",\"NC\",\"NE\",\"NH\",\"NJ\",\"NM\",\"NV\",\"NY\",\"OH\",\"OK\",\"OR\",\"PA\",\"PR\",\"SC\",\"SD\",\"TN\",\"TX\",\"UT\",\"VA\",\"WA\",\"WI\",\"WV\",\"WY\"],\"yaxis\":\"y\",\"type\":\"bar\"}],                        {\"template\":{\"data\":{\"bar\":[{\"error_x\":{\"color\":\"#2a3f5f\"},\"error_y\":{\"color\":\"#2a3f5f\"},\"marker\":{\"line\":{\"color\":\"#E5ECF6\",\"width\":0.5},\"pattern\":{\"fillmode\":\"overlay\",\"size\":10,\"solidity\":0.2}},\"type\":\"bar\"}],\"barpolar\":[{\"marker\":{\"line\":{\"color\":\"#E5ECF6\",\"width\":0.5},\"pattern\":{\"fillmode\":\"overlay\",\"size\":10,\"solidity\":0.2}},\"type\":\"barpolar\"}],\"carpet\":[{\"aaxis\":{\"endlinecolor\":\"#2a3f5f\",\"gridcolor\":\"white\",\"linecolor\":\"white\",\"minorgridcolor\":\"white\",\"startlinecolor\":\"#2a3f5f\"},\"baxis\":{\"endlinecolor\":\"#2a3f5f\",\"gridcolor\":\"white\",\"linecolor\":\"white\",\"minorgridcolor\":\"white\",\"startlinecolor\":\"#2a3f5f\"},\"type\":\"carpet\"}],\"choropleth\":[{\"colorbar\":{\"outlinewidth\":0,\"ticks\":\"\"},\"type\":\"choropleth\"}],\"contour\":[{\"colorbar\":{\"outlinewidth\":0,\"ticks\":\"\"},\"colorscale\":[[0.0,\"#0d0887\"],[0.1111111111111111,\"#46039f\"],[0.2222222222222222,\"#7201a8\"],[0.3333333333333333,\"#9c179e\"],[0.4444444444444444,\"#bd3786\"],[0.5555555555555556,\"#d8576b\"],[0.6666666666666666,\"#ed7953\"],[0.7777777777777778,\"#fb9f3a\"],[0.8888888888888888,\"#fdca26\"],[1.0,\"#f0f921\"]],\"type\":\"contour\"}],\"contourcarpet\":[{\"colorbar\":{\"outlinewidth\":0,\"ticks\":\"\"},\"type\":\"contourcarpet\"}],\"heatmap\":[{\"colorbar\":{\"outlinewidth\":0,\"ticks\":\"\"},\"colorscale\":[[0.0,\"#0d0887\"],[0.1111111111111111,\"#46039f\"],[0.2222222222222222,\"#7201a8\"],[0.3333333333333333,\"#9c179e\"],[0.4444444444444444,\"#bd3786\"],[0.5555555555555556,\"#d8576b\"],[0.6666666666666666,\"#ed7953\"],[0.7777777777777778,\"#fb9f3a\"],[0.8888888888888888,\"#fdca26\"],[1.0,\"#f0f921\"]],\"type\":\"heatmap\"}],\"heatmapgl\":[{\"colorbar\":{\"outlinewidth\":0,\"ticks\":\"\"},\"colorscale\":[[0.0,\"#0d0887\"],[0.1111111111111111,\"#46039f\"],[0.2222222222222222,\"#7201a8\"],[0.3333333333333333,\"#9c179e\"],[0.4444444444444444,\"#bd3786\"],[0.5555555555555556,\"#d8576b\"],[0.6666666666666666,\"#ed7953\"],[0.7777777777777778,\"#fb9f3a\"],[0.8888888888888888,\"#fdca26\"],[1.0,\"#f0f921\"]],\"type\":\"heatmapgl\"}],\"histogram\":[{\"marker\":{\"pattern\":{\"fillmode\":\"overlay\",\"size\":10,\"solidity\":0.2}},\"type\":\"histogram\"}],\"histogram2d\":[{\"colorbar\":{\"outlinewidth\":0,\"ticks\":\"\"},\"colorscale\":[[0.0,\"#0d0887\"],[0.1111111111111111,\"#46039f\"],[0.2222222222222222,\"#7201a8\"],[0.3333333333333333,\"#9c179e\"],[0.4444444444444444,\"#bd3786\"],[0.5555555555555556,\"#d8576b\"],[0.6666666666666666,\"#ed7953\"],[0.7777777777777778,\"#fb9f3a\"],[0.8888888888888888,\"#fdca26\"],[1.0,\"#f0f921\"]],\"type\":\"histogram2d\"}],\"histogram2dcontour\":[{\"colorbar\":{\"outlinewidth\":0,\"ticks\":\"\"},\"colorscale\":[[0.0,\"#0d0887\"],[0.1111111111111111,\"#46039f\"],[0.2222222222222222,\"#7201a8\"],[0.3333333333333333,\"#9c179e\"],[0.4444444444444444,\"#bd3786\"],[0.5555555555555556,\"#d8576b\"],[0.6666666666666666,\"#ed7953\"],[0.7777777777777778,\"#fb9f3a\"],[0.8888888888888888,\"#fdca26\"],[1.0,\"#f0f921\"]],\"type\":\"histogram2dcontour\"}],\"mesh3d\":[{\"colorbar\":{\"outlinewidth\":0,\"ticks\":\"\"},\"type\":\"mesh3d\"}],\"parcoords\":[{\"line\":{\"colorbar\":{\"outlinewidth\":0,\"ticks\":\"\"}},\"type\":\"parcoords\"}],\"pie\":[{\"automargin\":true,\"type\":\"pie\"}],\"scatter\":[{\"marker\":{\"colorbar\":{\"outlinewidth\":0,\"ticks\":\"\"}},\"type\":\"scatter\"}],\"scatter3d\":[{\"line\":{\"colorbar\":{\"outlinewidth\":0,\"ticks\":\"\"}},\"marker\":{\"colorbar\":{\"outlinewidth\":0,\"ticks\":\"\"}},\"type\":\"scatter3d\"}],\"scattercarpet\":[{\"marker\":{\"colorbar\":{\"outlinewidth\":0,\"ticks\":\"\"}},\"type\":\"scattercarpet\"}],\"scattergeo\":[{\"marker\":{\"colorbar\":{\"outlinewidth\":0,\"ticks\":\"\"}},\"type\":\"scattergeo\"}],\"scattergl\":[{\"marker\":{\"colorbar\":{\"outlinewidth\":0,\"ticks\":\"\"}},\"type\":\"scattergl\"}],\"scattermapbox\":[{\"marker\":{\"colorbar\":{\"outlinewidth\":0,\"ticks\":\"\"}},\"type\":\"scattermapbox\"}],\"scatterpolar\":[{\"marker\":{\"colorbar\":{\"outlinewidth\":0,\"ticks\":\"\"}},\"type\":\"scatterpolar\"}],\"scatterpolargl\":[{\"marker\":{\"colorbar\":{\"outlinewidth\":0,\"ticks\":\"\"}},\"type\":\"scatterpolargl\"}],\"scatterternary\":[{\"marker\":{\"colorbar\":{\"outlinewidth\":0,\"ticks\":\"\"}},\"type\":\"scatterternary\"}],\"surface\":[{\"colorbar\":{\"outlinewidth\":0,\"ticks\":\"\"},\"colorscale\":[[0.0,\"#0d0887\"],[0.1111111111111111,\"#46039f\"],[0.2222222222222222,\"#7201a8\"],[0.3333333333333333,\"#9c179e\"],[0.4444444444444444,\"#bd3786\"],[0.5555555555555556,\"#d8576b\"],[0.6666666666666666,\"#ed7953\"],[0.7777777777777778,\"#fb9f3a\"],[0.8888888888888888,\"#fdca26\"],[1.0,\"#f0f921\"]],\"type\":\"surface\"}],\"table\":[{\"cells\":{\"fill\":{\"color\":\"#EBF0F8\"},\"line\":{\"color\":\"white\"}},\"header\":{\"fill\":{\"color\":\"#C8D4E3\"},\"line\":{\"color\":\"white\"}},\"type\":\"table\"}]},\"layout\":{\"annotationdefaults\":{\"arrowcolor\":\"#2a3f5f\",\"arrowhead\":0,\"arrowwidth\":1},\"autotypenumbers\":\"strict\",\"coloraxis\":{\"colorbar\":{\"outlinewidth\":0,\"ticks\":\"\"}},\"colorscale\":{\"diverging\":[[0,\"#8e0152\"],[0.1,\"#c51b7d\"],[0.2,\"#de77ae\"],[0.3,\"#f1b6da\"],[0.4,\"#fde0ef\"],[0.5,\"#f7f7f7\"],[0.6,\"#e6f5d0\"],[0.7,\"#b8e186\"],[0.8,\"#7fbc41\"],[0.9,\"#4d9221\"],[1,\"#276419\"]],\"sequential\":[[0.0,\"#0d0887\"],[0.1111111111111111,\"#46039f\"],[0.2222222222222222,\"#7201a8\"],[0.3333333333333333,\"#9c179e\"],[0.4444444444444444,\"#bd3786\"],[0.5555555555555556,\"#d8576b\"],[0.6666666666666666,\"#ed7953\"],[0.7777777777777778,\"#fb9f3a\"],[0.8888888888888888,\"#fdca26\"],[1.0,\"#f0f921\"]],\"sequentialminus\":[[0.0,\"#0d0887\"],[0.1111111111111111,\"#46039f\"],[0.2222222222222222,\"#7201a8\"],[0.3333333333333333,\"#9c179e\"],[0.4444444444444444,\"#bd3786\"],[0.5555555555555556,\"#d8576b\"],[0.6666666666666666,\"#ed7953\"],[0.7777777777777778,\"#fb9f3a\"],[0.8888888888888888,\"#fdca26\"],[1.0,\"#f0f921\"]]},\"colorway\":[\"#636efa\",\"#EF553B\",\"#00cc96\",\"#ab63fa\",\"#FFA15A\",\"#19d3f3\",\"#FF6692\",\"#B6E880\",\"#FF97FF\",\"#FECB52\"],\"font\":{\"color\":\"#2a3f5f\"},\"geo\":{\"bgcolor\":\"white\",\"lakecolor\":\"white\",\"landcolor\":\"#E5ECF6\",\"showlakes\":true,\"showland\":true,\"subunitcolor\":\"white\"},\"hoverlabel\":{\"align\":\"left\"},\"hovermode\":\"closest\",\"mapbox\":{\"style\":\"light\"},\"paper_bgcolor\":\"white\",\"plot_bgcolor\":\"#E5ECF6\",\"polar\":{\"angularaxis\":{\"gridcolor\":\"white\",\"linecolor\":\"white\",\"ticks\":\"\"},\"bgcolor\":\"#E5ECF6\",\"radialaxis\":{\"gridcolor\":\"white\",\"linecolor\":\"white\",\"ticks\":\"\"}},\"scene\":{\"xaxis\":{\"backgroundcolor\":\"#E5ECF6\",\"gridcolor\":\"white\",\"gridwidth\":2,\"linecolor\":\"white\",\"showbackground\":true,\"ticks\":\"\",\"zerolinecolor\":\"white\"},\"yaxis\":{\"backgroundcolor\":\"#E5ECF6\",\"gridcolor\":\"white\",\"gridwidth\":2,\"linecolor\":\"white\",\"showbackground\":true,\"ticks\":\"\",\"zerolinecolor\":\"white\"},\"zaxis\":{\"backgroundcolor\":\"#E5ECF6\",\"gridcolor\":\"white\",\"gridwidth\":2,\"linecolor\":\"white\",\"showbackground\":true,\"ticks\":\"\",\"zerolinecolor\":\"white\"}},\"shapedefaults\":{\"line\":{\"color\":\"#2a3f5f\"}},\"ternary\":{\"aaxis\":{\"gridcolor\":\"white\",\"linecolor\":\"white\",\"ticks\":\"\"},\"baxis\":{\"gridcolor\":\"white\",\"linecolor\":\"white\",\"ticks\":\"\"},\"bgcolor\":\"#E5ECF6\",\"caxis\":{\"gridcolor\":\"white\",\"linecolor\":\"white\",\"ticks\":\"\"}},\"title\":{\"x\":0.05},\"xaxis\":{\"automargin\":true,\"gridcolor\":\"white\",\"linecolor\":\"white\",\"ticks\":\"\",\"title\":{\"standoff\":15},\"zerolinecolor\":\"white\",\"zerolinewidth\":2},\"yaxis\":{\"automargin\":true,\"gridcolor\":\"white\",\"linecolor\":\"white\",\"ticks\":\"\",\"title\":{\"standoff\":15},\"zerolinecolor\":\"white\",\"zerolinewidth\":2}}},\"xaxis\":{\"anchor\":\"y\",\"domain\":[0.0,1.0],\"title\":{\"text\":\"Fund\"}},\"yaxis\":{\"anchor\":\"x\",\"domain\":[0.0,1.0],\"title\":{\"text\":\"y\"}},\"legend\":{\"tracegroupgap\":0},\"margin\":{\"t\":60},\"barmode\":\"relative\"},                        {\"responsive\": true}                    ).then(function(){\n",
       "                            \n",
       "var gd = document.getElementById('e638764e-c622-4950-b4b5-53c9fabfa299');\n",
       "var x = new MutationObserver(function (mutations, observer) {{\n",
       "        var display = window.getComputedStyle(gd).display;\n",
       "        if (!display || display === 'none') {{\n",
       "            console.log([gd, 'removed!']);\n",
       "            Plotly.purge(gd);\n",
       "            observer.disconnect();\n",
       "        }}\n",
       "}});\n",
       "\n",
       "// Listen for the removal of the full notebook cells\n",
       "var notebookContainer = gd.closest('#notebook-container');\n",
       "if (notebookContainer) {{\n",
       "    x.observe(notebookContainer, {childList: true});\n",
       "}}\n",
       "\n",
       "// Listen for the clearing of the current output cell\n",
       "var outputEl = gd.closest('.output');\n",
       "if (outputEl) {{\n",
       "    x.observe(outputEl, {childList: true});\n",
       "}}\n",
       "\n",
       "                        })                };                });            </script>        </div>"
      ]
     },
     "metadata": {},
     "output_type": "display_data"
    }
   ],
   "source": [
    "## 시각화 \n",
    "import plotly.express as px\n",
    "px.bar(data_frame = stateFund, x='Fund', y=StateFund.index)"
   ]
  },
  {
   "cell_type": "code",
   "execution_count": 125,
   "id": "a2edd2e4-f90e-4510-a410-c71c31ffca6c",
   "metadata": {},
   "outputs": [],
   "source": [
    "## 데이트타임으로 형변환\n",
    "df['Closing Date']= pd.to_datetime(df['Closing Date'])"
   ]
  },
  {
   "cell_type": "code",
   "execution_count": 126,
   "id": "e1ad86e9-88a5-49a6-846a-f29a92a414a8",
   "metadata": {},
   "outputs": [
    {
     "data": {
      "text/plain": [
       "2020"
      ]
     },
     "execution_count": 126,
     "metadata": {},
     "output_type": "execute_result"
    }
   ],
   "source": [
    "df['Closing Date'].iloc[0].year ## year, month , day, hour, min"
   ]
  },
  {
   "cell_type": "code",
   "execution_count": 129,
   "id": "d6114f5d-49aa-4930-b118-5c14035828d0",
   "metadata": {},
   "outputs": [
    {
     "data": {
      "application/vnd.plotly.v1+json": {
       "config": {
        "plotlyServerURL": "https://plot.ly"
       },
       "data": [
        {
         "hovertemplate": "StateSt=KS<br>Closing Date=%{x}<br>Fund=%{y}<extra></extra>",
         "legendgroup": "KS",
         "marker": {
          "color": "#636efa",
          "symbol": "circle"
         },
         "mode": "markers",
         "name": "KS",
         "orientation": "v",
         "showlegend": true,
         "type": "scatter",
         "x": [
          "2020-10-23T00:00:00",
          "2017-10-13T00:00:00",
          "2012-07-20T00:00:00",
          "2011-08-12T00:00:00",
          "2010-10-22T00:00:00",
          "2010-10-15T00:00:00",
          "2010-07-23T00:00:00",
          "2009-12-11T00:00:00",
          "2009-06-19T00:00:00",
          "2009-03-20T00:00:00",
          "2008-08-22T00:00:00"
         ],
         "xaxis": "x",
         "y": [
          10538,
          10529,
          10452,
          10388,
          10302,
          10298,
          10269,
          10160,
          10066,
          10046,
          10011
         ],
         "yaxis": "y"
        },
        {
         "hovertemplate": "StateSt=FL<br>Closing Date=%{x}<br>Fund=%{y}<extra></extra>",
         "legendgroup": "FL",
         "marker": {
          "color": "#EF553B",
          "symbol": "circle"
         },
         "mode": "markers",
         "name": "FL",
         "orientation": "v",
         "showlegend": true,
         "type": "scatter",
         "x": [
          "2020-10-16T00:00:00",
          "2015-01-16T00:00:00",
          "2014-06-20T00:00:00",
          "2013-10-30T00:00:00",
          "2013-08-02T00:00:00",
          "2013-04-19T00:00:00",
          "2013-04-19T00:00:00",
          "2012-11-02T00:00:00",
          "2012-10-19T00:00:00",
          "2012-10-19T00:00:00",
          "2012-07-20T00:00:00",
          "2012-06-15T00:00:00",
          "2012-05-04T00:00:00",
          "2012-01-27T00:00:00",
          "2012-01-20T00:00:00",
          "2011-12-16T00:00:00",
          "2011-10-21T00:00:00",
          "2011-09-09T00:00:00",
          "2011-08-19T00:00:00",
          "2011-07-22T00:00:00",
          "2011-07-22T00:00:00",
          "2011-07-15T00:00:00",
          "2011-06-17T00:00:00",
          "2011-05-06T00:00:00",
          "2011-04-29T00:00:00",
          "2011-04-29T00:00:00",
          "2011-02-11T00:00:00",
          "2011-01-07T00:00:00",
          "2010-12-17T00:00:00",
          "2010-11-19T00:00:00",
          "2010-10-22T00:00:00",
          "2010-10-22T00:00:00",
          "2010-10-01T00:00:00",
          "2010-09-24T00:00:00",
          "2010-09-10T00:00:00",
          "2010-08-20T00:00:00",
          "2010-08-20T00:00:00",
          "2010-07-30T00:00:00",
          "2010-07-30T00:00:00",
          "2010-07-23T00:00:00",
          "2010-07-16T00:00:00",
          "2010-07-16T00:00:00",
          "2010-07-16T00:00:00",
          "2010-06-25T00:00:00",
          "2010-05-28T00:00:00",
          "2010-05-28T00:00:00",
          "2010-05-28T00:00:00",
          "2010-05-07T00:00:00",
          "2010-04-16T00:00:00",
          "2010-04-16T00:00:00",
          "2010-04-16T00:00:00",
          "2010-03-26T00:00:00",
          "2010-03-12T00:00:00",
          "2010-03-05T00:00:00",
          "2010-02-19T00:00:00",
          "2010-01-29T00:00:00",
          "2010-01-22T00:00:00",
          "2009-12-18T00:00:00",
          "2009-12-11T00:00:00",
          "2009-11-20T00:00:00",
          "2009-11-13T00:00:00",
          "2009-11-13T00:00:00",
          "2009-10-23T00:00:00",
          "2009-10-23T00:00:00",
          "2009-10-23T00:00:00",
          "2009-08-07T00:00:00",
          "2009-08-07T00:00:00",
          "2009-07-31T00:00:00",
          "2009-05-21T00:00:00",
          "2009-02-13T00:00:00",
          "2009-01-30T00:00:00",
          "2008-10-31T00:00:00",
          "2008-08-01T00:00:00",
          "2004-03-12T00:00:00",
          "2002-03-01T00:00:00",
          "2002-01-11T00:00:00"
         ],
         "xaxis": "x",
         "y": [
          10537,
          10510,
          10501,
          10490,
          10484,
          10473,
          10475,
          10465,
          10461,
          10462,
          10454,
          10445,
          10439,
          10421,
          10418,
          10415,
          10408,
          10395,
          10392,
          10381,
          10382,
          10376,
          10370,
          10364,
          10360,
          10362,
          10342,
          10325,
          10324,
          10316,
          10303,
          10300,
          10296,
          10293,
          10286,
          10281,
          10279,
          10272,
          10271,
          10268,
          10260,
          10261,
          10259,
          10253,
          10243,
          10242,
          10241,
          10234,
          10216,
          10210,
          10213,
          10206,
          10197,
          10192,
          10187,
          10181,
          10173,
          10165,
          10158,
          10151,
          10149,
          10148,
          10129,
          10131,
          10130,
          10099,
          10098,
          10095,
          10061,
          10038,
          10032,
          10019,
          10010,
          4663,
          4654,
          4650
         ],
         "yaxis": "y"
        },
        {
         "hovertemplate": "StateSt=WV<br>Closing Date=%{x}<br>Fund=%{y}<extra></extra>",
         "legendgroup": "WV",
         "marker": {
          "color": "#00cc96",
          "symbol": "circle"
         },
         "mode": "markers",
         "name": "WV",
         "orientation": "v",
         "showlegend": true,
         "type": "scatter",
         "x": [
          "2020-04-03T00:00:00",
          "2008-09-19T00:00:00"
         ],
         "xaxis": "x",
         "y": [
          10536,
          10014
         ],
         "yaxis": "y"
        },
        {
         "hovertemplate": "StateSt=NE<br>Closing Date=%{x}<br>Fund=%{y}<extra></extra>",
         "legendgroup": "NE",
         "marker": {
          "color": "#ab63fa",
          "symbol": "circle"
         },
         "mode": "markers",
         "name": "NE",
         "orientation": "v",
         "showlegend": true,
         "type": "scatter",
         "x": [
          "2020-02-14T00:00:00",
          "2011-11-04T00:00:00",
          "2010-06-04T00:00:00",
          "2009-02-13T00:00:00"
         ],
         "xaxis": "x",
         "y": [
          10535,
          10410,
          10248,
          10039
         ],
         "yaxis": "y"
        },
        {
         "hovertemplate": "StateSt=NJ<br>Closing Date=%{x}<br>Fund=%{y}<extra></extra>",
         "legendgroup": "NJ",
         "marker": {
          "color": "#FFA15A",
          "symbol": "circle"
         },
         "mode": "markers",
         "name": "NJ",
         "orientation": "v",
         "showlegend": true,
         "type": "scatter",
         "x": [
          "2019-11-01T00:00:00",
          "2017-01-13T00:00:00",
          "2012-04-20T00:00:00",
          "2011-10-14T00:00:00",
          "2010-09-17T00:00:00",
          "2009-07-31T00:00:00",
          "2009-05-01T00:00:00",
          "2004-02-14T00:00:00"
         ],
         "xaxis": "x",
         "y": [
          10534,
          10523,
          10433,
          10403,
          10290,
          10097,
          10058,
          6006
         ],
         "yaxis": "y"
        },
        {
         "hovertemplate": "StateSt=OH<br>Closing Date=%{x}<br>Fund=%{y}<extra></extra>",
         "legendgroup": "OH",
         "marker": {
          "color": "#19d3f3",
          "symbol": "circle"
         },
         "mode": "markers",
         "name": "OH",
         "orientation": "v",
         "showlegend": true,
         "type": "scatter",
         "x": [
          "2019-10-25T00:00:00",
          "2014-05-23T00:00:00",
          "2010-09-17T00:00:00",
          "2010-03-19T00:00:00",
          "2009-12-04T00:00:00",
          "2009-07-31T00:00:00",
          "2007-10-04T00:00:00",
          "2002-02-01T00:00:00",
          "2001-05-03T00:00:00"
         ],
         "xaxis": "x",
         "y": [
          10533,
          10499,
          10288,
          10201,
          10155,
          10096,
          10002,
          4652,
          4648
         ],
         "yaxis": "y"
        },
        {
         "hovertemplate": "StateSt=KY<br>Closing Date=%{x}<br>Fund=%{y}<extra></extra>",
         "legendgroup": "KY",
         "marker": {
          "color": "#FF6692",
          "symbol": "circle"
         },
         "mode": "markers",
         "name": "KY",
         "orientation": "v",
         "showlegend": true,
         "type": "scatter",
         "x": [
          "2019-10-25T00:00:00",
          "2013-04-19T00:00:00",
          "2009-09-18T00:00:00"
         ],
         "xaxis": "x",
         "y": [
          10532,
          10474,
          10121
         ],
         "yaxis": "y"
        },
        {
         "hovertemplate": "StateSt=TX<br>Closing Date=%{x}<br>Fund=%{y}<extra></extra>",
         "legendgroup": "TX",
         "marker": {
          "color": "#B6E880",
          "symbol": "circle"
         },
         "mode": "markers",
         "name": "TX",
         "orientation": "v",
         "showlegend": true,
         "type": "scatter",
         "x": [
          "2019-05-31T00:00:00",
          "2013-12-13T00:00:00",
          "2013-09-13T00:00:00",
          "2011-09-30T00:00:00",
          "2010-02-19T00:00:00",
          "2009-10-30T00:00:00",
          "2009-10-30T00:00:00",
          "2009-10-30T00:00:00",
          "2009-08-21T00:00:00",
          "2009-07-02T00:00:00",
          "2008-12-12T00:00:00",
          "2008-11-07T00:00:00",
          "2002-01-18T00:00:00"
         ],
         "xaxis": "x",
         "y": [
          10531,
          10491,
          10488,
          10398,
          10186,
          10138,
          10142,
          10141,
          10105,
          10079,
          10026,
          10021,
          4651
         ],
         "yaxis": "y"
        },
        {
         "hovertemplate": "StateSt=IL<br>Closing Date=%{x}<br>Fund=%{y}<extra></extra>",
         "legendgroup": "IL",
         "marker": {
          "color": "#FF97FF",
          "symbol": "circle"
         },
         "mode": "markers",
         "name": "IL",
         "orientation": "v",
         "showlegend": true,
         "type": "scatter",
         "x": [
          "2017-12-15T00:00:00",
          "2017-05-26T00:00:00",
          "2017-01-27T00:00:00",
          "2015-05-08T00:00:00",
          "2015-01-23T00:00:00",
          "2014-10-24T00:00:00",
          "2014-07-25T00:00:00",
          "2014-06-20T00:00:00",
          "2014-05-16T00:00:00",
          "2014-01-17T00:00:00",
          "2013-02-15T00:00:00",
          "2012-11-02T00:00:00",
          "2012-09-28T00:00:00",
          "2012-08-03T00:00:00",
          "2012-07-20T00:00:00",
          "2012-06-08T00:00:00",
          "2012-03-23T00:00:00",
          "2012-03-09T00:00:00",
          "2012-02-10T00:00:00",
          "2011-10-28T00:00:00",
          "2011-10-14T00:00:00",
          "2011-08-19T00:00:00",
          "2011-08-05T00:00:00",
          "2011-07-08T00:00:00",
          "2011-04-08T00:00:00",
          "2011-03-25T00:00:00",
          "2011-02-25T00:00:00",
          "2011-02-04T00:00:00",
          "2010-10-22T00:00:00",
          "2010-08-20T00:00:00",
          "2010-08-13T00:00:00",
          "2010-08-06T00:00:00",
          "2010-06-04T00:00:00",
          "2010-05-14T00:00:00",
          "2010-04-23T00:00:00",
          "2010-04-23T00:00:00",
          "2010-04-23T00:00:00",
          "2010-04-23T00:00:00",
          "2010-04-23T00:00:00",
          "2010-04-23T00:00:00",
          "2010-04-23T00:00:00",
          "2010-03-05T00:00:00",
          "2010-02-19T00:00:00",
          "2010-01-15T00:00:00",
          "2009-12-18T00:00:00",
          "2009-12-04T00:00:00",
          "2009-10-30T00:00:00",
          "2009-10-30T00:00:00",
          "2009-10-23T00:00:00",
          "2009-09-11T00:00:00",
          "2009-09-04T00:00:00",
          "2009-09-04T00:00:00",
          "2009-07-31T00:00:00",
          "2009-07-02T00:00:00",
          "2009-07-02T00:00:00",
          "2009-07-02T00:00:00",
          "2009-07-02T00:00:00",
          "2009-07-02T00:00:00",
          "2009-07-02T00:00:00",
          "2009-06-05T00:00:00",
          "2009-05-22T00:00:00",
          "2009-05-22T00:00:00",
          "2009-02-27T00:00:00",
          "2009-02-13T00:00:00",
          "2009-01-16T00:00:00",
          "2008-10-10T00:00:00",
          "2002-06-27T00:00:00",
          "2001-07-27T00:00:00",
          "2000-12-14T00:00:00"
         ],
         "xaxis": "x",
         "y": [
          10530,
          10528,
          10524,
          10514,
          10511,
          10507,
          10505,
          10502,
          10498,
          10492,
          10470,
          10464,
          10459,
          10456,
          10453,
          10442,
          10431,
          10429,
          10424,
          10409,
          10402,
          10390,
          10386,
          10374,
          10352,
          10350,
          10347,
          10337,
          10301,
          10284,
          10277,
          10276,
          10246,
          10236,
          10224,
          10223,
          10221,
          10222,
          10220,
          10219,
          10218,
          10191,
          10184,
          10170,
          10166,
          10154,
          10140,
          10137,
          10128,
          10117,
          10115,
          10113,
          10094,
          10074,
          10078,
          10073,
          10075,
          10077,
          10076,
          10064,
          10063,
          10062,
          10042,
          10037,
          10028,
          10017,
          6005,
          6004,
          4646
         ],
         "yaxis": "y"
        },
        {
         "hovertemplate": "StateSt=WI<br>Closing Date=%{x}<br>Fund=%{y}<extra></extra>",
         "legendgroup": "WI",
         "marker": {
          "color": "#FECB52",
          "symbol": "circle"
         },
         "mode": "markers",
         "name": "WI",
         "orientation": "v",
         "showlegend": true,
         "type": "scatter",
         "x": [
          "2017-05-05T00:00:00",
          "2016-03-11T00:00:00",
          "2013-08-09T00:00:00",
          "2013-05-31T00:00:00",
          "2011-03-11T00:00:00",
          "2011-02-11T00:00:00",
          "2011-01-28T00:00:00",
          "2010-11-19T00:00:00",
          "2010-09-17T00:00:00",
          "2009-10-23T00:00:00",
          "2003-05-09T00:00:00"
         ],
         "xaxis": "x",
         "y": [
          10527,
          10518,
          10485,
          10478,
          10348,
          10339,
          10332,
          10315,
          10291,
          10132,
          4661
         ],
         "yaxis": "y"
        },
        {
         "hovertemplate": "StateSt=LA<br>Closing Date=%{x}<br>Fund=%{y}<extra></extra>",
         "legendgroup": "LA",
         "marker": {
          "color": "#636efa",
          "symbol": "circle"
         },
         "mode": "markers",
         "name": "LA",
         "orientation": "v",
         "showlegend": true,
         "type": "scatter",
         "x": [
          "2017-04-28T00:00:00",
          "2011-11-18T00:00:00",
          "2010-03-12T00:00:00",
          "2002-12-17T00:00:00"
         ],
         "xaxis": "x",
         "y": [
          10526,
          10413,
          10196,
          4659
         ],
         "yaxis": "y"
        },
        {
         "hovertemplate": "StateSt=UT<br>Closing Date=%{x}<br>Fund=%{y}<extra></extra>",
         "legendgroup": "UT",
         "marker": {
          "color": "#EF553B",
          "symbol": "circle"
         },
         "mode": "markers",
         "name": "UT",
         "orientation": "v",
         "showlegend": true,
         "type": "scatter",
         "x": [
          "2017-03-03T00:00:00",
          "2011-11-04T00:00:00",
          "2010-03-19T00:00:00",
          "2010-03-05T00:00:00",
          "2010-01-15T00:00:00",
          "2009-05-01T00:00:00",
          "2009-01-30T00:00:00",
          "2004-06-25T00:00:00"
         ],
         "xaxis": "x",
         "y": [
          10525,
          10411,
          10200,
          10193,
          10171,
          10057,
          10031,
          4665
         ],
         "yaxis": "y"
        },
        {
         "hovertemplate": "StateSt=AR<br>Closing Date=%{x}<br>Fund=%{y}<extra></extra>",
         "legendgroup": "AR",
         "marker": {
          "color": "#00cc96",
          "symbol": "circle"
         },
         "mode": "markers",
         "name": "AR",
         "orientation": "v",
         "showlegend": true,
         "type": "scatter",
         "x": [
          "2016-09-23T00:00:00",
          "2010-12-17T00:00:00",
          "2008-05-09T00:00:00",
          "2001-09-07T00:00:00"
         ],
         "xaxis": "x",
         "y": [
          10522,
          10322,
          10005,
          4649
         ],
         "yaxis": "y"
        },
        {
         "hovertemplate": "StateSt=GA<br>Closing Date=%{x}<br>Fund=%{y}<extra></extra>",
         "legendgroup": "GA",
         "marker": {
          "color": "#ab63fa",
          "symbol": "circle"
         },
         "mode": "markers",
         "name": "GA",
         "orientation": "v",
         "showlegend": true,
         "type": "scatter",
         "x": [
          "2016-08-19T00:00:00",
          "2015-10-02T00:00:00",
          "2015-02-13T00:00:00",
          "2014-07-18T00:00:00",
          "2013-05-10T00:00:00",
          "2013-04-26T00:00:00",
          "2013-03-08T00:00:00",
          "2012-11-16T00:00:00",
          "2012-07-27T00:00:00",
          "2012-07-20T00:00:00",
          "2012-07-20T00:00:00",
          "2012-07-06T00:00:00",
          "2012-06-15T00:00:00",
          "2012-03-23T00:00:00",
          "2012-03-02T00:00:00",
          "2012-02-24T00:00:00",
          "2012-01-20T00:00:00",
          "2011-11-10T00:00:00",
          "2011-10-21T00:00:00",
          "2011-10-21T00:00:00",
          "2011-10-14T00:00:00",
          "2011-09-02T00:00:00",
          "2011-09-02T00:00:00",
          "2011-08-19T00:00:00",
          "2011-07-15T00:00:00",
          "2011-07-15T00:00:00",
          "2011-06-24T00:00:00",
          "2011-06-17T00:00:00",
          "2011-05-20T00:00:00",
          "2011-05-20T00:00:00",
          "2011-04-29T00:00:00",
          "2011-04-29T00:00:00",
          "2011-04-15T00:00:00",
          "2011-04-15T00:00:00",
          "2011-02-18T00:00:00",
          "2011-02-18T00:00:00",
          "2011-02-04T00:00:00",
          "2011-02-04T00:00:00",
          "2011-01-21T00:00:00",
          "2011-01-14T00:00:00",
          "2010-12-17T00:00:00",
          "2010-12-17T00:00:00",
          "2010-12-17T00:00:00",
          "2010-11-12T00:00:00",
          "2010-11-12T00:00:00",
          "2010-10-22T00:00:00",
          "2010-10-22T00:00:00",
          "2010-09-17T00:00:00",
          "2010-09-17T00:00:00",
          "2010-09-17T00:00:00",
          "2010-07-30T00:00:00",
          "2010-07-23T00:00:00",
          "2010-06-25T00:00:00",
          "2010-05-14T00:00:00",
          "2010-03-26T00:00:00",
          "2010-03-26T00:00:00",
          "2010-03-19T00:00:00",
          "2010-03-19T00:00:00",
          "2010-03-19T00:00:00",
          "2010-01-29T00:00:00",
          "2010-01-29T00:00:00",
          "2009-12-18T00:00:00",
          "2009-12-04T00:00:00",
          "2009-12-04T00:00:00",
          "2009-12-04T00:00:00",
          "2009-11-06T00:00:00",
          "2009-10-23T00:00:00",
          "2009-09-25T00:00:00",
          "2009-08-21T00:00:00",
          "2009-08-21T00:00:00",
          "2009-07-24T00:00:00",
          "2009-07-24T00:00:00",
          "2009-07-24T00:00:00",
          "2009-07-24T00:00:00",
          "2009-07-24T00:00:00",
          "2009-07-24T00:00:00",
          "2009-07-17T00:00:00",
          "2009-06-26T00:00:00",
          "2009-06-26T00:00:00",
          "2009-06-19T00:00:00",
          "2009-05-01T00:00:00",
          "2009-04-24T00:00:00",
          "2009-03-27T00:00:00",
          "2009-03-20T00:00:00",
          "2009-03-06T00:00:00",
          "2009-02-06T00:00:00",
          "2008-12-12T00:00:00",
          "2008-12-05T00:00:00",
          "2008-11-21T00:00:00",
          "2008-10-24T00:00:00",
          "2008-08-29T00:00:00",
          "2007-09-28T00:00:00",
          "2002-09-30T00:00:00"
         ],
         "xaxis": "x",
         "y": [
          10521,
          10516,
          10512,
          10504,
          10481,
          10476,
          10471,
          10466,
          10455,
          10450,
          10451,
          10448,
          10446,
          10430,
          10428,
          10426,
          10419,
          10412,
          10406,
          10407,
          10404,
          10393,
          10394,
          10391,
          10377,
          10378,
          10372,
          10371,
          10366,
          10365,
          10363,
          10361,
          10355,
          10353,
          10344,
          10345,
          10338,
          10336,
          10329,
          10327,
          10323,
          10319,
          10320,
          10312,
          10313,
          10304,
          10305,
          10292,
          10289,
          10287,
          10274,
          10265,
          10251,
          10238,
          10208,
          10207,
          10202,
          10199,
          10198,
          10180,
          10179,
          10164,
          10153,
          10157,
          10152,
          10145,
          10127,
          10122,
          10108,
          10107,
          10088,
          10087,
          10085,
          10090,
          10089,
          10086,
          10084,
          10069,
          10068,
          10067,
          10059,
          10053,
          10048,
          10047,
          10044,
          10036,
          10027,
          10025,
          10022,
          10018,
          10012,
          10001,
          4657
         ],
         "yaxis": "y"
        },
        {
         "hovertemplate": "StateSt=PA<br>Closing Date=%{x}<br>Fund=%{y}<extra></extra>",
         "legendgroup": "PA",
         "marker": {
          "color": "#FFA15A",
          "symbol": "circle"
         },
         "mode": "markers",
         "name": "PA",
         "orientation": "v",
         "showlegend": true,
         "type": "scatter",
         "x": [
          "2016-05-06T00:00:00",
          "2014-02-28T00:00:00",
          "2012-10-26T00:00:00",
          "2012-01-20T00:00:00",
          "2011-08-18T00:00:00",
          "2010-12-10T00:00:00",
          "2010-11-19T00:00:00",
          "2009-08-14T00:00:00",
          "2007-02-02T00:00:00",
          "2003-11-14T00:00:00"
         ],
         "xaxis": "x",
         "y": [
          10520,
          10496,
          10463,
          10417,
          10389,
          10317,
          10314,
          10104,
          10000,
          4662
         ],
         "yaxis": "y"
        },
        {
         "hovertemplate": "StateSt=TN<br>Closing Date=%{x}<br>Fund=%{y}<extra></extra>",
         "legendgroup": "TN",
         "marker": {
          "color": "#19d3f3",
          "symbol": "circle"
         },
         "mode": "markers",
         "name": "TN",
         "orientation": "v",
         "showlegend": true,
         "type": "scatter",
         "x": [
          "2016-04-29T00:00:00",
          "2013-08-23T00:00:00",
          "2013-06-07T00:00:00",
          "2012-06-15T00:00:00",
          "2012-01-27T00:00:00",
          "2012-01-27T00:00:00",
          "2002-11-08T00:00:00"
         ],
         "xaxis": "x",
         "y": [
          10519,
          10486,
          10483,
          10447,
          10420,
          10423,
          4658
         ],
         "yaxis": "y"
        },
        {
         "hovertemplate": "StateSt=WA<br>Closing Date=%{x}<br>Fund=%{y}<extra></extra>",
         "legendgroup": "WA",
         "marker": {
          "color": "#FF6692",
          "symbol": "circle"
         },
         "mode": "markers",
         "name": "WA",
         "orientation": "v",
         "showlegend": true,
         "type": "scatter",
         "x": [
          "2015-10-02T00:00:00",
          "2013-01-11T00:00:00",
          "2011-08-05T00:00:00",
          "2011-05-27T00:00:00",
          "2011-05-20T00:00:00",
          "2010-11-05T00:00:00",
          "2010-10-01T00:00:00",
          "2010-09-24T00:00:00",
          "2010-07-30T00:00:00",
          "2010-06-11T00:00:00",
          "2010-04-30T00:00:00",
          "2010-04-16T00:00:00",
          "2010-02-26T00:00:00",
          "2010-01-29T00:00:00",
          "2010-01-22T00:00:00",
          "2010-01-08T00:00:00",
          "2009-09-11T00:00:00",
          "2009-05-08T00:00:00",
          "2009-01-16T00:00:00"
         ],
         "xaxis": "x",
         "y": [
          10517,
          10468,
          10387,
          10368,
          10367,
          10309,
          10295,
          10294,
          10275,
          10249,
          10228,
          10212,
          10189,
          10178,
          10172,
          10168,
          10119,
          10060,
          10029
         ],
         "yaxis": "y"
        },
        {
         "hovertemplate": "StateSt=CO<br>Closing Date=%{x}<br>Fund=%{y}<extra></extra>",
         "legendgroup": "CO",
         "marker": {
          "color": "#B6E880",
          "symbol": "circle"
         },
         "mode": "markers",
         "name": "CO",
         "orientation": "v",
         "showlegend": true,
         "type": "scatter",
         "x": [
          "2015-07-10T00:00:00",
          "2011-10-21T00:00:00",
          "2011-07-22T00:00:00",
          "2011-07-08T00:00:00",
          "2011-07-08T00:00:00",
          "2011-01-28T00:00:00",
          "2011-01-21T00:00:00",
          "2009-10-02T00:00:00",
          "2009-04-10T00:00:00",
          "2009-03-20T00:00:00"
         ],
         "xaxis": "x",
         "y": [
          10515,
          10405,
          10380,
          10375,
          10373,
          10334,
          10331,
          10123,
          10050,
          10045
         ],
         "yaxis": "y"
        },
        {
         "hovertemplate": "StateSt=PR<br>Closing Date=%{x}<br>Fund=%{y}<extra></extra>",
         "legendgroup": "PR",
         "marker": {
          "color": "#FF97FF",
          "symbol": "circle"
         },
         "mode": "markers",
         "name": "PR",
         "orientation": "v",
         "showlegend": true,
         "type": "scatter",
         "x": [
          "2015-02-27T00:00:00",
          "2010-04-30T00:00:00",
          "2010-04-30T00:00:00",
          "2010-04-30T00:00:00"
         ],
         "xaxis": "x",
         "y": [
          10513,
          10231,
          10230,
          10229
         ],
         "yaxis": "y"
        },
        {
         "hovertemplate": "StateSt=MN<br>Closing Date=%{x}<br>Fund=%{y}<extra></extra>",
         "legendgroup": "MN",
         "marker": {
          "color": "#FECB52",
          "symbol": "circle"
         },
         "mode": "markers",
         "name": "MN",
         "orientation": "v",
         "showlegend": true,
         "type": "scatter",
         "x": [
          "2014-12-19T00:00:00",
          "2013-01-18T00:00:00",
          "2012-09-07T00:00:00",
          "2012-04-27T00:00:00",
          "2012-02-24T00:00:00",
          "2012-01-27T00:00:00",
          "2011-10-07T00:00:00",
          "2011-04-15T00:00:00",
          "2010-12-17T00:00:00",
          "2010-07-23T00:00:00",
          "2010-05-21T00:00:00",
          "2010-05-07T00:00:00",
          "2010-03-19T00:00:00",
          "2010-02-05T00:00:00",
          "2010-01-29T00:00:00",
          "2010-01-15T00:00:00",
          "2009-11-06T00:00:00",
          "2009-10-23T00:00:00",
          "2009-10-02T00:00:00",
          "2009-09-11T00:00:00",
          "2009-08-28T00:00:00",
          "2009-06-26T00:00:00",
          "2008-05-30T00:00:00"
         ],
         "xaxis": "x",
         "y": [
          10509,
          10469,
          10457,
          10436,
          10427,
          10422,
          10399,
          10357,
          10321,
          10264,
          10240,
          10233,
          10203,
          10183,
          10182,
          10169,
          10143,
          10133,
          10124,
          10118,
          10111,
          10070,
          10006
         ],
         "yaxis": "y"
        },
        {
         "hovertemplate": "StateSt=CA<br>Closing Date=%{x}<br>Fund=%{y}<extra></extra>",
         "legendgroup": "CA",
         "marker": {
          "color": "#636efa",
          "symbol": "circle"
         },
         "mode": "markers",
         "name": "CA",
         "orientation": "v",
         "showlegend": true,
         "type": "scatter",
         "x": [
          "2014-11-07T00:00:00",
          "2012-04-27T00:00:00",
          "2011-09-23T00:00:00",
          "2011-02-18T00:00:00",
          "2011-02-18T00:00:00",
          "2011-02-11T00:00:00",
          "2010-11-05T00:00:00",
          "2010-11-05T00:00:00",
          "2010-08-20T00:00:00",
          "2010-08-20T00:00:00",
          "2010-08-20T00:00:00",
          "2010-08-20T00:00:00",
          "2010-05-28T00:00:00",
          "2010-05-07T00:00:00",
          "2010-04-16T00:00:00",
          "2010-04-16T00:00:00",
          "2010-02-19T00:00:00",
          "2010-01-29T00:00:00",
          "2009-12-18T00:00:00",
          "2009-12-18T00:00:00",
          "2009-11-13T00:00:00",
          "2009-11-06T00:00:00",
          "2009-10-30T00:00:00",
          "2009-10-30T00:00:00",
          "2009-10-30T00:00:00",
          "2009-10-16T00:00:00",
          "2009-08-28T00:00:00",
          "2009-07-17T00:00:00",
          "2009-07-17T00:00:00",
          "2009-06-26T00:00:00",
          "2009-06-26T00:00:00",
          "2009-04-24T00:00:00",
          "2009-02-06T00:00:00",
          "2009-02-06T00:00:00",
          "2009-01-23T00:00:00",
          "2008-11-21T00:00:00",
          "2008-11-21T00:00:00",
          "2008-11-07T00:00:00",
          "2008-07-25T00:00:00",
          "2008-07-11T00:00:00",
          "2003-02-07T00:00:00"
         ],
         "xaxis": "x",
         "y": [
          10508,
          10437,
          10397,
          10346,
          10343,
          10340,
          10307,
          10310,
          10285,
          10282,
          10278,
          10283,
          10244,
          10232,
          10217,
          10214,
          10185,
          10177,
          10167,
          10161,
          10150,
          10147,
          10139,
          10134,
          10135,
          10126,
          10110,
          10082,
          10083,
          10072,
          10071,
          10054,
          10034,
          10035,
          10030,
          10024,
          10023,
          10020,
          10009,
          10007,
          4660
         ],
         "yaxis": "y"
        },
        {
         "hovertemplate": "StateSt=MD<br>Closing Date=%{x}<br>Fund=%{y}<extra></extra>",
         "legendgroup": "MD",
         "marker": {
          "color": "#EF553B",
          "symbol": "circle"
         },
         "mode": "markers",
         "name": "MD",
         "orientation": "v",
         "showlegend": true,
         "type": "scatter",
         "x": [
          "2014-10-17T00:00:00",
          "2014-05-30T00:00:00",
          "2012-04-27T00:00:00",
          "2012-04-27T00:00:00",
          "2010-11-05T00:00:00",
          "2010-07-09T00:00:00",
          "2010-07-09T00:00:00",
          "2010-03-05T00:00:00",
          "2009-08-28T00:00:00",
          "2009-01-30T00:00:00"
         ],
         "xaxis": "x",
         "y": [
          10506,
          10500,
          10435,
          10434,
          10308,
          10257,
          10255,
          10190,
          10109,
          10033
         ],
         "yaxis": "y"
        },
        {
         "hovertemplate": "StateSt=OK<br>Closing Date=%{x}<br>Fund=%{y}<extra></extra>",
         "legendgroup": "OK",
         "marker": {
          "color": "#00cc96",
          "symbol": "circle"
         },
         "mode": "markers",
         "name": "OK",
         "orientation": "v",
         "showlegend": true,
         "type": "scatter",
         "x": [
          "2014-06-27T00:00:00",
          "2014-01-24T00:00:00",
          "2012-06-08T00:00:00",
          "2011-03-11T00:00:00",
          "2011-01-28T00:00:00",
          "2010-07-09T00:00:00",
          "2009-07-31T00:00:00"
         ],
         "xaxis": "x",
         "y": [
          10503,
          10493,
          10443,
          10349,
          10335,
          10256,
          10093
         ],
         "yaxis": "y"
        },
        {
         "hovertemplate": "StateSt=SC<br>Closing Date=%{x}<br>Fund=%{y}<extra></extra>",
         "legendgroup": "SC",
         "marker": {
          "color": "#ab63fa",
          "symbol": "circle"
         },
         "mode": "markers",
         "name": "SC",
         "orientation": "v",
         "showlegend": true,
         "type": "scatter",
         "x": [
          "2014-04-25T00:00:00",
          "2012-06-08T00:00:00",
          "2012-04-27T00:00:00",
          "2011-07-29T00:00:00",
          "2011-06-03T00:00:00",
          "2011-01-21T00:00:00",
          "2010-07-23T00:00:00",
          "2010-07-16T00:00:00",
          "2010-07-16T00:00:00",
          "2010-04-09T00:00:00"
         ],
         "xaxis": "x",
         "y": [
          10497,
          10441,
          10438,
          10383,
          10369,
          10328,
          10270,
          10263,
          10262,
          10209
         ],
         "yaxis": "y"
        },
        {
         "hovertemplate": "StateSt=VA<br>Closing Date=%{x}<br>Fund=%{y}<extra></extra>",
         "legendgroup": "VA",
         "marker": {
          "color": "#FFA15A",
          "symbol": "circle"
         },
         "mode": "markers",
         "name": "VA",
         "orientation": "v",
         "showlegend": true,
         "type": "scatter",
         "x": [
          "2014-02-28T00:00:00",
          "2011-09-23T00:00:00",
          "2011-07-29T00:00:00",
          "2010-08-20T00:00:00",
          "2009-12-04T00:00:00"
         ],
         "xaxis": "x",
         "y": [
          10495,
          10396,
          10385,
          10280,
          10156
         ],
         "yaxis": "y"
        },
        {
         "hovertemplate": "StateSt=ID<br>Closing Date=%{x}<br>Fund=%{y}<extra></extra>",
         "legendgroup": "ID",
         "marker": {
          "color": "#19d3f3",
          "symbol": "circle"
         },
         "mode": "markers",
         "name": "ID",
         "orientation": "v",
         "showlegend": true,
         "type": "scatter",
         "x": [
          "2014-01-31T00:00:00",
          "2009-04-24T00:00:00"
         ],
         "xaxis": "x",
         "y": [
          10494,
          10055
         ],
         "yaxis": "y"
        },
        {
         "hovertemplate": "StateSt=CT<br>Closing Date=%{x}<br>Fund=%{y}<extra></extra>",
         "legendgroup": "CT",
         "marker": {
          "color": "#FF6692",
          "symbol": "circle"
         },
         "mode": "markers",
         "name": "CT",
         "orientation": "v",
         "showlegend": true,
         "type": "scatter",
         "x": [
          "2013-09-13T00:00:00",
          "2002-06-26T00:00:00"
         ],
         "xaxis": "x",
         "y": [
          10489,
          4656
         ],
         "yaxis": "y"
        },
        {
         "hovertemplate": "StateSt=AZ<br>Closing Date=%{x}<br>Fund=%{y}<extra></extra>",
         "legendgroup": "AZ",
         "marker": {
          "color": "#B6E880",
          "symbol": "circle"
         },
         "mode": "markers",
         "name": "AZ",
         "orientation": "v",
         "showlegend": true,
         "type": "scatter",
         "x": [
          "2013-08-23T00:00:00",
          "2013-05-14T00:00:00",
          "2013-04-05T00:00:00",
          "2011-12-16T00:00:00",
          "2011-07-15T00:00:00",
          "2011-01-07T00:00:00",
          "2010-11-12T00:00:00",
          "2010-10-22T00:00:00",
          "2010-05-07T00:00:00",
          "2010-03-26T00:00:00",
          "2009-12-11T00:00:00",
          "2009-10-30T00:00:00",
          "2009-09-04T00:00:00",
          "2009-08-14T00:00:00",
          "2009-08-14T00:00:00",
          "2002-02-07T00:00:00"
         ],
         "xaxis": "x",
         "y": [
          10487,
          10479,
          10472,
          10416,
          10379,
          10326,
          10311,
          10306,
          10235,
          10205,
          10159,
          10136,
          10114,
          10101,
          10102,
          4653
         ],
         "yaxis": "y"
        },
        {
         "hovertemplate": "StateSt=NV<br>Closing Date=%{x}<br>Fund=%{y}<extra></extra>",
         "legendgroup": "NV",
         "marker": {
          "color": "#FF97FF",
          "symbol": "circle"
         },
         "mode": "markers",
         "name": "NV",
         "orientation": "v",
         "showlegend": true,
         "type": "scatter",
         "x": [
          "2013-06-06T00:00:00",
          "2011-04-08T00:00:00",
          "2010-07-23T00:00:00",
          "2010-06-18T00:00:00",
          "2010-05-28T00:00:00",
          "2010-02-26T00:00:00",
          "2009-08-14T00:00:00",
          "2009-04-17T00:00:00",
          "2009-02-27T00:00:00",
          "2008-09-25T00:00:00",
          "2008-09-05T00:00:00",
          "2008-07-25T00:00:00"
         ],
         "xaxis": "x",
         "y": [
          10482,
          10351,
          10267,
          10250,
          10245,
          10188,
          10100,
          10051,
          10043,
          10015,
          10013,
          10008
         ],
         "yaxis": "y"
        },
        {
         "hovertemplate": "StateSt=NC<br>Closing Date=%{x}<br>Fund=%{y}<extra></extra>",
         "legendgroup": "NC",
         "marker": {
          "color": "#FECB52",
          "symbol": "circle"
         },
         "mode": "markers",
         "name": "NC",
         "orientation": "v",
         "showlegend": true,
         "type": "scatter",
         "x": [
          "2013-05-10T00:00:00",
          "2013-04-26T00:00:00",
          "2012-06-08T00:00:00",
          "2011-10-14T00:00:00",
          "2011-01-21T00:00:00",
          "2009-06-19T00:00:00",
          "2009-04-10T00:00:00"
         ],
         "xaxis": "x",
         "y": [
          10480,
          10477,
          10444,
          10401,
          10330,
          10065,
          10049
         ],
         "yaxis": "y"
        },
        {
         "hovertemplate": "StateSt=MO<br>Closing Date=%{x}<br>Fund=%{y}<extra></extra>",
         "legendgroup": "MO",
         "marker": {
          "color": "#636efa",
          "symbol": "circle"
         },
         "mode": "markers",
         "name": "MO",
         "orientation": "v",
         "showlegend": true,
         "type": "scatter",
         "x": [
          "2012-12-14T00:00:00",
          "2012-10-19T00:00:00",
          "2012-09-14T00:00:00",
          "2012-07-13T00:00:00",
          "2011-10-07T00:00:00",
          "2010-10-15T00:00:00",
          "2010-10-15T00:00:00",
          "2010-05-14T00:00:00",
          "2010-04-30T00:00:00",
          "2010-04-30T00:00:00",
          "2010-01-22T00:00:00",
          "2009-11-06T00:00:00",
          "2009-09-04T00:00:00",
          "2009-04-17T00:00:00",
          "2008-03-07T00:00:00",
          "2008-01-25T00:00:00"
         ],
         "xaxis": "x",
         "y": [
          10467,
          10460,
          10458,
          10449,
          10400,
          10297,
          10299,
          10239,
          10225,
          10227,
          10174,
          10146,
          10112,
          10052,
          10004,
          10003
         ],
         "yaxis": "y"
        },
        {
         "hovertemplate": "StateSt=AL<br>Closing Date=%{x}<br>Fund=%{y}<extra></extra>",
         "legendgroup": "AL",
         "marker": {
          "color": "#EF553B",
          "symbol": "circle"
         },
         "mode": "markers",
         "name": "AL",
         "orientation": "v",
         "showlegend": true,
         "type": "scatter",
         "x": [
          "2012-05-18T00:00:00",
          "2011-04-15T00:00:00",
          "2011-04-15T00:00:00",
          "2010-03-19T00:00:00",
          "2009-12-18T00:00:00",
          "2009-08-21T00:00:00",
          "2009-08-14T00:00:00"
         ],
         "xaxis": "x",
         "y": [
          10440,
          10358,
          10356,
          10204,
          10163,
          10106,
          10103
         ],
         "yaxis": "y"
        },
        {
         "hovertemplate": "StateSt=MI<br>Closing Date=%{x}<br>Fund=%{y}<extra></extra>",
         "legendgroup": "MI",
         "marker": {
          "color": "#00cc96",
          "symbol": "circle"
         },
         "mode": "markers",
         "name": "MI",
         "orientation": "v",
         "showlegend": true,
         "type": "scatter",
         "x": [
          "2012-03-30T00:00:00",
          "2011-04-29T00:00:00",
          "2011-02-11T00:00:00",
          "2010-12-10T00:00:00",
          "2010-07-16T00:00:00",
          "2010-05-14T00:00:00",
          "2010-04-30T00:00:00",
          "2010-04-16T00:00:00",
          "2009-12-18T00:00:00",
          "2009-11-06T00:00:00",
          "2009-10-02T00:00:00",
          "2009-04-24T00:00:00",
          "2008-10-10T00:00:00",
          "2002-03-28T00:00:00"
         ],
         "xaxis": "x",
         "y": [
          10432,
          10359,
          10341,
          10318,
          10258,
          10237,
          10226,
          10215,
          10162,
          10144,
          10125,
          10056,
          10016,
          4655
         ],
         "yaxis": "y"
        },
        {
         "hovertemplate": "StateSt=IN<br>Closing Date=%{x}<br>Fund=%{y}<extra></extra>",
         "legendgroup": "IN",
         "marker": {
          "color": "#ab63fa",
          "symbol": "circle"
         },
         "mode": "markers",
         "name": "IN",
         "orientation": "v",
         "showlegend": true,
         "type": "scatter",
         "x": [
          "2012-02-10T00:00:00",
          "2011-07-29T00:00:00",
          "2009-09-18T00:00:00"
         ],
         "xaxis": "x",
         "y": [
          10425,
          10384,
          10120
         ],
         "yaxis": "y"
        },
        {
         "hovertemplate": "StateSt=IA<br>Closing Date=%{x}<br>Fund=%{y}<extra></extra>",
         "legendgroup": "IA",
         "marker": {
          "color": "#FFA15A",
          "symbol": "circle"
         },
         "mode": "markers",
         "name": "IA",
         "orientation": "v",
         "showlegend": true,
         "type": "scatter",
         "x": [
          "2011-11-18T00:00:00",
          "2009-09-04T00:00:00"
         ],
         "xaxis": "x",
         "y": [
          10414,
          10116
         ],
         "yaxis": "y"
        },
        {
         "hovertemplate": "StateSt=MS<br>Closing Date=%{x}<br>Fund=%{y}<extra></extra>",
         "legendgroup": "MS",
         "marker": {
          "color": "#19d3f3",
          "symbol": "circle"
         },
         "mode": "markers",
         "name": "MS",
         "orientation": "v",
         "showlegend": true,
         "type": "scatter",
         "x": [
          "2011-04-15T00:00:00",
          "2010-06-04T00:00:00"
         ],
         "xaxis": "x",
         "y": [
          10354,
          10247
         ],
         "yaxis": "y"
        },
        {
         "hovertemplate": "StateSt=NM<br>Closing Date=%{x}<br>Fund=%{y}<extra></extra>",
         "legendgroup": "NM",
         "marker": {
          "color": "#FF6692",
          "symbol": "circle"
         },
         "mode": "markers",
         "name": "NM",
         "orientation": "v",
         "showlegend": true,
         "type": "scatter",
         "x": [
          "2011-01-28T00:00:00",
          "2010-06-25T00:00:00",
          "2010-01-22T00:00:00"
         ],
         "xaxis": "x",
         "y": [
          10333,
          10252,
          10175
         ],
         "yaxis": "y"
        },
        {
         "hovertemplate": "StateSt=OR<br>Closing Date=%{x}<br>Fund=%{y}<extra></extra>",
         "legendgroup": "OR",
         "marker": {
          "color": "#B6E880",
          "symbol": "circle"
         },
         "mode": "markers",
         "name": "OR",
         "orientation": "v",
         "showlegend": true,
         "type": "scatter",
         "x": [
          "2010-07-30T00:00:00",
          "2010-07-23T00:00:00",
          "2010-01-22T00:00:00",
          "2009-08-07T00:00:00",
          "2009-02-20T00:00:00",
          "2009-02-13T00:00:00"
         ],
         "xaxis": "x",
         "y": [
          10273,
          10266,
          10176,
          10092,
          10041,
          10040
         ],
         "yaxis": "y"
        },
        {
         "hovertemplate": "StateSt=NY<br>Closing Date=%{x}<br>Fund=%{y}<extra></extra>",
         "legendgroup": "NY",
         "marker": {
          "color": "#FF97FF",
          "symbol": "circle"
         },
         "mode": "markers",
         "name": "NY",
         "orientation": "v",
         "showlegend": true,
         "type": "scatter",
         "x": [
          "2010-07-09T00:00:00",
          "2010-03-12T00:00:00",
          "2010-03-11T00:00:00",
          "2009-07-24T00:00:00",
          "2004-03-19T00:00:00"
         ],
         "xaxis": "x",
         "y": [
          10254,
          10195,
          10194,
          10091,
          4664
         ],
         "yaxis": "y"
        },
        {
         "hovertemplate": "StateSt=MA<br>Closing Date=%{x}<br>Fund=%{y}<extra></extra>",
         "legendgroup": "MA",
         "marker": {
          "color": "#FECB52",
          "symbol": "circle"
         },
         "mode": "markers",
         "name": "MA",
         "orientation": "v",
         "showlegend": true,
         "type": "scatter",
         "x": [
          "2010-04-16T00:00:00"
         ],
         "xaxis": "x",
         "y": [
          10211
         ],
         "yaxis": "y"
        },
        {
         "hovertemplate": "StateSt=SD<br>Closing Date=%{x}<br>Fund=%{y}<extra></extra>",
         "legendgroup": "SD",
         "marker": {
          "color": "#636efa",
          "symbol": "circle"
         },
         "mode": "markers",
         "name": "SD",
         "orientation": "v",
         "showlegend": true,
         "type": "scatter",
         "x": [
          "2009-07-17T00:00:00"
         ],
         "xaxis": "x",
         "y": [
          10081
         ],
         "yaxis": "y"
        },
        {
         "hovertemplate": "StateSt=WY<br>Closing Date=%{x}<br>Fund=%{y}<extra></extra>",
         "legendgroup": "WY",
         "marker": {
          "color": "#EF553B",
          "symbol": "circle"
         },
         "mode": "markers",
         "name": "WY",
         "orientation": "v",
         "showlegend": true,
         "type": "scatter",
         "x": [
          "2009-07-10T00:00:00"
         ],
         "xaxis": "x",
         "y": [
          10080
         ],
         "yaxis": "y"
        },
        {
         "hovertemplate": "StateSt=NH<br>Closing Date=%{x}<br>Fund=%{y}<extra></extra>",
         "legendgroup": "NH",
         "marker": {
          "color": "#00cc96",
          "symbol": "circle"
         },
         "mode": "markers",
         "name": "NH",
         "orientation": "v",
         "showlegend": true,
         "type": "scatter",
         "x": [
          "2001-02-02T00:00:00"
         ],
         "xaxis": "x",
         "y": [
          4647
         ],
         "yaxis": "y"
        },
        {
         "hovertemplate": "StateSt=HI<br>Closing Date=%{x}<br>Fund=%{y}<extra></extra>",
         "legendgroup": "HI",
         "marker": {
          "color": "#ab63fa",
          "symbol": "circle"
         },
         "mode": "markers",
         "name": "HI",
         "orientation": "v",
         "showlegend": true,
         "type": "scatter",
         "x": [
          "2000-10-13T00:00:00"
         ],
         "xaxis": "x",
         "y": [
          4645
         ],
         "yaxis": "y"
        }
       ],
       "layout": {
        "legend": {
         "title": {
          "text": "StateSt"
         },
         "tracegroupgap": 0
        },
        "margin": {
         "t": 60
        },
        "template": {
         "data": {
          "bar": [
           {
            "error_x": {
             "color": "#2a3f5f"
            },
            "error_y": {
             "color": "#2a3f5f"
            },
            "marker": {
             "line": {
              "color": "#E5ECF6",
              "width": 0.5
             },
             "pattern": {
              "fillmode": "overlay",
              "size": 10,
              "solidity": 0.2
             }
            },
            "type": "bar"
           }
          ],
          "barpolar": [
           {
            "marker": {
             "line": {
              "color": "#E5ECF6",
              "width": 0.5
             },
             "pattern": {
              "fillmode": "overlay",
              "size": 10,
              "solidity": 0.2
             }
            },
            "type": "barpolar"
           }
          ],
          "carpet": [
           {
            "aaxis": {
             "endlinecolor": "#2a3f5f",
             "gridcolor": "white",
             "linecolor": "white",
             "minorgridcolor": "white",
             "startlinecolor": "#2a3f5f"
            },
            "baxis": {
             "endlinecolor": "#2a3f5f",
             "gridcolor": "white",
             "linecolor": "white",
             "minorgridcolor": "white",
             "startlinecolor": "#2a3f5f"
            },
            "type": "carpet"
           }
          ],
          "choropleth": [
           {
            "colorbar": {
             "outlinewidth": 0,
             "ticks": ""
            },
            "type": "choropleth"
           }
          ],
          "contour": [
           {
            "colorbar": {
             "outlinewidth": 0,
             "ticks": ""
            },
            "colorscale": [
             [
              0,
              "#0d0887"
             ],
             [
              0.1111111111111111,
              "#46039f"
             ],
             [
              0.2222222222222222,
              "#7201a8"
             ],
             [
              0.3333333333333333,
              "#9c179e"
             ],
             [
              0.4444444444444444,
              "#bd3786"
             ],
             [
              0.5555555555555556,
              "#d8576b"
             ],
             [
              0.6666666666666666,
              "#ed7953"
             ],
             [
              0.7777777777777778,
              "#fb9f3a"
             ],
             [
              0.8888888888888888,
              "#fdca26"
             ],
             [
              1,
              "#f0f921"
             ]
            ],
            "type": "contour"
           }
          ],
          "contourcarpet": [
           {
            "colorbar": {
             "outlinewidth": 0,
             "ticks": ""
            },
            "type": "contourcarpet"
           }
          ],
          "heatmap": [
           {
            "colorbar": {
             "outlinewidth": 0,
             "ticks": ""
            },
            "colorscale": [
             [
              0,
              "#0d0887"
             ],
             [
              0.1111111111111111,
              "#46039f"
             ],
             [
              0.2222222222222222,
              "#7201a8"
             ],
             [
              0.3333333333333333,
              "#9c179e"
             ],
             [
              0.4444444444444444,
              "#bd3786"
             ],
             [
              0.5555555555555556,
              "#d8576b"
             ],
             [
              0.6666666666666666,
              "#ed7953"
             ],
             [
              0.7777777777777778,
              "#fb9f3a"
             ],
             [
              0.8888888888888888,
              "#fdca26"
             ],
             [
              1,
              "#f0f921"
             ]
            ],
            "type": "heatmap"
           }
          ],
          "heatmapgl": [
           {
            "colorbar": {
             "outlinewidth": 0,
             "ticks": ""
            },
            "colorscale": [
             [
              0,
              "#0d0887"
             ],
             [
              0.1111111111111111,
              "#46039f"
             ],
             [
              0.2222222222222222,
              "#7201a8"
             ],
             [
              0.3333333333333333,
              "#9c179e"
             ],
             [
              0.4444444444444444,
              "#bd3786"
             ],
             [
              0.5555555555555556,
              "#d8576b"
             ],
             [
              0.6666666666666666,
              "#ed7953"
             ],
             [
              0.7777777777777778,
              "#fb9f3a"
             ],
             [
              0.8888888888888888,
              "#fdca26"
             ],
             [
              1,
              "#f0f921"
             ]
            ],
            "type": "heatmapgl"
           }
          ],
          "histogram": [
           {
            "marker": {
             "pattern": {
              "fillmode": "overlay",
              "size": 10,
              "solidity": 0.2
             }
            },
            "type": "histogram"
           }
          ],
          "histogram2d": [
           {
            "colorbar": {
             "outlinewidth": 0,
             "ticks": ""
            },
            "colorscale": [
             [
              0,
              "#0d0887"
             ],
             [
              0.1111111111111111,
              "#46039f"
             ],
             [
              0.2222222222222222,
              "#7201a8"
             ],
             [
              0.3333333333333333,
              "#9c179e"
             ],
             [
              0.4444444444444444,
              "#bd3786"
             ],
             [
              0.5555555555555556,
              "#d8576b"
             ],
             [
              0.6666666666666666,
              "#ed7953"
             ],
             [
              0.7777777777777778,
              "#fb9f3a"
             ],
             [
              0.8888888888888888,
              "#fdca26"
             ],
             [
              1,
              "#f0f921"
             ]
            ],
            "type": "histogram2d"
           }
          ],
          "histogram2dcontour": [
           {
            "colorbar": {
             "outlinewidth": 0,
             "ticks": ""
            },
            "colorscale": [
             [
              0,
              "#0d0887"
             ],
             [
              0.1111111111111111,
              "#46039f"
             ],
             [
              0.2222222222222222,
              "#7201a8"
             ],
             [
              0.3333333333333333,
              "#9c179e"
             ],
             [
              0.4444444444444444,
              "#bd3786"
             ],
             [
              0.5555555555555556,
              "#d8576b"
             ],
             [
              0.6666666666666666,
              "#ed7953"
             ],
             [
              0.7777777777777778,
              "#fb9f3a"
             ],
             [
              0.8888888888888888,
              "#fdca26"
             ],
             [
              1,
              "#f0f921"
             ]
            ],
            "type": "histogram2dcontour"
           }
          ],
          "mesh3d": [
           {
            "colorbar": {
             "outlinewidth": 0,
             "ticks": ""
            },
            "type": "mesh3d"
           }
          ],
          "parcoords": [
           {
            "line": {
             "colorbar": {
              "outlinewidth": 0,
              "ticks": ""
             }
            },
            "type": "parcoords"
           }
          ],
          "pie": [
           {
            "automargin": true,
            "type": "pie"
           }
          ],
          "scatter": [
           {
            "fillpattern": {
             "fillmode": "overlay",
             "size": 10,
             "solidity": 0.2
            },
            "type": "scatter"
           }
          ],
          "scatter3d": [
           {
            "line": {
             "colorbar": {
              "outlinewidth": 0,
              "ticks": ""
             }
            },
            "marker": {
             "colorbar": {
              "outlinewidth": 0,
              "ticks": ""
             }
            },
            "type": "scatter3d"
           }
          ],
          "scattercarpet": [
           {
            "marker": {
             "colorbar": {
              "outlinewidth": 0,
              "ticks": ""
             }
            },
            "type": "scattercarpet"
           }
          ],
          "scattergeo": [
           {
            "marker": {
             "colorbar": {
              "outlinewidth": 0,
              "ticks": ""
             }
            },
            "type": "scattergeo"
           }
          ],
          "scattergl": [
           {
            "marker": {
             "colorbar": {
              "outlinewidth": 0,
              "ticks": ""
             }
            },
            "type": "scattergl"
           }
          ],
          "scattermapbox": [
           {
            "marker": {
             "colorbar": {
              "outlinewidth": 0,
              "ticks": ""
             }
            },
            "type": "scattermapbox"
           }
          ],
          "scatterpolar": [
           {
            "marker": {
             "colorbar": {
              "outlinewidth": 0,
              "ticks": ""
             }
            },
            "type": "scatterpolar"
           }
          ],
          "scatterpolargl": [
           {
            "marker": {
             "colorbar": {
              "outlinewidth": 0,
              "ticks": ""
             }
            },
            "type": "scatterpolargl"
           }
          ],
          "scatterternary": [
           {
            "marker": {
             "colorbar": {
              "outlinewidth": 0,
              "ticks": ""
             }
            },
            "type": "scatterternary"
           }
          ],
          "surface": [
           {
            "colorbar": {
             "outlinewidth": 0,
             "ticks": ""
            },
            "colorscale": [
             [
              0,
              "#0d0887"
             ],
             [
              0.1111111111111111,
              "#46039f"
             ],
             [
              0.2222222222222222,
              "#7201a8"
             ],
             [
              0.3333333333333333,
              "#9c179e"
             ],
             [
              0.4444444444444444,
              "#bd3786"
             ],
             [
              0.5555555555555556,
              "#d8576b"
             ],
             [
              0.6666666666666666,
              "#ed7953"
             ],
             [
              0.7777777777777778,
              "#fb9f3a"
             ],
             [
              0.8888888888888888,
              "#fdca26"
             ],
             [
              1,
              "#f0f921"
             ]
            ],
            "type": "surface"
           }
          ],
          "table": [
           {
            "cells": {
             "fill": {
              "color": "#EBF0F8"
             },
             "line": {
              "color": "white"
             }
            },
            "header": {
             "fill": {
              "color": "#C8D4E3"
             },
             "line": {
              "color": "white"
             }
            },
            "type": "table"
           }
          ]
         },
         "layout": {
          "annotationdefaults": {
           "arrowcolor": "#2a3f5f",
           "arrowhead": 0,
           "arrowwidth": 1
          },
          "autotypenumbers": "strict",
          "coloraxis": {
           "colorbar": {
            "outlinewidth": 0,
            "ticks": ""
           }
          },
          "colorscale": {
           "diverging": [
            [
             0,
             "#8e0152"
            ],
            [
             0.1,
             "#c51b7d"
            ],
            [
             0.2,
             "#de77ae"
            ],
            [
             0.3,
             "#f1b6da"
            ],
            [
             0.4,
             "#fde0ef"
            ],
            [
             0.5,
             "#f7f7f7"
            ],
            [
             0.6,
             "#e6f5d0"
            ],
            [
             0.7,
             "#b8e186"
            ],
            [
             0.8,
             "#7fbc41"
            ],
            [
             0.9,
             "#4d9221"
            ],
            [
             1,
             "#276419"
            ]
           ],
           "sequential": [
            [
             0,
             "#0d0887"
            ],
            [
             0.1111111111111111,
             "#46039f"
            ],
            [
             0.2222222222222222,
             "#7201a8"
            ],
            [
             0.3333333333333333,
             "#9c179e"
            ],
            [
             0.4444444444444444,
             "#bd3786"
            ],
            [
             0.5555555555555556,
             "#d8576b"
            ],
            [
             0.6666666666666666,
             "#ed7953"
            ],
            [
             0.7777777777777778,
             "#fb9f3a"
            ],
            [
             0.8888888888888888,
             "#fdca26"
            ],
            [
             1,
             "#f0f921"
            ]
           ],
           "sequentialminus": [
            [
             0,
             "#0d0887"
            ],
            [
             0.1111111111111111,
             "#46039f"
            ],
            [
             0.2222222222222222,
             "#7201a8"
            ],
            [
             0.3333333333333333,
             "#9c179e"
            ],
            [
             0.4444444444444444,
             "#bd3786"
            ],
            [
             0.5555555555555556,
             "#d8576b"
            ],
            [
             0.6666666666666666,
             "#ed7953"
            ],
            [
             0.7777777777777778,
             "#fb9f3a"
            ],
            [
             0.8888888888888888,
             "#fdca26"
            ],
            [
             1,
             "#f0f921"
            ]
           ]
          },
          "colorway": [
           "#636efa",
           "#EF553B",
           "#00cc96",
           "#ab63fa",
           "#FFA15A",
           "#19d3f3",
           "#FF6692",
           "#B6E880",
           "#FF97FF",
           "#FECB52"
          ],
          "font": {
           "color": "#2a3f5f"
          },
          "geo": {
           "bgcolor": "white",
           "lakecolor": "white",
           "landcolor": "#E5ECF6",
           "showlakes": true,
           "showland": true,
           "subunitcolor": "white"
          },
          "hoverlabel": {
           "align": "left"
          },
          "hovermode": "closest",
          "mapbox": {
           "style": "light"
          },
          "paper_bgcolor": "white",
          "plot_bgcolor": "#E5ECF6",
          "polar": {
           "angularaxis": {
            "gridcolor": "white",
            "linecolor": "white",
            "ticks": ""
           },
           "bgcolor": "#E5ECF6",
           "radialaxis": {
            "gridcolor": "white",
            "linecolor": "white",
            "ticks": ""
           }
          },
          "scene": {
           "xaxis": {
            "backgroundcolor": "#E5ECF6",
            "gridcolor": "white",
            "gridwidth": 2,
            "linecolor": "white",
            "showbackground": true,
            "ticks": "",
            "zerolinecolor": "white"
           },
           "yaxis": {
            "backgroundcolor": "#E5ECF6",
            "gridcolor": "white",
            "gridwidth": 2,
            "linecolor": "white",
            "showbackground": true,
            "ticks": "",
            "zerolinecolor": "white"
           },
           "zaxis": {
            "backgroundcolor": "#E5ECF6",
            "gridcolor": "white",
            "gridwidth": 2,
            "linecolor": "white",
            "showbackground": true,
            "ticks": "",
            "zerolinecolor": "white"
           }
          },
          "shapedefaults": {
           "line": {
            "color": "#2a3f5f"
           }
          },
          "ternary": {
           "aaxis": {
            "gridcolor": "white",
            "linecolor": "white",
            "ticks": ""
           },
           "baxis": {
            "gridcolor": "white",
            "linecolor": "white",
            "ticks": ""
           },
           "bgcolor": "#E5ECF6",
           "caxis": {
            "gridcolor": "white",
            "linecolor": "white",
            "ticks": ""
           }
          },
          "title": {
           "x": 0.05
          },
          "xaxis": {
           "automargin": true,
           "gridcolor": "white",
           "linecolor": "white",
           "ticks": "",
           "title": {
            "standoff": 15
           },
           "zerolinecolor": "white",
           "zerolinewidth": 2
          },
          "yaxis": {
           "automargin": true,
           "gridcolor": "white",
           "linecolor": "white",
           "ticks": "",
           "title": {
            "standoff": 15
           },
           "zerolinecolor": "white",
           "zerolinewidth": 2
          }
         }
        },
        "xaxis": {
         "anchor": "y",
         "domain": [
          0,
          1
         ],
         "title": {
          "text": "Closing Date"
         }
        },
        "yaxis": {
         "anchor": "x",
         "domain": [
          0,
          1
         ],
         "title": {
          "text": "Fund"
         }
        }
       }
      }
     },
     "metadata": {},
     "output_type": "display_data"
    }
   ],
   "source": [
    "import plotly.express as px\n",
    "px.scatter(data_frame=df, x='Closing Date', y='Fund', color='StateSt')"
   ]
  },
  {
   "cell_type": "code",
   "execution_count": 130,
   "id": "894cbedd-06da-49f3-9c48-43c505a761be",
   "metadata": {},
   "outputs": [],
   "source": [
    "##df['Year-Month'] = df ['Closing Date'].dt.year.astype() + df ['Closing Date'].dt.month.astype() \n",
    "df['Year'] = df ['Closing Date'].dt.year.astype(str)\n",
    "df['Month'] = df ['Closing Date'].dt.month.astype(str)\n",
    "df['Month'] = df['Month'].str.zfill(2)\n",
    "df['Year-Month']= df['Year'].sort_values()+ df['Month'].sort_values()\n",
    "\n"
   ]
  },
  {
   "cell_type": "code",
   "execution_count": 131,
   "id": "0b4ce673-7689-4f79-a5e7-94ee8f8136fb",
   "metadata": {},
   "outputs": [
    {
     "data": {
      "application/vnd.plotly.v1+json": {
       "config": {
        "plotlyServerURL": "https://plot.ly"
       },
       "data": [
        {
         "hovertemplate": "StateSt=KS<br>Year-Month=%{x}<br>Fund=%{y}<extra></extra>",
         "legendgroup": "KS",
         "marker": {
          "color": "#636efa",
          "symbol": "circle"
         },
         "mode": "markers",
         "name": "KS",
         "orientation": "v",
         "showlegend": true,
         "type": "scatter",
         "x": [
          "202010",
          "201710",
          "201207",
          "201108",
          "201010",
          "201010",
          "201007",
          "200912",
          "200906",
          "200903",
          "200808"
         ],
         "xaxis": "x",
         "y": [
          10538,
          10529,
          10452,
          10388,
          10302,
          10298,
          10269,
          10160,
          10066,
          10046,
          10011
         ],
         "yaxis": "y"
        },
        {
         "hovertemplate": "StateSt=FL<br>Year-Month=%{x}<br>Fund=%{y}<extra></extra>",
         "legendgroup": "FL",
         "marker": {
          "color": "#EF553B",
          "symbol": "circle"
         },
         "mode": "markers",
         "name": "FL",
         "orientation": "v",
         "showlegend": true,
         "type": "scatter",
         "x": [
          "202010",
          "201501",
          "201406",
          "201310",
          "201308",
          "201304",
          "201304",
          "201211",
          "201210",
          "201210",
          "201207",
          "201206",
          "201205",
          "201201",
          "201201",
          "201112",
          "201110",
          "201109",
          "201108",
          "201107",
          "201107",
          "201107",
          "201106",
          "201105",
          "201104",
          "201104",
          "201102",
          "201101",
          "201012",
          "201011",
          "201010",
          "201010",
          "201010",
          "201009",
          "201009",
          "201008",
          "201008",
          "201007",
          "201007",
          "201007",
          "201007",
          "201007",
          "201007",
          "201006",
          "201005",
          "201005",
          "201005",
          "201005",
          "201004",
          "201004",
          "201004",
          "201003",
          "201003",
          "201003",
          "201002",
          "201001",
          "201001",
          "200912",
          "200912",
          "200911",
          "200911",
          "200911",
          "200910",
          "200910",
          "200910",
          "200908",
          "200908",
          "200907",
          "200905",
          "200902",
          "200901",
          "200810",
          "200808",
          "200403",
          "200203",
          "200201"
         ],
         "xaxis": "x",
         "y": [
          10537,
          10510,
          10501,
          10490,
          10484,
          10473,
          10475,
          10465,
          10461,
          10462,
          10454,
          10445,
          10439,
          10421,
          10418,
          10415,
          10408,
          10395,
          10392,
          10381,
          10382,
          10376,
          10370,
          10364,
          10360,
          10362,
          10342,
          10325,
          10324,
          10316,
          10303,
          10300,
          10296,
          10293,
          10286,
          10281,
          10279,
          10272,
          10271,
          10268,
          10260,
          10261,
          10259,
          10253,
          10243,
          10242,
          10241,
          10234,
          10216,
          10210,
          10213,
          10206,
          10197,
          10192,
          10187,
          10181,
          10173,
          10165,
          10158,
          10151,
          10149,
          10148,
          10129,
          10131,
          10130,
          10099,
          10098,
          10095,
          10061,
          10038,
          10032,
          10019,
          10010,
          4663,
          4654,
          4650
         ],
         "yaxis": "y"
        },
        {
         "hovertemplate": "StateSt=WV<br>Year-Month=%{x}<br>Fund=%{y}<extra></extra>",
         "legendgroup": "WV",
         "marker": {
          "color": "#00cc96",
          "symbol": "circle"
         },
         "mode": "markers",
         "name": "WV",
         "orientation": "v",
         "showlegend": true,
         "type": "scatter",
         "x": [
          "202004",
          "200809"
         ],
         "xaxis": "x",
         "y": [
          10536,
          10014
         ],
         "yaxis": "y"
        },
        {
         "hovertemplate": "StateSt=NE<br>Year-Month=%{x}<br>Fund=%{y}<extra></extra>",
         "legendgroup": "NE",
         "marker": {
          "color": "#ab63fa",
          "symbol": "circle"
         },
         "mode": "markers",
         "name": "NE",
         "orientation": "v",
         "showlegend": true,
         "type": "scatter",
         "x": [
          "202002",
          "201111",
          "201006",
          "200902"
         ],
         "xaxis": "x",
         "y": [
          10535,
          10410,
          10248,
          10039
         ],
         "yaxis": "y"
        },
        {
         "hovertemplate": "StateSt=NJ<br>Year-Month=%{x}<br>Fund=%{y}<extra></extra>",
         "legendgroup": "NJ",
         "marker": {
          "color": "#FFA15A",
          "symbol": "circle"
         },
         "mode": "markers",
         "name": "NJ",
         "orientation": "v",
         "showlegend": true,
         "type": "scatter",
         "x": [
          "201911",
          "201701",
          "201204",
          "201110",
          "201009",
          "200907",
          "200905",
          "200402"
         ],
         "xaxis": "x",
         "y": [
          10534,
          10523,
          10433,
          10403,
          10290,
          10097,
          10058,
          6006
         ],
         "yaxis": "y"
        },
        {
         "hovertemplate": "StateSt=OH<br>Year-Month=%{x}<br>Fund=%{y}<extra></extra>",
         "legendgroup": "OH",
         "marker": {
          "color": "#19d3f3",
          "symbol": "circle"
         },
         "mode": "markers",
         "name": "OH",
         "orientation": "v",
         "showlegend": true,
         "type": "scatter",
         "x": [
          "201910",
          "201405",
          "201009",
          "201003",
          "200912",
          "200907",
          "200710",
          "200202",
          "200105"
         ],
         "xaxis": "x",
         "y": [
          10533,
          10499,
          10288,
          10201,
          10155,
          10096,
          10002,
          4652,
          4648
         ],
         "yaxis": "y"
        },
        {
         "hovertemplate": "StateSt=KY<br>Year-Month=%{x}<br>Fund=%{y}<extra></extra>",
         "legendgroup": "KY",
         "marker": {
          "color": "#FF6692",
          "symbol": "circle"
         },
         "mode": "markers",
         "name": "KY",
         "orientation": "v",
         "showlegend": true,
         "type": "scatter",
         "x": [
          "201910",
          "201304",
          "200909"
         ],
         "xaxis": "x",
         "y": [
          10532,
          10474,
          10121
         ],
         "yaxis": "y"
        },
        {
         "hovertemplate": "StateSt=TX<br>Year-Month=%{x}<br>Fund=%{y}<extra></extra>",
         "legendgroup": "TX",
         "marker": {
          "color": "#B6E880",
          "symbol": "circle"
         },
         "mode": "markers",
         "name": "TX",
         "orientation": "v",
         "showlegend": true,
         "type": "scatter",
         "x": [
          "201905",
          "201312",
          "201309",
          "201109",
          "201002",
          "200910",
          "200910",
          "200910",
          "200908",
          "200907",
          "200812",
          "200811",
          "200201"
         ],
         "xaxis": "x",
         "y": [
          10531,
          10491,
          10488,
          10398,
          10186,
          10138,
          10142,
          10141,
          10105,
          10079,
          10026,
          10021,
          4651
         ],
         "yaxis": "y"
        },
        {
         "hovertemplate": "StateSt=IL<br>Year-Month=%{x}<br>Fund=%{y}<extra></extra>",
         "legendgroup": "IL",
         "marker": {
          "color": "#FF97FF",
          "symbol": "circle"
         },
         "mode": "markers",
         "name": "IL",
         "orientation": "v",
         "showlegend": true,
         "type": "scatter",
         "x": [
          "201712",
          "201705",
          "201701",
          "201505",
          "201501",
          "201410",
          "201407",
          "201406",
          "201405",
          "201401",
          "201302",
          "201211",
          "201209",
          "201208",
          "201207",
          "201206",
          "201203",
          "201203",
          "201202",
          "201110",
          "201110",
          "201108",
          "201108",
          "201107",
          "201104",
          "201103",
          "201102",
          "201102",
          "201010",
          "201008",
          "201008",
          "201008",
          "201006",
          "201005",
          "201004",
          "201004",
          "201004",
          "201004",
          "201004",
          "201004",
          "201004",
          "201003",
          "201002",
          "201001",
          "200912",
          "200912",
          "200910",
          "200910",
          "200910",
          "200909",
          "200909",
          "200909",
          "200907",
          "200907",
          "200907",
          "200907",
          "200907",
          "200907",
          "200907",
          "200906",
          "200905",
          "200905",
          "200902",
          "200902",
          "200901",
          "200810",
          "200206",
          "200107",
          "200012"
         ],
         "xaxis": "x",
         "y": [
          10530,
          10528,
          10524,
          10514,
          10511,
          10507,
          10505,
          10502,
          10498,
          10492,
          10470,
          10464,
          10459,
          10456,
          10453,
          10442,
          10431,
          10429,
          10424,
          10409,
          10402,
          10390,
          10386,
          10374,
          10352,
          10350,
          10347,
          10337,
          10301,
          10284,
          10277,
          10276,
          10246,
          10236,
          10224,
          10223,
          10221,
          10222,
          10220,
          10219,
          10218,
          10191,
          10184,
          10170,
          10166,
          10154,
          10140,
          10137,
          10128,
          10117,
          10115,
          10113,
          10094,
          10074,
          10078,
          10073,
          10075,
          10077,
          10076,
          10064,
          10063,
          10062,
          10042,
          10037,
          10028,
          10017,
          6005,
          6004,
          4646
         ],
         "yaxis": "y"
        },
        {
         "hovertemplate": "StateSt=WI<br>Year-Month=%{x}<br>Fund=%{y}<extra></extra>",
         "legendgroup": "WI",
         "marker": {
          "color": "#FECB52",
          "symbol": "circle"
         },
         "mode": "markers",
         "name": "WI",
         "orientation": "v",
         "showlegend": true,
         "type": "scatter",
         "x": [
          "201705",
          "201603",
          "201308",
          "201305",
          "201103",
          "201102",
          "201101",
          "201011",
          "201009",
          "200910",
          "200305"
         ],
         "xaxis": "x",
         "y": [
          10527,
          10518,
          10485,
          10478,
          10348,
          10339,
          10332,
          10315,
          10291,
          10132,
          4661
         ],
         "yaxis": "y"
        },
        {
         "hovertemplate": "StateSt=LA<br>Year-Month=%{x}<br>Fund=%{y}<extra></extra>",
         "legendgroup": "LA",
         "marker": {
          "color": "#636efa",
          "symbol": "circle"
         },
         "mode": "markers",
         "name": "LA",
         "orientation": "v",
         "showlegend": true,
         "type": "scatter",
         "x": [
          "201704",
          "201111",
          "201003",
          "200212"
         ],
         "xaxis": "x",
         "y": [
          10526,
          10413,
          10196,
          4659
         ],
         "yaxis": "y"
        },
        {
         "hovertemplate": "StateSt=UT<br>Year-Month=%{x}<br>Fund=%{y}<extra></extra>",
         "legendgroup": "UT",
         "marker": {
          "color": "#EF553B",
          "symbol": "circle"
         },
         "mode": "markers",
         "name": "UT",
         "orientation": "v",
         "showlegend": true,
         "type": "scatter",
         "x": [
          "201703",
          "201111",
          "201003",
          "201003",
          "201001",
          "200905",
          "200901",
          "200406"
         ],
         "xaxis": "x",
         "y": [
          10525,
          10411,
          10200,
          10193,
          10171,
          10057,
          10031,
          4665
         ],
         "yaxis": "y"
        },
        {
         "hovertemplate": "StateSt=AR<br>Year-Month=%{x}<br>Fund=%{y}<extra></extra>",
         "legendgroup": "AR",
         "marker": {
          "color": "#00cc96",
          "symbol": "circle"
         },
         "mode": "markers",
         "name": "AR",
         "orientation": "v",
         "showlegend": true,
         "type": "scatter",
         "x": [
          "201609",
          "201012",
          "200805",
          "200109"
         ],
         "xaxis": "x",
         "y": [
          10522,
          10322,
          10005,
          4649
         ],
         "yaxis": "y"
        },
        {
         "hovertemplate": "StateSt=GA<br>Year-Month=%{x}<br>Fund=%{y}<extra></extra>",
         "legendgroup": "GA",
         "marker": {
          "color": "#ab63fa",
          "symbol": "circle"
         },
         "mode": "markers",
         "name": "GA",
         "orientation": "v",
         "showlegend": true,
         "type": "scatter",
         "x": [
          "201608",
          "201510",
          "201502",
          "201407",
          "201305",
          "201304",
          "201303",
          "201211",
          "201207",
          "201207",
          "201207",
          "201207",
          "201206",
          "201203",
          "201203",
          "201202",
          "201201",
          "201111",
          "201110",
          "201110",
          "201110",
          "201109",
          "201109",
          "201108",
          "201107",
          "201107",
          "201106",
          "201106",
          "201105",
          "201105",
          "201104",
          "201104",
          "201104",
          "201104",
          "201102",
          "201102",
          "201102",
          "201102",
          "201101",
          "201101",
          "201012",
          "201012",
          "201012",
          "201011",
          "201011",
          "201010",
          "201010",
          "201009",
          "201009",
          "201009",
          "201007",
          "201007",
          "201006",
          "201005",
          "201003",
          "201003",
          "201003",
          "201003",
          "201003",
          "201001",
          "201001",
          "200912",
          "200912",
          "200912",
          "200912",
          "200911",
          "200910",
          "200909",
          "200908",
          "200908",
          "200907",
          "200907",
          "200907",
          "200907",
          "200907",
          "200907",
          "200907",
          "200906",
          "200906",
          "200906",
          "200905",
          "200904",
          "200903",
          "200903",
          "200903",
          "200902",
          "200812",
          "200812",
          "200811",
          "200810",
          "200808",
          "200709",
          "200209"
         ],
         "xaxis": "x",
         "y": [
          10521,
          10516,
          10512,
          10504,
          10481,
          10476,
          10471,
          10466,
          10455,
          10450,
          10451,
          10448,
          10446,
          10430,
          10428,
          10426,
          10419,
          10412,
          10406,
          10407,
          10404,
          10393,
          10394,
          10391,
          10377,
          10378,
          10372,
          10371,
          10366,
          10365,
          10363,
          10361,
          10355,
          10353,
          10344,
          10345,
          10338,
          10336,
          10329,
          10327,
          10323,
          10319,
          10320,
          10312,
          10313,
          10304,
          10305,
          10292,
          10289,
          10287,
          10274,
          10265,
          10251,
          10238,
          10208,
          10207,
          10202,
          10199,
          10198,
          10180,
          10179,
          10164,
          10153,
          10157,
          10152,
          10145,
          10127,
          10122,
          10108,
          10107,
          10088,
          10087,
          10085,
          10090,
          10089,
          10086,
          10084,
          10069,
          10068,
          10067,
          10059,
          10053,
          10048,
          10047,
          10044,
          10036,
          10027,
          10025,
          10022,
          10018,
          10012,
          10001,
          4657
         ],
         "yaxis": "y"
        },
        {
         "hovertemplate": "StateSt=PA<br>Year-Month=%{x}<br>Fund=%{y}<extra></extra>",
         "legendgroup": "PA",
         "marker": {
          "color": "#FFA15A",
          "symbol": "circle"
         },
         "mode": "markers",
         "name": "PA",
         "orientation": "v",
         "showlegend": true,
         "type": "scatter",
         "x": [
          "201605",
          "201402",
          "201210",
          "201201",
          "201108",
          "201012",
          "201011",
          "200908",
          "200702",
          "200311"
         ],
         "xaxis": "x",
         "y": [
          10520,
          10496,
          10463,
          10417,
          10389,
          10317,
          10314,
          10104,
          10000,
          4662
         ],
         "yaxis": "y"
        },
        {
         "hovertemplate": "StateSt=TN<br>Year-Month=%{x}<br>Fund=%{y}<extra></extra>",
         "legendgroup": "TN",
         "marker": {
          "color": "#19d3f3",
          "symbol": "circle"
         },
         "mode": "markers",
         "name": "TN",
         "orientation": "v",
         "showlegend": true,
         "type": "scatter",
         "x": [
          "201604",
          "201308",
          "201306",
          "201206",
          "201201",
          "201201",
          "200211"
         ],
         "xaxis": "x",
         "y": [
          10519,
          10486,
          10483,
          10447,
          10420,
          10423,
          4658
         ],
         "yaxis": "y"
        },
        {
         "hovertemplate": "StateSt=WA<br>Year-Month=%{x}<br>Fund=%{y}<extra></extra>",
         "legendgroup": "WA",
         "marker": {
          "color": "#FF6692",
          "symbol": "circle"
         },
         "mode": "markers",
         "name": "WA",
         "orientation": "v",
         "showlegend": true,
         "type": "scatter",
         "x": [
          "201510",
          "201301",
          "201108",
          "201105",
          "201105",
          "201011",
          "201010",
          "201009",
          "201007",
          "201006",
          "201004",
          "201004",
          "201002",
          "201001",
          "201001",
          "201001",
          "200909",
          "200905",
          "200901"
         ],
         "xaxis": "x",
         "y": [
          10517,
          10468,
          10387,
          10368,
          10367,
          10309,
          10295,
          10294,
          10275,
          10249,
          10228,
          10212,
          10189,
          10178,
          10172,
          10168,
          10119,
          10060,
          10029
         ],
         "yaxis": "y"
        },
        {
         "hovertemplate": "StateSt=CO<br>Year-Month=%{x}<br>Fund=%{y}<extra></extra>",
         "legendgroup": "CO",
         "marker": {
          "color": "#B6E880",
          "symbol": "circle"
         },
         "mode": "markers",
         "name": "CO",
         "orientation": "v",
         "showlegend": true,
         "type": "scatter",
         "x": [
          "201507",
          "201110",
          "201107",
          "201107",
          "201107",
          "201101",
          "201101",
          "200910",
          "200904",
          "200903"
         ],
         "xaxis": "x",
         "y": [
          10515,
          10405,
          10380,
          10375,
          10373,
          10334,
          10331,
          10123,
          10050,
          10045
         ],
         "yaxis": "y"
        },
        {
         "hovertemplate": "StateSt=PR<br>Year-Month=%{x}<br>Fund=%{y}<extra></extra>",
         "legendgroup": "PR",
         "marker": {
          "color": "#FF97FF",
          "symbol": "circle"
         },
         "mode": "markers",
         "name": "PR",
         "orientation": "v",
         "showlegend": true,
         "type": "scatter",
         "x": [
          "201502",
          "201004",
          "201004",
          "201004"
         ],
         "xaxis": "x",
         "y": [
          10513,
          10231,
          10230,
          10229
         ],
         "yaxis": "y"
        },
        {
         "hovertemplate": "StateSt=MN<br>Year-Month=%{x}<br>Fund=%{y}<extra></extra>",
         "legendgroup": "MN",
         "marker": {
          "color": "#FECB52",
          "symbol": "circle"
         },
         "mode": "markers",
         "name": "MN",
         "orientation": "v",
         "showlegend": true,
         "type": "scatter",
         "x": [
          "201412",
          "201301",
          "201209",
          "201204",
          "201202",
          "201201",
          "201110",
          "201104",
          "201012",
          "201007",
          "201005",
          "201005",
          "201003",
          "201002",
          "201001",
          "201001",
          "200911",
          "200910",
          "200910",
          "200909",
          "200908",
          "200906",
          "200805"
         ],
         "xaxis": "x",
         "y": [
          10509,
          10469,
          10457,
          10436,
          10427,
          10422,
          10399,
          10357,
          10321,
          10264,
          10240,
          10233,
          10203,
          10183,
          10182,
          10169,
          10143,
          10133,
          10124,
          10118,
          10111,
          10070,
          10006
         ],
         "yaxis": "y"
        },
        {
         "hovertemplate": "StateSt=CA<br>Year-Month=%{x}<br>Fund=%{y}<extra></extra>",
         "legendgroup": "CA",
         "marker": {
          "color": "#636efa",
          "symbol": "circle"
         },
         "mode": "markers",
         "name": "CA",
         "orientation": "v",
         "showlegend": true,
         "type": "scatter",
         "x": [
          "201411",
          "201204",
          "201109",
          "201102",
          "201102",
          "201102",
          "201011",
          "201011",
          "201008",
          "201008",
          "201008",
          "201008",
          "201005",
          "201005",
          "201004",
          "201004",
          "201002",
          "201001",
          "200912",
          "200912",
          "200911",
          "200911",
          "200910",
          "200910",
          "200910",
          "200910",
          "200908",
          "200907",
          "200907",
          "200906",
          "200906",
          "200904",
          "200902",
          "200902",
          "200901",
          "200811",
          "200811",
          "200811",
          "200807",
          "200807",
          "200302"
         ],
         "xaxis": "x",
         "y": [
          10508,
          10437,
          10397,
          10346,
          10343,
          10340,
          10307,
          10310,
          10285,
          10282,
          10278,
          10283,
          10244,
          10232,
          10217,
          10214,
          10185,
          10177,
          10167,
          10161,
          10150,
          10147,
          10139,
          10134,
          10135,
          10126,
          10110,
          10082,
          10083,
          10072,
          10071,
          10054,
          10034,
          10035,
          10030,
          10024,
          10023,
          10020,
          10009,
          10007,
          4660
         ],
         "yaxis": "y"
        },
        {
         "hovertemplate": "StateSt=MD<br>Year-Month=%{x}<br>Fund=%{y}<extra></extra>",
         "legendgroup": "MD",
         "marker": {
          "color": "#EF553B",
          "symbol": "circle"
         },
         "mode": "markers",
         "name": "MD",
         "orientation": "v",
         "showlegend": true,
         "type": "scatter",
         "x": [
          "201410",
          "201405",
          "201204",
          "201204",
          "201011",
          "201007",
          "201007",
          "201003",
          "200908",
          "200901"
         ],
         "xaxis": "x",
         "y": [
          10506,
          10500,
          10435,
          10434,
          10308,
          10257,
          10255,
          10190,
          10109,
          10033
         ],
         "yaxis": "y"
        },
        {
         "hovertemplate": "StateSt=OK<br>Year-Month=%{x}<br>Fund=%{y}<extra></extra>",
         "legendgroup": "OK",
         "marker": {
          "color": "#00cc96",
          "symbol": "circle"
         },
         "mode": "markers",
         "name": "OK",
         "orientation": "v",
         "showlegend": true,
         "type": "scatter",
         "x": [
          "201406",
          "201401",
          "201206",
          "201103",
          "201101",
          "201007",
          "200907"
         ],
         "xaxis": "x",
         "y": [
          10503,
          10493,
          10443,
          10349,
          10335,
          10256,
          10093
         ],
         "yaxis": "y"
        },
        {
         "hovertemplate": "StateSt=SC<br>Year-Month=%{x}<br>Fund=%{y}<extra></extra>",
         "legendgroup": "SC",
         "marker": {
          "color": "#ab63fa",
          "symbol": "circle"
         },
         "mode": "markers",
         "name": "SC",
         "orientation": "v",
         "showlegend": true,
         "type": "scatter",
         "x": [
          "201404",
          "201206",
          "201204",
          "201107",
          "201106",
          "201101",
          "201007",
          "201007",
          "201007",
          "201004"
         ],
         "xaxis": "x",
         "y": [
          10497,
          10441,
          10438,
          10383,
          10369,
          10328,
          10270,
          10263,
          10262,
          10209
         ],
         "yaxis": "y"
        },
        {
         "hovertemplate": "StateSt=VA<br>Year-Month=%{x}<br>Fund=%{y}<extra></extra>",
         "legendgroup": "VA",
         "marker": {
          "color": "#FFA15A",
          "symbol": "circle"
         },
         "mode": "markers",
         "name": "VA",
         "orientation": "v",
         "showlegend": true,
         "type": "scatter",
         "x": [
          "201402",
          "201109",
          "201107",
          "201008",
          "200912"
         ],
         "xaxis": "x",
         "y": [
          10495,
          10396,
          10385,
          10280,
          10156
         ],
         "yaxis": "y"
        },
        {
         "hovertemplate": "StateSt=ID<br>Year-Month=%{x}<br>Fund=%{y}<extra></extra>",
         "legendgroup": "ID",
         "marker": {
          "color": "#19d3f3",
          "symbol": "circle"
         },
         "mode": "markers",
         "name": "ID",
         "orientation": "v",
         "showlegend": true,
         "type": "scatter",
         "x": [
          "201401",
          "200904"
         ],
         "xaxis": "x",
         "y": [
          10494,
          10055
         ],
         "yaxis": "y"
        },
        {
         "hovertemplate": "StateSt=CT<br>Year-Month=%{x}<br>Fund=%{y}<extra></extra>",
         "legendgroup": "CT",
         "marker": {
          "color": "#FF6692",
          "symbol": "circle"
         },
         "mode": "markers",
         "name": "CT",
         "orientation": "v",
         "showlegend": true,
         "type": "scatter",
         "x": [
          "201309",
          "200206"
         ],
         "xaxis": "x",
         "y": [
          10489,
          4656
         ],
         "yaxis": "y"
        },
        {
         "hovertemplate": "StateSt=AZ<br>Year-Month=%{x}<br>Fund=%{y}<extra></extra>",
         "legendgroup": "AZ",
         "marker": {
          "color": "#B6E880",
          "symbol": "circle"
         },
         "mode": "markers",
         "name": "AZ",
         "orientation": "v",
         "showlegend": true,
         "type": "scatter",
         "x": [
          "201308",
          "201305",
          "201304",
          "201112",
          "201107",
          "201101",
          "201011",
          "201010",
          "201005",
          "201003",
          "200912",
          "200910",
          "200909",
          "200908",
          "200908",
          "200202"
         ],
         "xaxis": "x",
         "y": [
          10487,
          10479,
          10472,
          10416,
          10379,
          10326,
          10311,
          10306,
          10235,
          10205,
          10159,
          10136,
          10114,
          10101,
          10102,
          4653
         ],
         "yaxis": "y"
        },
        {
         "hovertemplate": "StateSt=NV<br>Year-Month=%{x}<br>Fund=%{y}<extra></extra>",
         "legendgroup": "NV",
         "marker": {
          "color": "#FF97FF",
          "symbol": "circle"
         },
         "mode": "markers",
         "name": "NV",
         "orientation": "v",
         "showlegend": true,
         "type": "scatter",
         "x": [
          "201306",
          "201104",
          "201007",
          "201006",
          "201005",
          "201002",
          "200908",
          "200904",
          "200902",
          "200809",
          "200809",
          "200807"
         ],
         "xaxis": "x",
         "y": [
          10482,
          10351,
          10267,
          10250,
          10245,
          10188,
          10100,
          10051,
          10043,
          10015,
          10013,
          10008
         ],
         "yaxis": "y"
        },
        {
         "hovertemplate": "StateSt=NC<br>Year-Month=%{x}<br>Fund=%{y}<extra></extra>",
         "legendgroup": "NC",
         "marker": {
          "color": "#FECB52",
          "symbol": "circle"
         },
         "mode": "markers",
         "name": "NC",
         "orientation": "v",
         "showlegend": true,
         "type": "scatter",
         "x": [
          "201305",
          "201304",
          "201206",
          "201110",
          "201101",
          "200906",
          "200904"
         ],
         "xaxis": "x",
         "y": [
          10480,
          10477,
          10444,
          10401,
          10330,
          10065,
          10049
         ],
         "yaxis": "y"
        },
        {
         "hovertemplate": "StateSt=MO<br>Year-Month=%{x}<br>Fund=%{y}<extra></extra>",
         "legendgroup": "MO",
         "marker": {
          "color": "#636efa",
          "symbol": "circle"
         },
         "mode": "markers",
         "name": "MO",
         "orientation": "v",
         "showlegend": true,
         "type": "scatter",
         "x": [
          "201212",
          "201210",
          "201209",
          "201207",
          "201110",
          "201010",
          "201010",
          "201005",
          "201004",
          "201004",
          "201001",
          "200911",
          "200909",
          "200904",
          "200803",
          "200801"
         ],
         "xaxis": "x",
         "y": [
          10467,
          10460,
          10458,
          10449,
          10400,
          10297,
          10299,
          10239,
          10225,
          10227,
          10174,
          10146,
          10112,
          10052,
          10004,
          10003
         ],
         "yaxis": "y"
        },
        {
         "hovertemplate": "StateSt=AL<br>Year-Month=%{x}<br>Fund=%{y}<extra></extra>",
         "legendgroup": "AL",
         "marker": {
          "color": "#EF553B",
          "symbol": "circle"
         },
         "mode": "markers",
         "name": "AL",
         "orientation": "v",
         "showlegend": true,
         "type": "scatter",
         "x": [
          "201205",
          "201104",
          "201104",
          "201003",
          "200912",
          "200908",
          "200908"
         ],
         "xaxis": "x",
         "y": [
          10440,
          10358,
          10356,
          10204,
          10163,
          10106,
          10103
         ],
         "yaxis": "y"
        },
        {
         "hovertemplate": "StateSt=MI<br>Year-Month=%{x}<br>Fund=%{y}<extra></extra>",
         "legendgroup": "MI",
         "marker": {
          "color": "#00cc96",
          "symbol": "circle"
         },
         "mode": "markers",
         "name": "MI",
         "orientation": "v",
         "showlegend": true,
         "type": "scatter",
         "x": [
          "201203",
          "201104",
          "201102",
          "201012",
          "201007",
          "201005",
          "201004",
          "201004",
          "200912",
          "200911",
          "200910",
          "200904",
          "200810",
          "200203"
         ],
         "xaxis": "x",
         "y": [
          10432,
          10359,
          10341,
          10318,
          10258,
          10237,
          10226,
          10215,
          10162,
          10144,
          10125,
          10056,
          10016,
          4655
         ],
         "yaxis": "y"
        },
        {
         "hovertemplate": "StateSt=IN<br>Year-Month=%{x}<br>Fund=%{y}<extra></extra>",
         "legendgroup": "IN",
         "marker": {
          "color": "#ab63fa",
          "symbol": "circle"
         },
         "mode": "markers",
         "name": "IN",
         "orientation": "v",
         "showlegend": true,
         "type": "scatter",
         "x": [
          "201202",
          "201107",
          "200909"
         ],
         "xaxis": "x",
         "y": [
          10425,
          10384,
          10120
         ],
         "yaxis": "y"
        },
        {
         "hovertemplate": "StateSt=IA<br>Year-Month=%{x}<br>Fund=%{y}<extra></extra>",
         "legendgroup": "IA",
         "marker": {
          "color": "#FFA15A",
          "symbol": "circle"
         },
         "mode": "markers",
         "name": "IA",
         "orientation": "v",
         "showlegend": true,
         "type": "scatter",
         "x": [
          "201111",
          "200909"
         ],
         "xaxis": "x",
         "y": [
          10414,
          10116
         ],
         "yaxis": "y"
        },
        {
         "hovertemplate": "StateSt=MS<br>Year-Month=%{x}<br>Fund=%{y}<extra></extra>",
         "legendgroup": "MS",
         "marker": {
          "color": "#19d3f3",
          "symbol": "circle"
         },
         "mode": "markers",
         "name": "MS",
         "orientation": "v",
         "showlegend": true,
         "type": "scatter",
         "x": [
          "201104",
          "201006"
         ],
         "xaxis": "x",
         "y": [
          10354,
          10247
         ],
         "yaxis": "y"
        },
        {
         "hovertemplate": "StateSt=NM<br>Year-Month=%{x}<br>Fund=%{y}<extra></extra>",
         "legendgroup": "NM",
         "marker": {
          "color": "#FF6692",
          "symbol": "circle"
         },
         "mode": "markers",
         "name": "NM",
         "orientation": "v",
         "showlegend": true,
         "type": "scatter",
         "x": [
          "201101",
          "201006",
          "201001"
         ],
         "xaxis": "x",
         "y": [
          10333,
          10252,
          10175
         ],
         "yaxis": "y"
        },
        {
         "hovertemplate": "StateSt=OR<br>Year-Month=%{x}<br>Fund=%{y}<extra></extra>",
         "legendgroup": "OR",
         "marker": {
          "color": "#B6E880",
          "symbol": "circle"
         },
         "mode": "markers",
         "name": "OR",
         "orientation": "v",
         "showlegend": true,
         "type": "scatter",
         "x": [
          "201007",
          "201007",
          "201001",
          "200908",
          "200902",
          "200902"
         ],
         "xaxis": "x",
         "y": [
          10273,
          10266,
          10176,
          10092,
          10041,
          10040
         ],
         "yaxis": "y"
        },
        {
         "hovertemplate": "StateSt=NY<br>Year-Month=%{x}<br>Fund=%{y}<extra></extra>",
         "legendgroup": "NY",
         "marker": {
          "color": "#FF97FF",
          "symbol": "circle"
         },
         "mode": "markers",
         "name": "NY",
         "orientation": "v",
         "showlegend": true,
         "type": "scatter",
         "x": [
          "201007",
          "201003",
          "201003",
          "200907",
          "200403"
         ],
         "xaxis": "x",
         "y": [
          10254,
          10195,
          10194,
          10091,
          4664
         ],
         "yaxis": "y"
        },
        {
         "hovertemplate": "StateSt=MA<br>Year-Month=%{x}<br>Fund=%{y}<extra></extra>",
         "legendgroup": "MA",
         "marker": {
          "color": "#FECB52",
          "symbol": "circle"
         },
         "mode": "markers",
         "name": "MA",
         "orientation": "v",
         "showlegend": true,
         "type": "scatter",
         "x": [
          "201004"
         ],
         "xaxis": "x",
         "y": [
          10211
         ],
         "yaxis": "y"
        },
        {
         "hovertemplate": "StateSt=SD<br>Year-Month=%{x}<br>Fund=%{y}<extra></extra>",
         "legendgroup": "SD",
         "marker": {
          "color": "#636efa",
          "symbol": "circle"
         },
         "mode": "markers",
         "name": "SD",
         "orientation": "v",
         "showlegend": true,
         "type": "scatter",
         "x": [
          "200907"
         ],
         "xaxis": "x",
         "y": [
          10081
         ],
         "yaxis": "y"
        },
        {
         "hovertemplate": "StateSt=WY<br>Year-Month=%{x}<br>Fund=%{y}<extra></extra>",
         "legendgroup": "WY",
         "marker": {
          "color": "#EF553B",
          "symbol": "circle"
         },
         "mode": "markers",
         "name": "WY",
         "orientation": "v",
         "showlegend": true,
         "type": "scatter",
         "x": [
          "200907"
         ],
         "xaxis": "x",
         "y": [
          10080
         ],
         "yaxis": "y"
        },
        {
         "hovertemplate": "StateSt=NH<br>Year-Month=%{x}<br>Fund=%{y}<extra></extra>",
         "legendgroup": "NH",
         "marker": {
          "color": "#00cc96",
          "symbol": "circle"
         },
         "mode": "markers",
         "name": "NH",
         "orientation": "v",
         "showlegend": true,
         "type": "scatter",
         "x": [
          "200102"
         ],
         "xaxis": "x",
         "y": [
          4647
         ],
         "yaxis": "y"
        },
        {
         "hovertemplate": "StateSt=HI<br>Year-Month=%{x}<br>Fund=%{y}<extra></extra>",
         "legendgroup": "HI",
         "marker": {
          "color": "#ab63fa",
          "symbol": "circle"
         },
         "mode": "markers",
         "name": "HI",
         "orientation": "v",
         "showlegend": true,
         "type": "scatter",
         "x": [
          "200010"
         ],
         "xaxis": "x",
         "y": [
          4645
         ],
         "yaxis": "y"
        }
       ],
       "layout": {
        "legend": {
         "title": {
          "text": "StateSt"
         },
         "tracegroupgap": 0
        },
        "margin": {
         "t": 60
        },
        "template": {
         "data": {
          "bar": [
           {
            "error_x": {
             "color": "#2a3f5f"
            },
            "error_y": {
             "color": "#2a3f5f"
            },
            "marker": {
             "line": {
              "color": "#E5ECF6",
              "width": 0.5
             },
             "pattern": {
              "fillmode": "overlay",
              "size": 10,
              "solidity": 0.2
             }
            },
            "type": "bar"
           }
          ],
          "barpolar": [
           {
            "marker": {
             "line": {
              "color": "#E5ECF6",
              "width": 0.5
             },
             "pattern": {
              "fillmode": "overlay",
              "size": 10,
              "solidity": 0.2
             }
            },
            "type": "barpolar"
           }
          ],
          "carpet": [
           {
            "aaxis": {
             "endlinecolor": "#2a3f5f",
             "gridcolor": "white",
             "linecolor": "white",
             "minorgridcolor": "white",
             "startlinecolor": "#2a3f5f"
            },
            "baxis": {
             "endlinecolor": "#2a3f5f",
             "gridcolor": "white",
             "linecolor": "white",
             "minorgridcolor": "white",
             "startlinecolor": "#2a3f5f"
            },
            "type": "carpet"
           }
          ],
          "choropleth": [
           {
            "colorbar": {
             "outlinewidth": 0,
             "ticks": ""
            },
            "type": "choropleth"
           }
          ],
          "contour": [
           {
            "colorbar": {
             "outlinewidth": 0,
             "ticks": ""
            },
            "colorscale": [
             [
              0,
              "#0d0887"
             ],
             [
              0.1111111111111111,
              "#46039f"
             ],
             [
              0.2222222222222222,
              "#7201a8"
             ],
             [
              0.3333333333333333,
              "#9c179e"
             ],
             [
              0.4444444444444444,
              "#bd3786"
             ],
             [
              0.5555555555555556,
              "#d8576b"
             ],
             [
              0.6666666666666666,
              "#ed7953"
             ],
             [
              0.7777777777777778,
              "#fb9f3a"
             ],
             [
              0.8888888888888888,
              "#fdca26"
             ],
             [
              1,
              "#f0f921"
             ]
            ],
            "type": "contour"
           }
          ],
          "contourcarpet": [
           {
            "colorbar": {
             "outlinewidth": 0,
             "ticks": ""
            },
            "type": "contourcarpet"
           }
          ],
          "heatmap": [
           {
            "colorbar": {
             "outlinewidth": 0,
             "ticks": ""
            },
            "colorscale": [
             [
              0,
              "#0d0887"
             ],
             [
              0.1111111111111111,
              "#46039f"
             ],
             [
              0.2222222222222222,
              "#7201a8"
             ],
             [
              0.3333333333333333,
              "#9c179e"
             ],
             [
              0.4444444444444444,
              "#bd3786"
             ],
             [
              0.5555555555555556,
              "#d8576b"
             ],
             [
              0.6666666666666666,
              "#ed7953"
             ],
             [
              0.7777777777777778,
              "#fb9f3a"
             ],
             [
              0.8888888888888888,
              "#fdca26"
             ],
             [
              1,
              "#f0f921"
             ]
            ],
            "type": "heatmap"
           }
          ],
          "heatmapgl": [
           {
            "colorbar": {
             "outlinewidth": 0,
             "ticks": ""
            },
            "colorscale": [
             [
              0,
              "#0d0887"
             ],
             [
              0.1111111111111111,
              "#46039f"
             ],
             [
              0.2222222222222222,
              "#7201a8"
             ],
             [
              0.3333333333333333,
              "#9c179e"
             ],
             [
              0.4444444444444444,
              "#bd3786"
             ],
             [
              0.5555555555555556,
              "#d8576b"
             ],
             [
              0.6666666666666666,
              "#ed7953"
             ],
             [
              0.7777777777777778,
              "#fb9f3a"
             ],
             [
              0.8888888888888888,
              "#fdca26"
             ],
             [
              1,
              "#f0f921"
             ]
            ],
            "type": "heatmapgl"
           }
          ],
          "histogram": [
           {
            "marker": {
             "pattern": {
              "fillmode": "overlay",
              "size": 10,
              "solidity": 0.2
             }
            },
            "type": "histogram"
           }
          ],
          "histogram2d": [
           {
            "colorbar": {
             "outlinewidth": 0,
             "ticks": ""
            },
            "colorscale": [
             [
              0,
              "#0d0887"
             ],
             [
              0.1111111111111111,
              "#46039f"
             ],
             [
              0.2222222222222222,
              "#7201a8"
             ],
             [
              0.3333333333333333,
              "#9c179e"
             ],
             [
              0.4444444444444444,
              "#bd3786"
             ],
             [
              0.5555555555555556,
              "#d8576b"
             ],
             [
              0.6666666666666666,
              "#ed7953"
             ],
             [
              0.7777777777777778,
              "#fb9f3a"
             ],
             [
              0.8888888888888888,
              "#fdca26"
             ],
             [
              1,
              "#f0f921"
             ]
            ],
            "type": "histogram2d"
           }
          ],
          "histogram2dcontour": [
           {
            "colorbar": {
             "outlinewidth": 0,
             "ticks": ""
            },
            "colorscale": [
             [
              0,
              "#0d0887"
             ],
             [
              0.1111111111111111,
              "#46039f"
             ],
             [
              0.2222222222222222,
              "#7201a8"
             ],
             [
              0.3333333333333333,
              "#9c179e"
             ],
             [
              0.4444444444444444,
              "#bd3786"
             ],
             [
              0.5555555555555556,
              "#d8576b"
             ],
             [
              0.6666666666666666,
              "#ed7953"
             ],
             [
              0.7777777777777778,
              "#fb9f3a"
             ],
             [
              0.8888888888888888,
              "#fdca26"
             ],
             [
              1,
              "#f0f921"
             ]
            ],
            "type": "histogram2dcontour"
           }
          ],
          "mesh3d": [
           {
            "colorbar": {
             "outlinewidth": 0,
             "ticks": ""
            },
            "type": "mesh3d"
           }
          ],
          "parcoords": [
           {
            "line": {
             "colorbar": {
              "outlinewidth": 0,
              "ticks": ""
             }
            },
            "type": "parcoords"
           }
          ],
          "pie": [
           {
            "automargin": true,
            "type": "pie"
           }
          ],
          "scatter": [
           {
            "fillpattern": {
             "fillmode": "overlay",
             "size": 10,
             "solidity": 0.2
            },
            "type": "scatter"
           }
          ],
          "scatter3d": [
           {
            "line": {
             "colorbar": {
              "outlinewidth": 0,
              "ticks": ""
             }
            },
            "marker": {
             "colorbar": {
              "outlinewidth": 0,
              "ticks": ""
             }
            },
            "type": "scatter3d"
           }
          ],
          "scattercarpet": [
           {
            "marker": {
             "colorbar": {
              "outlinewidth": 0,
              "ticks": ""
             }
            },
            "type": "scattercarpet"
           }
          ],
          "scattergeo": [
           {
            "marker": {
             "colorbar": {
              "outlinewidth": 0,
              "ticks": ""
             }
            },
            "type": "scattergeo"
           }
          ],
          "scattergl": [
           {
            "marker": {
             "colorbar": {
              "outlinewidth": 0,
              "ticks": ""
             }
            },
            "type": "scattergl"
           }
          ],
          "scattermapbox": [
           {
            "marker": {
             "colorbar": {
              "outlinewidth": 0,
              "ticks": ""
             }
            },
            "type": "scattermapbox"
           }
          ],
          "scatterpolar": [
           {
            "marker": {
             "colorbar": {
              "outlinewidth": 0,
              "ticks": ""
             }
            },
            "type": "scatterpolar"
           }
          ],
          "scatterpolargl": [
           {
            "marker": {
             "colorbar": {
              "outlinewidth": 0,
              "ticks": ""
             }
            },
            "type": "scatterpolargl"
           }
          ],
          "scatterternary": [
           {
            "marker": {
             "colorbar": {
              "outlinewidth": 0,
              "ticks": ""
             }
            },
            "type": "scatterternary"
           }
          ],
          "surface": [
           {
            "colorbar": {
             "outlinewidth": 0,
             "ticks": ""
            },
            "colorscale": [
             [
              0,
              "#0d0887"
             ],
             [
              0.1111111111111111,
              "#46039f"
             ],
             [
              0.2222222222222222,
              "#7201a8"
             ],
             [
              0.3333333333333333,
              "#9c179e"
             ],
             [
              0.4444444444444444,
              "#bd3786"
             ],
             [
              0.5555555555555556,
              "#d8576b"
             ],
             [
              0.6666666666666666,
              "#ed7953"
             ],
             [
              0.7777777777777778,
              "#fb9f3a"
             ],
             [
              0.8888888888888888,
              "#fdca26"
             ],
             [
              1,
              "#f0f921"
             ]
            ],
            "type": "surface"
           }
          ],
          "table": [
           {
            "cells": {
             "fill": {
              "color": "#EBF0F8"
             },
             "line": {
              "color": "white"
             }
            },
            "header": {
             "fill": {
              "color": "#C8D4E3"
             },
             "line": {
              "color": "white"
             }
            },
            "type": "table"
           }
          ]
         },
         "layout": {
          "annotationdefaults": {
           "arrowcolor": "#2a3f5f",
           "arrowhead": 0,
           "arrowwidth": 1
          },
          "autotypenumbers": "strict",
          "coloraxis": {
           "colorbar": {
            "outlinewidth": 0,
            "ticks": ""
           }
          },
          "colorscale": {
           "diverging": [
            [
             0,
             "#8e0152"
            ],
            [
             0.1,
             "#c51b7d"
            ],
            [
             0.2,
             "#de77ae"
            ],
            [
             0.3,
             "#f1b6da"
            ],
            [
             0.4,
             "#fde0ef"
            ],
            [
             0.5,
             "#f7f7f7"
            ],
            [
             0.6,
             "#e6f5d0"
            ],
            [
             0.7,
             "#b8e186"
            ],
            [
             0.8,
             "#7fbc41"
            ],
            [
             0.9,
             "#4d9221"
            ],
            [
             1,
             "#276419"
            ]
           ],
           "sequential": [
            [
             0,
             "#0d0887"
            ],
            [
             0.1111111111111111,
             "#46039f"
            ],
            [
             0.2222222222222222,
             "#7201a8"
            ],
            [
             0.3333333333333333,
             "#9c179e"
            ],
            [
             0.4444444444444444,
             "#bd3786"
            ],
            [
             0.5555555555555556,
             "#d8576b"
            ],
            [
             0.6666666666666666,
             "#ed7953"
            ],
            [
             0.7777777777777778,
             "#fb9f3a"
            ],
            [
             0.8888888888888888,
             "#fdca26"
            ],
            [
             1,
             "#f0f921"
            ]
           ],
           "sequentialminus": [
            [
             0,
             "#0d0887"
            ],
            [
             0.1111111111111111,
             "#46039f"
            ],
            [
             0.2222222222222222,
             "#7201a8"
            ],
            [
             0.3333333333333333,
             "#9c179e"
            ],
            [
             0.4444444444444444,
             "#bd3786"
            ],
            [
             0.5555555555555556,
             "#d8576b"
            ],
            [
             0.6666666666666666,
             "#ed7953"
            ],
            [
             0.7777777777777778,
             "#fb9f3a"
            ],
            [
             0.8888888888888888,
             "#fdca26"
            ],
            [
             1,
             "#f0f921"
            ]
           ]
          },
          "colorway": [
           "#636efa",
           "#EF553B",
           "#00cc96",
           "#ab63fa",
           "#FFA15A",
           "#19d3f3",
           "#FF6692",
           "#B6E880",
           "#FF97FF",
           "#FECB52"
          ],
          "font": {
           "color": "#2a3f5f"
          },
          "geo": {
           "bgcolor": "white",
           "lakecolor": "white",
           "landcolor": "#E5ECF6",
           "showlakes": true,
           "showland": true,
           "subunitcolor": "white"
          },
          "hoverlabel": {
           "align": "left"
          },
          "hovermode": "closest",
          "mapbox": {
           "style": "light"
          },
          "paper_bgcolor": "white",
          "plot_bgcolor": "#E5ECF6",
          "polar": {
           "angularaxis": {
            "gridcolor": "white",
            "linecolor": "white",
            "ticks": ""
           },
           "bgcolor": "#E5ECF6",
           "radialaxis": {
            "gridcolor": "white",
            "linecolor": "white",
            "ticks": ""
           }
          },
          "scene": {
           "xaxis": {
            "backgroundcolor": "#E5ECF6",
            "gridcolor": "white",
            "gridwidth": 2,
            "linecolor": "white",
            "showbackground": true,
            "ticks": "",
            "zerolinecolor": "white"
           },
           "yaxis": {
            "backgroundcolor": "#E5ECF6",
            "gridcolor": "white",
            "gridwidth": 2,
            "linecolor": "white",
            "showbackground": true,
            "ticks": "",
            "zerolinecolor": "white"
           },
           "zaxis": {
            "backgroundcolor": "#E5ECF6",
            "gridcolor": "white",
            "gridwidth": 2,
            "linecolor": "white",
            "showbackground": true,
            "ticks": "",
            "zerolinecolor": "white"
           }
          },
          "shapedefaults": {
           "line": {
            "color": "#2a3f5f"
           }
          },
          "ternary": {
           "aaxis": {
            "gridcolor": "white",
            "linecolor": "white",
            "ticks": ""
           },
           "baxis": {
            "gridcolor": "white",
            "linecolor": "white",
            "ticks": ""
           },
           "bgcolor": "#E5ECF6",
           "caxis": {
            "gridcolor": "white",
            "linecolor": "white",
            "ticks": ""
           }
          },
          "title": {
           "x": 0.05
          },
          "xaxis": {
           "automargin": true,
           "gridcolor": "white",
           "linecolor": "white",
           "ticks": "",
           "title": {
            "standoff": 15
           },
           "zerolinecolor": "white",
           "zerolinewidth": 2
          },
          "yaxis": {
           "automargin": true,
           "gridcolor": "white",
           "linecolor": "white",
           "ticks": "",
           "title": {
            "standoff": 15
           },
           "zerolinecolor": "white",
           "zerolinewidth": 2
          }
         }
        },
        "xaxis": {
         "anchor": "y",
         "domain": [
          0,
          1
         ],
         "title": {
          "text": "Year-Month"
         }
        },
        "yaxis": {
         "anchor": "x",
         "domain": [
          0,
          1
         ],
         "title": {
          "text": "Fund"
         }
        }
       }
      }
     },
     "metadata": {},
     "output_type": "display_data"
    }
   ],
   "source": [
    "px.scatter(data_frame=df , x= 'Year-Month', y= 'Fund', color='StateSt')"
   ]
  },
  {
   "cell_type": "code",
   "execution_count": 93,
   "id": "abc94357-90b5-4376-a029-9eaa84bc1691",
   "metadata": {},
   "outputs": [
    {
     "data": {
      "text/plain": [
       "200907    24\n",
       "201004    23\n",
       "201007    22\n",
       "200910    20\n",
       "201003    19\n",
       "          ..\n",
       "201609     1\n",
       "201703     1\n",
       "201704     1\n",
       "201710     1\n",
       "200010     1\n",
       "Name: Year-Month, Length: 120, dtype: int64"
      ]
     },
     "execution_count": 93,
     "metadata": {},
     "output_type": "execute_result"
    }
   ],
   "source": [
    "df['Year-Month'].value_counts()"
   ]
  },
  {
   "cell_type": "code",
   "execution_count": 132,
   "id": "7b8df6ee-5ff9-4486-ab5e-5ccaf1b518d4",
   "metadata": {},
   "outputs": [
    {
     "data": {
      "application/vnd.plotly.v1+json": {
       "config": {
        "plotlyServerURL": "https://plot.ly"
       },
       "data": [
        {
         "hovertemplate": "Year-Month=%{x}<br>Cert=%{y}<extra></extra>",
         "legendgroup": "",
         "marker": {
          "color": "#636efa",
          "symbol": "circle"
         },
         "mode": "markers",
         "name": "",
         "orientation": "v",
         "showlegend": false,
         "type": "scatter",
         "x": [
          "200010",
          "200012",
          "200102",
          "200105",
          "200107",
          "200109",
          "200201",
          "200202",
          "200203",
          "200206",
          "200209",
          "200211",
          "200212",
          "200302",
          "200305",
          "200311",
          "200402",
          "200403",
          "200406",
          "200702",
          "200709",
          "200710",
          "200801",
          "200803",
          "200805",
          "200807",
          "200808",
          "200809",
          "200810",
          "200811",
          "200812",
          "200901",
          "200902",
          "200903",
          "200904",
          "200905",
          "200906",
          "200907",
          "200908",
          "200909",
          "200910",
          "200911",
          "200912",
          "201001",
          "201002",
          "201003",
          "201004",
          "201005",
          "201006",
          "201007",
          "201008",
          "201009",
          "201010",
          "201011",
          "201012",
          "201101",
          "201102",
          "201103",
          "201104",
          "201105",
          "201106",
          "201107",
          "201108",
          "201109",
          "201110",
          "201111",
          "201112",
          "201201",
          "201202",
          "201203",
          "201204",
          "201205",
          "201206",
          "201207",
          "201208",
          "201209",
          "201210",
          "201211",
          "201212",
          "201301",
          "201302",
          "201303",
          "201304",
          "201305",
          "201306",
          "201308",
          "201309",
          "201310",
          "201312",
          "201401",
          "201402",
          "201404",
          "201405",
          "201406",
          "201407",
          "201410",
          "201411",
          "201412",
          "201501",
          "201502",
          "201505",
          "201507",
          "201510",
          "201603",
          "201604",
          "201605",
          "201608",
          "201609",
          "201701",
          "201703",
          "201704",
          "201705",
          "201710",
          "201712",
          "201905",
          "201910",
          "201911",
          "202002",
          "202004",
          "202010"
         ],
         "xaxis": "x",
         "y": [
          21029,
          3815,
          34264,
          6629,
          32646,
          34248,
          46384,
          31280,
          61631,
          48538,
          33784,
          9961,
          16445,
          27094,
          11639,
          27203,
          31330,
          53616,
          1249,
          35353,
          32575,
          16848,
          24660,
          1971,
          46637,
          114702,
          115720,
          73609,
          187614,
          126267,
          81248,
          203019,
          306848,
          121689,
          270387,
          227581,
          302701,
          722957,
          449706,
          361687,
          692011,
          310232,
          437276,
          301064,
          235177,
          650197,
          700521,
          547123,
          263027,
          681124,
          271436,
          357776,
          346837,
          350225,
          298770,
          371198,
          410580,
          73187,
          397112,
          173897,
          162833,
          507587,
          233846,
          229558,
          441231,
          168195,
          116260,
          214586,
          87813,
          219013,
          207682,
          58380,
          143954,
          213795,
          28243,
          83247,
          132554,
          96668,
          27331,
          91154,
          22476,
          16431,
          251181,
          186799,
          93147,
          124515,
          71359,
          14794,
          57431,
          57995,
          93627,
          15062,
          122518,
          44726,
          86587,
          5778,
          34738,
          34983,
          37847,
          66040,
          57772,
          34112,
          70415,
          20364,
          9956,
          35312,
          11297,
          91,
          54279,
          35495,
          58302,
          31805,
          17719,
          30570,
          10716,
          116429,
          21111,
          18265,
          14361,
          32174
         ],
         "yaxis": "y"
        }
       ],
       "layout": {
        "legend": {
         "tracegroupgap": 0
        },
        "margin": {
         "t": 60
        },
        "template": {
         "data": {
          "bar": [
           {
            "error_x": {
             "color": "#2a3f5f"
            },
            "error_y": {
             "color": "#2a3f5f"
            },
            "marker": {
             "line": {
              "color": "#E5ECF6",
              "width": 0.5
             },
             "pattern": {
              "fillmode": "overlay",
              "size": 10,
              "solidity": 0.2
             }
            },
            "type": "bar"
           }
          ],
          "barpolar": [
           {
            "marker": {
             "line": {
              "color": "#E5ECF6",
              "width": 0.5
             },
             "pattern": {
              "fillmode": "overlay",
              "size": 10,
              "solidity": 0.2
             }
            },
            "type": "barpolar"
           }
          ],
          "carpet": [
           {
            "aaxis": {
             "endlinecolor": "#2a3f5f",
             "gridcolor": "white",
             "linecolor": "white",
             "minorgridcolor": "white",
             "startlinecolor": "#2a3f5f"
            },
            "baxis": {
             "endlinecolor": "#2a3f5f",
             "gridcolor": "white",
             "linecolor": "white",
             "minorgridcolor": "white",
             "startlinecolor": "#2a3f5f"
            },
            "type": "carpet"
           }
          ],
          "choropleth": [
           {
            "colorbar": {
             "outlinewidth": 0,
             "ticks": ""
            },
            "type": "choropleth"
           }
          ],
          "contour": [
           {
            "colorbar": {
             "outlinewidth": 0,
             "ticks": ""
            },
            "colorscale": [
             [
              0,
              "#0d0887"
             ],
             [
              0.1111111111111111,
              "#46039f"
             ],
             [
              0.2222222222222222,
              "#7201a8"
             ],
             [
              0.3333333333333333,
              "#9c179e"
             ],
             [
              0.4444444444444444,
              "#bd3786"
             ],
             [
              0.5555555555555556,
              "#d8576b"
             ],
             [
              0.6666666666666666,
              "#ed7953"
             ],
             [
              0.7777777777777778,
              "#fb9f3a"
             ],
             [
              0.8888888888888888,
              "#fdca26"
             ],
             [
              1,
              "#f0f921"
             ]
            ],
            "type": "contour"
           }
          ],
          "contourcarpet": [
           {
            "colorbar": {
             "outlinewidth": 0,
             "ticks": ""
            },
            "type": "contourcarpet"
           }
          ],
          "heatmap": [
           {
            "colorbar": {
             "outlinewidth": 0,
             "ticks": ""
            },
            "colorscale": [
             [
              0,
              "#0d0887"
             ],
             [
              0.1111111111111111,
              "#46039f"
             ],
             [
              0.2222222222222222,
              "#7201a8"
             ],
             [
              0.3333333333333333,
              "#9c179e"
             ],
             [
              0.4444444444444444,
              "#bd3786"
             ],
             [
              0.5555555555555556,
              "#d8576b"
             ],
             [
              0.6666666666666666,
              "#ed7953"
             ],
             [
              0.7777777777777778,
              "#fb9f3a"
             ],
             [
              0.8888888888888888,
              "#fdca26"
             ],
             [
              1,
              "#f0f921"
             ]
            ],
            "type": "heatmap"
           }
          ],
          "heatmapgl": [
           {
            "colorbar": {
             "outlinewidth": 0,
             "ticks": ""
            },
            "colorscale": [
             [
              0,
              "#0d0887"
             ],
             [
              0.1111111111111111,
              "#46039f"
             ],
             [
              0.2222222222222222,
              "#7201a8"
             ],
             [
              0.3333333333333333,
              "#9c179e"
             ],
             [
              0.4444444444444444,
              "#bd3786"
             ],
             [
              0.5555555555555556,
              "#d8576b"
             ],
             [
              0.6666666666666666,
              "#ed7953"
             ],
             [
              0.7777777777777778,
              "#fb9f3a"
             ],
             [
              0.8888888888888888,
              "#fdca26"
             ],
             [
              1,
              "#f0f921"
             ]
            ],
            "type": "heatmapgl"
           }
          ],
          "histogram": [
           {
            "marker": {
             "pattern": {
              "fillmode": "overlay",
              "size": 10,
              "solidity": 0.2
             }
            },
            "type": "histogram"
           }
          ],
          "histogram2d": [
           {
            "colorbar": {
             "outlinewidth": 0,
             "ticks": ""
            },
            "colorscale": [
             [
              0,
              "#0d0887"
             ],
             [
              0.1111111111111111,
              "#46039f"
             ],
             [
              0.2222222222222222,
              "#7201a8"
             ],
             [
              0.3333333333333333,
              "#9c179e"
             ],
             [
              0.4444444444444444,
              "#bd3786"
             ],
             [
              0.5555555555555556,
              "#d8576b"
             ],
             [
              0.6666666666666666,
              "#ed7953"
             ],
             [
              0.7777777777777778,
              "#fb9f3a"
             ],
             [
              0.8888888888888888,
              "#fdca26"
             ],
             [
              1,
              "#f0f921"
             ]
            ],
            "type": "histogram2d"
           }
          ],
          "histogram2dcontour": [
           {
            "colorbar": {
             "outlinewidth": 0,
             "ticks": ""
            },
            "colorscale": [
             [
              0,
              "#0d0887"
             ],
             [
              0.1111111111111111,
              "#46039f"
             ],
             [
              0.2222222222222222,
              "#7201a8"
             ],
             [
              0.3333333333333333,
              "#9c179e"
             ],
             [
              0.4444444444444444,
              "#bd3786"
             ],
             [
              0.5555555555555556,
              "#d8576b"
             ],
             [
              0.6666666666666666,
              "#ed7953"
             ],
             [
              0.7777777777777778,
              "#fb9f3a"
             ],
             [
              0.8888888888888888,
              "#fdca26"
             ],
             [
              1,
              "#f0f921"
             ]
            ],
            "type": "histogram2dcontour"
           }
          ],
          "mesh3d": [
           {
            "colorbar": {
             "outlinewidth": 0,
             "ticks": ""
            },
            "type": "mesh3d"
           }
          ],
          "parcoords": [
           {
            "line": {
             "colorbar": {
              "outlinewidth": 0,
              "ticks": ""
             }
            },
            "type": "parcoords"
           }
          ],
          "pie": [
           {
            "automargin": true,
            "type": "pie"
           }
          ],
          "scatter": [
           {
            "fillpattern": {
             "fillmode": "overlay",
             "size": 10,
             "solidity": 0.2
            },
            "type": "scatter"
           }
          ],
          "scatter3d": [
           {
            "line": {
             "colorbar": {
              "outlinewidth": 0,
              "ticks": ""
             }
            },
            "marker": {
             "colorbar": {
              "outlinewidth": 0,
              "ticks": ""
             }
            },
            "type": "scatter3d"
           }
          ],
          "scattercarpet": [
           {
            "marker": {
             "colorbar": {
              "outlinewidth": 0,
              "ticks": ""
             }
            },
            "type": "scattercarpet"
           }
          ],
          "scattergeo": [
           {
            "marker": {
             "colorbar": {
              "outlinewidth": 0,
              "ticks": ""
             }
            },
            "type": "scattergeo"
           }
          ],
          "scattergl": [
           {
            "marker": {
             "colorbar": {
              "outlinewidth": 0,
              "ticks": ""
             }
            },
            "type": "scattergl"
           }
          ],
          "scattermapbox": [
           {
            "marker": {
             "colorbar": {
              "outlinewidth": 0,
              "ticks": ""
             }
            },
            "type": "scattermapbox"
           }
          ],
          "scatterpolar": [
           {
            "marker": {
             "colorbar": {
              "outlinewidth": 0,
              "ticks": ""
             }
            },
            "type": "scatterpolar"
           }
          ],
          "scatterpolargl": [
           {
            "marker": {
             "colorbar": {
              "outlinewidth": 0,
              "ticks": ""
             }
            },
            "type": "scatterpolargl"
           }
          ],
          "scatterternary": [
           {
            "marker": {
             "colorbar": {
              "outlinewidth": 0,
              "ticks": ""
             }
            },
            "type": "scatterternary"
           }
          ],
          "surface": [
           {
            "colorbar": {
             "outlinewidth": 0,
             "ticks": ""
            },
            "colorscale": [
             [
              0,
              "#0d0887"
             ],
             [
              0.1111111111111111,
              "#46039f"
             ],
             [
              0.2222222222222222,
              "#7201a8"
             ],
             [
              0.3333333333333333,
              "#9c179e"
             ],
             [
              0.4444444444444444,
              "#bd3786"
             ],
             [
              0.5555555555555556,
              "#d8576b"
             ],
             [
              0.6666666666666666,
              "#ed7953"
             ],
             [
              0.7777777777777778,
              "#fb9f3a"
             ],
             [
              0.8888888888888888,
              "#fdca26"
             ],
             [
              1,
              "#f0f921"
             ]
            ],
            "type": "surface"
           }
          ],
          "table": [
           {
            "cells": {
             "fill": {
              "color": "#EBF0F8"
             },
             "line": {
              "color": "white"
             }
            },
            "header": {
             "fill": {
              "color": "#C8D4E3"
             },
             "line": {
              "color": "white"
             }
            },
            "type": "table"
           }
          ]
         },
         "layout": {
          "annotationdefaults": {
           "arrowcolor": "#2a3f5f",
           "arrowhead": 0,
           "arrowwidth": 1
          },
          "autotypenumbers": "strict",
          "coloraxis": {
           "colorbar": {
            "outlinewidth": 0,
            "ticks": ""
           }
          },
          "colorscale": {
           "diverging": [
            [
             0,
             "#8e0152"
            ],
            [
             0.1,
             "#c51b7d"
            ],
            [
             0.2,
             "#de77ae"
            ],
            [
             0.3,
             "#f1b6da"
            ],
            [
             0.4,
             "#fde0ef"
            ],
            [
             0.5,
             "#f7f7f7"
            ],
            [
             0.6,
             "#e6f5d0"
            ],
            [
             0.7,
             "#b8e186"
            ],
            [
             0.8,
             "#7fbc41"
            ],
            [
             0.9,
             "#4d9221"
            ],
            [
             1,
             "#276419"
            ]
           ],
           "sequential": [
            [
             0,
             "#0d0887"
            ],
            [
             0.1111111111111111,
             "#46039f"
            ],
            [
             0.2222222222222222,
             "#7201a8"
            ],
            [
             0.3333333333333333,
             "#9c179e"
            ],
            [
             0.4444444444444444,
             "#bd3786"
            ],
            [
             0.5555555555555556,
             "#d8576b"
            ],
            [
             0.6666666666666666,
             "#ed7953"
            ],
            [
             0.7777777777777778,
             "#fb9f3a"
            ],
            [
             0.8888888888888888,
             "#fdca26"
            ],
            [
             1,
             "#f0f921"
            ]
           ],
           "sequentialminus": [
            [
             0,
             "#0d0887"
            ],
            [
             0.1111111111111111,
             "#46039f"
            ],
            [
             0.2222222222222222,
             "#7201a8"
            ],
            [
             0.3333333333333333,
             "#9c179e"
            ],
            [
             0.4444444444444444,
             "#bd3786"
            ],
            [
             0.5555555555555556,
             "#d8576b"
            ],
            [
             0.6666666666666666,
             "#ed7953"
            ],
            [
             0.7777777777777778,
             "#fb9f3a"
            ],
            [
             0.8888888888888888,
             "#fdca26"
            ],
            [
             1,
             "#f0f921"
            ]
           ]
          },
          "colorway": [
           "#636efa",
           "#EF553B",
           "#00cc96",
           "#ab63fa",
           "#FFA15A",
           "#19d3f3",
           "#FF6692",
           "#B6E880",
           "#FF97FF",
           "#FECB52"
          ],
          "font": {
           "color": "#2a3f5f"
          },
          "geo": {
           "bgcolor": "white",
           "lakecolor": "white",
           "landcolor": "#E5ECF6",
           "showlakes": true,
           "showland": true,
           "subunitcolor": "white"
          },
          "hoverlabel": {
           "align": "left"
          },
          "hovermode": "closest",
          "mapbox": {
           "style": "light"
          },
          "paper_bgcolor": "white",
          "plot_bgcolor": "#E5ECF6",
          "polar": {
           "angularaxis": {
            "gridcolor": "white",
            "linecolor": "white",
            "ticks": ""
           },
           "bgcolor": "#E5ECF6",
           "radialaxis": {
            "gridcolor": "white",
            "linecolor": "white",
            "ticks": ""
           }
          },
          "scene": {
           "xaxis": {
            "backgroundcolor": "#E5ECF6",
            "gridcolor": "white",
            "gridwidth": 2,
            "linecolor": "white",
            "showbackground": true,
            "ticks": "",
            "zerolinecolor": "white"
           },
           "yaxis": {
            "backgroundcolor": "#E5ECF6",
            "gridcolor": "white",
            "gridwidth": 2,
            "linecolor": "white",
            "showbackground": true,
            "ticks": "",
            "zerolinecolor": "white"
           },
           "zaxis": {
            "backgroundcolor": "#E5ECF6",
            "gridcolor": "white",
            "gridwidth": 2,
            "linecolor": "white",
            "showbackground": true,
            "ticks": "",
            "zerolinecolor": "white"
           }
          },
          "shapedefaults": {
           "line": {
            "color": "#2a3f5f"
           }
          },
          "ternary": {
           "aaxis": {
            "gridcolor": "white",
            "linecolor": "white",
            "ticks": ""
           },
           "baxis": {
            "gridcolor": "white",
            "linecolor": "white",
            "ticks": ""
           },
           "bgcolor": "#E5ECF6",
           "caxis": {
            "gridcolor": "white",
            "linecolor": "white",
            "ticks": ""
           }
          },
          "title": {
           "x": 0.05
          },
          "xaxis": {
           "automargin": true,
           "gridcolor": "white",
           "linecolor": "white",
           "ticks": "",
           "title": {
            "standoff": 15
           },
           "zerolinecolor": "white",
           "zerolinewidth": 2
          },
          "yaxis": {
           "automargin": true,
           "gridcolor": "white",
           "linecolor": "white",
           "ticks": "",
           "title": {
            "standoff": 15
           },
           "zerolinecolor": "white",
           "zerolinewidth": 2
          }
         }
        },
        "xaxis": {
         "anchor": "y",
         "domain": [
          0,
          1
         ],
         "title": {
          "text": "Year-Month"
         }
        },
        "yaxis": {
         "anchor": "x",
         "domain": [
          0,
          1
         ],
         "title": {
          "text": "Cert"
         }
        }
       }
      }
     },
     "metadata": {},
     "output_type": "display_data"
    }
   ],
   "source": [
    "## group by 시 year - month 에 묶은 다른 컬럼들이 들어감\n",
    "DateFund = df.groupby('Year-Month').sum()\n",
    "px.scatter(data_frame=DateFund, x= DateFund.index , y= 'Cert')"
   ]
  },
  {
   "cell_type": "code",
   "execution_count": 98,
   "id": "18943a76-c507-43bd-9799-8513a5102a90",
   "metadata": {},
   "outputs": [
    {
     "data": {
      "text/html": [
       "<div>\n",
       "<style scoped>\n",
       "    .dataframe tbody tr th:only-of-type {\n",
       "        vertical-align: middle;\n",
       "    }\n",
       "\n",
       "    .dataframe tbody tr th {\n",
       "        vertical-align: top;\n",
       "    }\n",
       "\n",
       "    .dataframe thead th {\n",
       "        text-align: right;\n",
       "    }\n",
       "</style>\n",
       "<table border=\"1\" class=\"dataframe\">\n",
       "  <thead>\n",
       "    <tr style=\"text-align: right;\">\n",
       "      <th></th>\n",
       "      <th>Cert</th>\n",
       "      <th>Fund</th>\n",
       "    </tr>\n",
       "    <tr>\n",
       "      <th>Year-Month</th>\n",
       "      <th></th>\n",
       "      <th></th>\n",
       "    </tr>\n",
       "  </thead>\n",
       "  <tbody>\n",
       "    <tr>\n",
       "      <th>200010</th>\n",
       "      <td>21029</td>\n",
       "      <td>4645</td>\n",
       "    </tr>\n",
       "    <tr>\n",
       "      <th>200012</th>\n",
       "      <td>3815</td>\n",
       "      <td>4646</td>\n",
       "    </tr>\n",
       "    <tr>\n",
       "      <th>200102</th>\n",
       "      <td>34264</td>\n",
       "      <td>4647</td>\n",
       "    </tr>\n",
       "    <tr>\n",
       "      <th>200105</th>\n",
       "      <td>6629</td>\n",
       "      <td>4648</td>\n",
       "    </tr>\n",
       "    <tr>\n",
       "      <th>200107</th>\n",
       "      <td>32646</td>\n",
       "      <td>6004</td>\n",
       "    </tr>\n",
       "    <tr>\n",
       "      <th>...</th>\n",
       "      <td>...</td>\n",
       "      <td>...</td>\n",
       "    </tr>\n",
       "    <tr>\n",
       "      <th>201910</th>\n",
       "      <td>116429</td>\n",
       "      <td>21065</td>\n",
       "    </tr>\n",
       "    <tr>\n",
       "      <th>201911</th>\n",
       "      <td>21111</td>\n",
       "      <td>10534</td>\n",
       "    </tr>\n",
       "    <tr>\n",
       "      <th>202002</th>\n",
       "      <td>18265</td>\n",
       "      <td>10535</td>\n",
       "    </tr>\n",
       "    <tr>\n",
       "      <th>202004</th>\n",
       "      <td>14361</td>\n",
       "      <td>10536</td>\n",
       "    </tr>\n",
       "    <tr>\n",
       "      <th>202010</th>\n",
       "      <td>32174</td>\n",
       "      <td>21075</td>\n",
       "    </tr>\n",
       "  </tbody>\n",
       "</table>\n",
       "<p>120 rows × 2 columns</p>\n",
       "</div>"
      ],
      "text/plain": [
       "              Cert   Fund\n",
       "Year-Month               \n",
       "200010       21029   4645\n",
       "200012        3815   4646\n",
       "200102       34264   4647\n",
       "200105        6629   4648\n",
       "200107       32646   6004\n",
       "...            ...    ...\n",
       "201910      116429  21065\n",
       "201911       21111  10534\n",
       "202002       18265  10535\n",
       "202004       14361  10536\n",
       "202010       32174  21075\n",
       "\n",
       "[120 rows x 2 columns]"
      ]
     },
     "execution_count": 98,
     "metadata": {},
     "output_type": "execute_result"
    }
   ],
   "source": [
    "DateFund"
   ]
  }
 ],
 "metadata": {
  "kernelspec": {
   "display_name": "base",
   "language": "python",
   "name": "python3"
  },
  "language_info": {
   "codemirror_mode": {
    "name": "ipython",
    "version": 3
   },
   "file_extension": ".py",
   "mimetype": "text/x-python",
   "name": "python",
   "nbconvert_exporter": "python",
   "pygments_lexer": "ipython3",
   "version": "3.9.13"
  },
  "vscode": {
   "interpreter": {
    "hash": "701d4f28dcd0866722f5108a3a4cbcd08882d26398b6d44117e791d7b8102912"
   }
  }
 },
 "nbformat": 4,
 "nbformat_minor": 5
}
