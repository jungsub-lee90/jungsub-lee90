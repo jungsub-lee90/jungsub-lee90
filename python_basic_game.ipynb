{
 "cells": [
  {
   "cell_type": "code",
   "execution_count": 1,
   "id": "3b697a21-f3bf-4436-a098-973c936fe1ae",
   "metadata": {},
   "outputs": [],
   "source": [
    "## kwargs 는 매개변수에 변수명까지 정의해서 넘길 수 있다.\n",
    "def print_kwargs(**kwargs):\n",
    "    print (kwargs)\n",
    "    for key, val in kwargs.items():  ## .items()는 dic 타입에서 꺼내올때\n",
    "        print(key,val)"
   ]
  },
  {
   "cell_type": "code",
   "execution_count": 3,
   "id": "802b5279-09bf-4f70-bd0f-9b77cefc3b6b",
   "metadata": {},
   "outputs": [
    {
     "name": "stdout",
     "output_type": "stream",
     "text": [
      "{'a': 1, 'b': 2, 'd': 4}\n",
      "a 1\n",
      "b 2\n",
      "d 4\n"
     ]
    }
   ],
   "source": [
    "print_kwargs(a=1, b=2, d=4)"
   ]
  },
  {
   "cell_type": "code",
   "execution_count": 4,
   "id": "59d9e0ab-69de-4be5-b782-e6b341d9fcb5",
   "metadata": {},
   "outputs": [],
   "source": [
    "## 리턴을 2개이상 \n",
    "def test (a,b,c):\n",
    "    return a+b, a+c"
   ]
  },
  {
   "cell_type": "code",
   "execution_count": 5,
   "id": "a1cbf98f-54c2-499d-9b6d-495207bbd9c1",
   "metadata": {},
   "outputs": [],
   "source": [
    "## 리턴이 두개 이므로 변수를 콤마로 두개 주면 함수의 결과 값 받을 수 있다.\n",
    "ret1, ret2 = test (1,2,3)"
   ]
  },
  {
   "cell_type": "code",
   "execution_count": 6,
   "id": "2d38f87f-8a1d-4311-be45-9958f1a84d5c",
   "metadata": {},
   "outputs": [
    {
     "data": {
      "text/plain": [
       "3"
      ]
     },
     "execution_count": 6,
     "metadata": {},
     "output_type": "execute_result"
    }
   ],
   "source": [
    "ret1"
   ]
  },
  {
   "cell_type": "code",
   "execution_count": 7,
   "id": "c824b2c2-2721-45e7-b1e6-9a5d2d7dc271",
   "metadata": {},
   "outputs": [
    {
     "data": {
      "text/plain": [
       "4"
      ]
     },
     "execution_count": 7,
     "metadata": {},
     "output_type": "execute_result"
    }
   ],
   "source": [
    "ret2"
   ]
  },
  {
   "cell_type": "markdown",
   "id": "6e5c6dc3-d577-44fa-ae72-c6b4bf8bb089",
   "metadata": {},
   "source": [
    "파일 입출력"
   ]
  },
  {
   "cell_type": "markdown",
   "id": "6a2be289-fb89-4a32-89ce-c309d9c22820",
   "metadata": {},
   "source": [
    "open(filename , mode)\n",
    " - read : 읽기\n",
    " - append : 수정(기존 내용에 추가)\n",
    " - write : 새로운 파일"
   ]
  },
  {
   "cell_type": "code",
   "execution_count": 8,
   "id": "1267eb0c-4122-4550-8d5a-18d0a59c5233",
   "metadata": {},
   "outputs": [],
   "source": [
    "## 파일 읽어오기\n",
    "f  = open('sample.txt' ,'r',  encoding= 'utf8')"
   ]
  },
  {
   "cell_type": "code",
   "execution_count": 9,
   "id": "f043460e-7cd3-40a2-9d06-d0985eb003f3",
   "metadata": {},
   "outputs": [
    {
     "data": {
      "text/plain": [
       "<_io.TextIOWrapper name='sample.txt' mode='r' encoding='utf8'>"
      ]
     },
     "execution_count": 9,
     "metadata": {},
     "output_type": "execute_result"
    }
   ],
   "source": [
    "f"
   ]
  },
  {
   "cell_type": "code",
   "execution_count": 10,
   "id": "3fba144c-33cb-4370-885a-c1058571f84f",
   "metadata": {},
   "outputs": [
    {
     "name": "stdout",
     "output_type": "stream",
     "text": [
      "['1번줄\\n', '2번줄\\n', '3번줄\\n', '4번줄\\n', '5번줄\\n', '6번줄\\n']"
     ]
    }
   ],
   "source": [
    "\n",
    "while True :\n",
    "    line= f.readlines()  ## readlines()는 리스트로 read()는 한줄로\n",
    "    if line:\n",
    "        print(line ,end='')  ## append로 값 추가가능\n",
    "    else:\n",
    "        break\n",
    "f.close()"
   ]
  },
  {
   "cell_type": "code",
   "execution_count": 11,
   "id": "dec04548-aee1-4ccd-91dd-2802aeda6c30",
   "metadata": {},
   "outputs": [
    {
     "name": "stdout",
     "output_type": "stream",
     "text": [
      "1번줄\n",
      "2번줄\n",
      "3번줄\n",
      "4번줄\n",
      "5번줄\n",
      "6번줄\n",
      "\n"
     ]
    }
   ],
   "source": [
    "f  = open('sample.txt' ,'r',  encoding= 'utf8')\n",
    "data = f.read()\n",
    "print(data)\n",
    "f.close()"
   ]
  },
  {
   "cell_type": "code",
   "execution_count": 12,
   "id": "4ee94d2b-b6b6-41e9-b174-fdab67714009",
   "metadata": {},
   "outputs": [
    {
     "data": {
      "text/plain": [
       "'1번줄\\n2번줄\\n3번줄\\n4번줄\\n5번줄\\n6번줄\\n'"
      ]
     },
     "execution_count": 12,
     "metadata": {},
     "output_type": "execute_result"
    }
   ],
   "source": [
    "data"
   ]
  },
  {
   "cell_type": "code",
   "execution_count": null,
   "id": "3459237f-594c-4b8b-a355-dd63d1a7c54d",
   "metadata": {},
   "outputs": [],
   "source": [
    "data.split('\\n')"
   ]
  },
  {
   "cell_type": "code",
   "execution_count": 13,
   "id": "deaffdd3-777f-423f-88c8-64db5c8a6163",
   "metadata": {},
   "outputs": [
    {
     "name": "stdout",
     "output_type": "stream",
     "text": [
      "1번째입니다.\n",
      "\n",
      "2번째입니다.\n",
      "\n",
      "3번째입니다.\n",
      "\n",
      "4번째입니다.\n",
      "\n",
      "5번째입니다.\n",
      "\n"
     ]
    }
   ],
   "source": [
    "## 파일생성\n",
    "## 인코딩 방식을 결정하면 열때도 인코딩 동일 방식 명시\n",
    "f3 = open('sample3.txt', 'w', encoding='utf8' ) ## 파일 생성\n",
    "for i in range(1,6):\n",
    "    data = str(i)+ '번째입니다.\\n'\n",
    "    print(data)\n",
    "    f3.write(data)\n",
    "f3.close()"
   ]
  },
  {
   "cell_type": "markdown",
   "id": "629a3d55-20c6-4d5c-b963-7120d7982787",
   "metadata": {},
   "source": [
    "## quiz\n",
    "quiz.txt\n",
    "1. 1-100 파일에 작성\n",
    "2. 100-1 파일 뒤에 추가\n",
    "3. 전체 내용 출력"
   ]
  },
  {
   "cell_type": "code",
   "execution_count": null,
   "id": "090f3288-3ee8-4911-b929-62403dfd6878",
   "metadata": {},
   "outputs": [],
   "source": [
    "#1\n",
    "q = open('quiz.txt', 'w' , encoding='utf8')\n",
    "for i in range(1,101):\n",
    "    data = str(i)+ '\\n'\n",
    "    q.write(data)\n",
    "#2 add 는 add\n",
    "q= open('quiz.txt', 'a' , encoding='utf8')\n",
    "for i in range(100,0,-1):\n",
    "    data = str(i)+ '\\n'\n",
    "    q.write(data)\n",
    "q.close()\n",
    "#3\n",
    "q= open('quiz.txt', 'r' , encoding='utf8')\n",
    "q.readlines()\n"
   ]
  },
  {
   "cell_type": "markdown",
   "id": "49a38c0e-b4d5-443f-8cdb-73d593489dd6",
   "metadata": {},
   "source": [
    "모듈"
   ]
  },
  {
   "cell_type": "code",
   "execution_count": 19,
   "id": "2bbd3e3e-b21d-48f4-bf8e-3ad57a2a6191",
   "metadata": {},
   "outputs": [],
   "source": [
    "import mod1 as m"
   ]
  },
  {
   "cell_type": "code",
   "execution_count": 20,
   "id": "5777f738-18ea-4e53-bb44-6d043aef66e5",
   "metadata": {},
   "outputs": [
    {
     "name": "stdout",
     "output_type": "stream",
     "text": [
      "3 3\n"
     ]
    }
   ],
   "source": [
    "## mod1 파일을 임포트 받아 해당 파일에 정의된 함수 사용\n",
    "from mod1 import *\n",
    "\n",
    "ad=add(1,2)\n",
    "sb=sub(4,1)\n",
    "print (ad, sb)"
   ]
  },
  {
   "cell_type": "markdown",
   "id": "dbded620-f8fc-48c1-92cc-56ec69d1c75c",
   "metadata": {},
   "source": [
    "배스킨 라빈스 31 만들기\n",
    "선공 후공 결정\n",
    "번갈아 가면서 1-31 의 범위에서 1-3개의 숫자를 랜덤으로 얘기 \n",
    "31을 말하는 사람이 짐"
   ]
  },
  {
   "cell_type": "code",
   "execution_count": 39,
   "id": "05d77ac6",
   "metadata": {},
   "outputs": [
    {
     "name": "stdout",
     "output_type": "stream",
     "text": [
      "user 선공\n",
      "내차례\n",
      "1\n",
      "2\n",
      "3\n",
      "com 차례\n",
      "4\n",
      "내차례\n",
      "5\n",
      "6\n",
      "com 차례\n",
      "7\n",
      "내차례\n",
      "8\n",
      "com 차례\n",
      "9\n",
      "10\n",
      "11\n",
      "내차례\n",
      "12\n",
      "13\n",
      "14\n",
      "15\n",
      "16\n",
      "com 차례\n",
      "17\n",
      "18\n",
      "19\n",
      "내차례\n",
      "20\n",
      "21\n",
      "22\n",
      "23\n",
      "24\n",
      "25\n",
      "com 차례\n",
      "26\n",
      "내차례\n",
      "27\n",
      "28\n",
      "29\n",
      "30\n",
      "31\n",
      "gameover\n",
      "com win\n",
      "thank you for your joining\n"
     ]
    }
   ],
   "source": [
    "turn = rn.randint(0,1)\n",
    "if turn ==1 :\n",
    "    print('user 선공' )\n",
    "else :\n",
    "    print('com선공')\n",
    "count = 0\n",
    "while count<=30:\n",
    "    if turn ==1:\n",
    "        print('내차례')\n",
    "        urinput= int(input())\n",
    "        for i in range(urinput):\n",
    "            if count ==31:\n",
    "                print('gameover')\n",
    "                break\n",
    "            else :\n",
    "                count+=1\n",
    "                print(count)\n",
    "                turn=0\n",
    "    elif turn ==0:\n",
    "        print('com 차례')\n",
    "        comval=rn.randint(1,3)\n",
    "        for i in range(comval):\n",
    "            if count ==31:\n",
    "                print('gameover')\n",
    "                break\n",
    "            else :\n",
    "                count+=1\n",
    "                print(count)\n",
    "                turn=1\n",
    "if turn==1 :\n",
    "    print ('user win')\n",
    "else :\n",
    "    print ('com win')\n",
    "print('thank you for your joining')"
   ]
  },
  {
   "cell_type": "code",
   "execution_count": 45,
   "id": "7c3ef096-a76c-4d5c-951b-0a15ca19754d",
   "metadata": {},
   "outputs": [
    {
     "name": "stdout",
     "output_type": "stream",
     "text": [
      "['2']\n",
      "{'.-': 'A', '-.': 'N', '-...': 'B', '---': 'O', '-.-.': 'C', '.--.': 'P', '-..': 'D', '--.-': 'Q', '.': 'E', '.-.': 'R', '..-.': 'F', '...': 'S', '--.': 'G', '-': 'T', '....': 'H', '..-': 'U', '..': 'I', '...-': 'V', '.---': 'J', '.--': 'W', '-.-': 'K', '-..-': 'X', '.-..': 'L', '-.--': 'Y', '--': 'M', '--..': 'Z', '': ' '}\n"
     ]
    }
   ],
   "source": [
    "# 모스부호 해석기 만들기\n",
    "## 문서의 텍스트 파싱 하여 리스트 만들기\n",
    "text=\"\"\"A\t.-\tN\t-.\n",
    "B\t-...\tO\t---\n",
    "C\t-.-.\tP\t.--.\n",
    "D\t-..\tQ\t--.-\n",
    "E\t.\tR\t.-.\n",
    "F\t..-.\tS\t...\n",
    "G\t--.\tT\t-\n",
    "H\t....\tU\t..-\n",
    "I\t..\tV\t...-\n",
    "J\t.---\tW\t.--\n",
    "K\t-.-\tX\t-..-\n",
    "L\t.-..\tY\t-.--\n",
    "M\t--\tZ\t--..\"\"\"\n",
    "text_list = text.split()\n",
    "\n",
    "## 만든 리스트를 포문을 이용하여 딕셔너리 만들기\n",
    "mos_dict={}\n",
    "for i in range(0,len(text_list),2):    ## 0부터 text_list의 길이까지 2단계씩 건너서 뽑는다. 그래야 value에 해당하는 부호 값만 출력 가능 \n",
    "    ##print (text_list[i+1])           ## 규칙 찾기, 0에서 시작할때 알파벳이 짝수번째 부호가 홀수번째\n",
    "    mos_dict[text_list[i+1]]= text_list[i]\n",
    "##print (mos_dict)                     ## 완성된 dict 확인\n",
    "\n",
    "\n",
    "## 부호 문자열을 리스트로 가공\n",
    "mos_list=[]\n",
    "mos_list= input()\n",
    "mo2 =mos_list.split(' ')   ## spllit()은 공백의 갯수 상관 없이 나눔, split(' ')는 공백의 갯수 만큼 나눔\n",
    "print (mo2) ## input list 확인\n",
    "## 공백 구분위해서 mos_dict에 공백에 해당하는 key /val 추가\n",
    "mos_dict['']= ' '\n",
    "print(mos_dict)\n",
    "## for 문 통해 리스트와 딕셔너리 비교\n",
    "for i in mo2:\n",
    "    if i in mos_dict:\n",
    "        print(mos_dict[i], end='')"
   ]
  },
  {
   "cell_type": "code",
   "execution_count": 46,
   "id": "a0f14aad-35f7-41dd-898d-36576bc653dd",
   "metadata": {},
   "outputs": [
    {
     "name": "stdout",
     "output_type": "stream",
     "text": [
      "['H', 'E', 'L', 'L', 'O', ' ', 'M', 'Y', ' ', 'F', 'R', 'I', 'E', 'N', 'D']\n",
      ".... . .-.. .-.. ---  -- -.--  ..-. .-. .. . -. -.. "
     ]
    }
   ],
   "source": [
    "## 모스부호 생성기 만들기\n",
    "## 문서의 텍스트 파싱 하여 리스트 만들기\n",
    "text=\"\"\"A\t.-\tN\t-.\n",
    "B\t-...\tO\t---\n",
    "C\t-.-.\tP\t.--.\n",
    "D\t-..\tQ\t--.-\n",
    "E\t.\tR\t.-.\n",
    "F\t..-.\tS\t...\n",
    "G\t--.\tT\t-\n",
    "H\t....\tU\t..-\n",
    "I\t..\tV\t...-\n",
    "J\t.---\tW\t.--\n",
    "K\t-.-\tX\t-..-\n",
    "L\t.-..\tY\t-.--\n",
    "M\t--\tZ\t--..\"\"\"\n",
    "t1 = text.split()\n",
    "##print(t1)\n",
    "## 딕셔너리 만들기\n",
    "m_dic = {}\n",
    "for i in range(0,len(t1),2):  ## 두칸씩 솔팅하여 규칙성 찾기, 알파벳만 뽑기 \n",
    "    m_dic[t1[i]]= t1[i+1]\n",
    "##print(m_dic)\n",
    "\n",
    "input_list=[]\n",
    "re_list=[]\n",
    "## 받은 문자를 하나하나씩 자르고 공백은 따로 저장\n",
    "input_txt =input()\n",
    "# 공박 포함 글자 하나 하나를 리스트에 담는다.\n",
    "for i in range(len(input_txt)):\n",
    "    re_list.append(input_txt[i].upper())\n",
    "print (re_list)\n",
    "m_dic[' '] = ''\n",
    "for j in re_list:\n",
    "    if j in m_dic:\n",
    "        # 키에 맞는 값 뽑기\n",
    "        print(m_dic[j],'', end='')"
   ]
  },
  {
   "cell_type": "code",
   "execution_count": 48,
   "id": "620ab339-6baa-4c15-b48a-2c45daaa1acc",
   "metadata": {},
   "outputs": [
    {
     "data": {
      "text/plain": [
       "'hello my friend'"
      ]
     },
     "execution_count": 48,
     "metadata": {},
     "output_type": "execute_result"
    }
   ],
   "source": [
    "' '.join(['hello', 'my', 'friend'])"
   ]
  },
  {
   "cell_type": "code",
   "execution_count": 49,
   "id": "59a7be20",
   "metadata": {},
   "outputs": [
    {
     "data": {
      "text/plain": [
       "['H', 'E', 'L', 'L', 'O', ' ', 'M', 'Y', ' ', 'F', 'R', 'I', 'E', 'N', 'D']"
      ]
     },
     "execution_count": 49,
     "metadata": {},
     "output_type": "execute_result"
    }
   ],
   "source": [
    "re_list"
   ]
  },
  {
   "cell_type": "code",
   "execution_count": 50,
   "id": "b7b12c63-59e8-49a8-a2f0-9bab3744cf18",
   "metadata": {},
   "outputs": [
    {
     "name": "stdout",
     "output_type": "stream",
     "text": [
      ".... . .-.. .-.. ---  \n",
      ".... . .-.. .-.. ---   -- -.--  \n",
      ".... . .-.. .-.. ---   -- -.--   ..-. .-. .. . -. -..\n"
     ]
    }
   ],
   "source": [
    "## 공백과 딕셔너리 넣는 새로운 방법, 모스부호를 변수에 넣었다.\n",
    "\n",
    "plain  = ''\n",
    "for i in re_list :\n",
    "    if i == ' ':\n",
    "        plain +=i  ## 안에 공백  추가\n",
    "    else :\n",
    "        plain += m_dic[i] ## 딕셔너리의 i번째 추가\n",
    "    plain  += ' ' \n",
    "print(plain.rstrip())"
   ]
  }
 ],
 "metadata": {
  "kernelspec": {
   "display_name": "Python 3",
   "language": "python",
   "name": "python3"
  },
  "language_info": {
   "codemirror_mode": {
    "name": "ipython",
    "version": 3
   },
   "file_extension": ".py",
   "mimetype": "text/x-python",
   "name": "python",
   "nbconvert_exporter": "python",
   "pygments_lexer": "ipython3",
   "version": "3.8.9"
  },
  "vscode": {
   "interpreter": {
    "hash": "31f2aee4e71d21fbe5cf8b01ff0e069b9275f58929596ceb00d14d90e3e16cd6"
   }
  }
 },
 "nbformat": 4,
 "nbformat_minor": 5
}
